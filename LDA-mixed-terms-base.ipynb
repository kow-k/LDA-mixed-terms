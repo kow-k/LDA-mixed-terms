{
 "cells": [
  {
   "cell_type": "code",
   "execution_count": 70,
   "id": "84e7c71b",
   "metadata": {},
   "outputs": [],
   "source": [
    "#!pip3 install 'pyLDAvis>3,<3.4'"
   ]
  },
  {
   "cell_type": "code",
   "execution_count": 71,
   "id": "b1e09714",
   "metadata": {},
   "outputs": [],
   "source": [
    "#!pip3 install -U plotly\n",
    "#!pip3 install -U seaborn\n",
    "#!pip3 install -U adjustText\n",
    "#!pip3 uninstall umap -y\n",
    "#!pip install -U umap-learn"
   ]
  },
  {
   "cell_type": "raw",
   "id": "4a988fdd-87bf-4ea8-9fd4-b39dd84a0013",
   "metadata": {
    "vscode": {
     "languageId": "raw"
    }
   },
   "source": [
    "LDA で分野混合の用語クラスタリングを実行する\n",
    "開発: 黒田 航 (kow.kuroda@gmail.com)\n",
    "\n",
    "2024/02/17 に料理用語の処理を追加\n",
    "2024/03/01 カタカナを含む語の除外処理を追加\n",
    "2024/03/21 i) FastText のエンコードの追加利用を可能にした, ii) aberrated terms の認識処理を追加\n",
    "2024/03/22 t-SNE の代わりにUMAP を使えるようにした\n",
    "2024/03/24 FastText を使ったエンコードの（ch1gram がterm になっていなかった）バグを修正\n",
    "2024/04/25 DBSCAN clustering をクラスター数を自動で色数の上限の24以下の最大値にする処理を実装\n",
    "2024/04/28 i) クラスターの配属傾向の相関を類似度とし，Heatmap を使った可視化を実装, ii) philosophical を追加\n",
    "2024/04/29 LDA に拠るterms のクラスタリングを追加\n",
    "2024/06/28 skippy n-gram の生成を一般的な n に拡張: grams_skippy.py の代わりに gen_ngrams.py が必要\n",
    "2024/08/02 Python 3.9で動作しない事を確認\n",
    "2024/08/19 Cython を使ったn-gram 生成の高速化を任意で実行可能とした\n",
    "2024/09/02 n-gram 生成のgeneric function を定義し，n-gram 生成手順を簡略化した\n",
    "2024/10/28 n-gram 生成のgeneric function をNumPy-savvy にして高速化. Cython がなくてもそれなりに処理は速い．\n",
    "2025/07/16 Partially Labeled LDA で，半教師あり分類を実現"
   ]
  },
  {
   "cell_type": "code",
   "execution_count": 72,
   "id": "3a9a5c36",
   "metadata": {},
   "outputs": [],
   "source": [
    "## NBConvert のために\n",
    "#!pip install -U nbconvert\n",
    "#!pip install -U pyppeteer"
   ]
  },
  {
   "cell_type": "code",
   "execution_count": 73,
   "id": "ebe13212",
   "metadata": {
    "tags": []
   },
   "outputs": [],
   "source": [
    "## imports\n",
    "import sys, os, random, re, glob, copy\n",
    "import pprint as pp\n",
    "#import pandas as pd\n",
    "import pandas as pd\n",
    "pd.set_option(\"display.precision\", 4)"
   ]
  },
  {
   "cell_type": "markdown",
   "id": "fdd47d66",
   "metadata": {},
   "source": [
    "# 上位パラメターの設定"
   ]
  },
  {
   "cell_type": "code",
   "execution_count": 74,
   "id": "d70e3819",
   "metadata": {},
   "outputs": [
    {
     "name": "stdout",
     "output_type": "stream",
     "text": [
      "n_cores: 4\n"
     ]
    }
   ],
   "source": [
    "## n_cores\n",
    "import os\n",
    "cpu_balancer = 2\n",
    "n_cores = max(1, round(os.cpu_count()/cpu_balancer))\n",
    "print(f\"n_cores: {n_cores}\")"
   ]
  },
  {
   "cell_type": "code",
   "execution_count": 75,
   "id": "8c124270",
   "metadata": {},
   "outputs": [],
   "source": [
    "## Cython の導入\n",
    "#!conda install cython -y"
   ]
  },
  {
   "cell_type": "code",
   "execution_count": 76,
   "id": "a2d3e6c7",
   "metadata": {},
   "outputs": [],
   "source": [
    "## run the follwing once before you use Cython\n",
    "#!python setup.py clean build_ext --inplace"
   ]
  },
  {
   "cell_type": "code",
   "execution_count": 77,
   "id": "169c06a9",
   "metadata": {},
   "outputs": [],
   "source": [
    "## Cython を使うかどうか\n",
    "use_Cython = False\n",
    "if use_Cython:\n",
    "    %load_ext Cython"
   ]
  },
  {
   "cell_type": "markdown",
   "id": "ddc364bc",
   "metadata": {},
   "source": [
    "# 一般設定"
   ]
  },
  {
   "cell_type": "code",
   "execution_count": 78,
   "id": "cc911870",
   "metadata": {},
   "outputs": [],
   "source": [
    "## 一般設定\n",
    "verbose           = False\n",
    "save_data         = False\n",
    "save_df_sampled   = False"
   ]
  },
  {
   "cell_type": "code",
   "execution_count": 79,
   "id": "2f3b634a",
   "metadata": {},
   "outputs": [
    {
     "name": "stdout",
     "output_type": "stream",
     "text": [
      "boundary_symbol: #\n",
      "add_boundaries: True\n",
      "term_type to use: sk2gram\n",
      "ngram_is_inclusive: True\n",
      "gap_mark: …\n",
      "max_gap_ratio: 0.5\n",
      "max_gap_size (relative to max_do_size): 6\n"
     ]
    }
   ],
   "source": [
    "## doc, term の設定\n",
    "doc_type          = 'word'      # 変更不可\n",
    "\n",
    "## doc の最大長と最小長\n",
    "max_doc_length    = 11 # effective if discard_too_long is True\n",
    "min_doc_length    =  5 # effective if discard_too_short is True\n",
    "discard_too_long  = True\n",
    "discard_too_short = True\n",
    "\n",
    "## 特定形態の除外\n",
    "remove_stopwords        = False\n",
    "\n",
    "## カタカナを含む語の除外\n",
    "discard_kana_overloaded = True\n",
    "kana_tolerance          = 0.75\n",
    "\n",
    "## doc への境界記号の追加\n",
    "add_boundaries          = True # Likely to cause errors at adjustText\n",
    "boundary_symbol         = \"#\"\n",
    "print(f\"boundary_symbol: {boundary_symbol}\")\n",
    "print(f\"add_boundaries: {add_boundaries}\")\n",
    "\n",
    "## term\n",
    "term_size       = 'character' # 変更不可\n",
    "term_types      = [ '1gram', '2gram', '3gram', '4gram',\n",
    "                   'sk2gram', 'sk3gram', 'sk4gram' ]  \n",
    "term_type       = term_types[-3]\n",
    "print(f\"term_type to use: {term_type}\")\n",
    "\n",
    "## n-gram を包括 (n-gram が (n-1)を真に含む) 型にするかどうか\n",
    "## 包括型にしないと，n が大きくなった時にエンコードされない事例が生じる\n",
    "ngram_is_inclusive      = True\n",
    "print(f\"ngram_is_inclusive: {ngram_is_inclusive}\")\n",
    "ngram_inclusiveness     = 2 # この値を dとすると，n-grams は (n-d) まで包括する\n",
    "\n",
    "## seg_joint\n",
    "seg_joint = \"\"\n",
    "\n",
    "## skippy n-gram の記号\n",
    "gap_mark = \"…\"\n",
    "print(f\"gap_mark: {gap_mark}\")\n",
    "\n",
    "## skippy n-gram が結びつく最長の gram数: bigram と trigram で共有\n",
    "max_gap_ratio = 0.5\n",
    "print(f\"max_gap_ratio: {max_gap_ratio}\")\n",
    "max_gap_size = round(max_doc_length * max_gap_ratio)\n",
    "print(f\"max_gap_size (relative to max_do_size): {max_gap_size}\")\n",
    "\n",
    "## 行の重複を解消する\n",
    "remove_duplicated_terms = True\n",
    "\n",
    "## Raw term の濾過: unigram から除外する\n",
    "remove_highly_frequent_unigrams = False # This destroys the word structure for n-grams (n > 1)\n",
    "cutoff_rate                     = 0.003 # discard the most frequest terms by <rate>"
   ]
  },
  {
   "cell_type": "code",
   "execution_count": 80,
   "id": "8d5a4c66",
   "metadata": {},
   "outputs": [
    {
     "name": "stdout",
     "output_type": "stream",
     "text": [
      "term_min_freq: 2\n",
      "abuse_threshold: 0.9\n"
     ]
    }
   ],
   "source": [
    "## LDA の設定\n",
    "\n",
    "## documents のencoding でLDA を使うか\n",
    "use_LDA              = True\n",
    "\n",
    "## documents のencoding で(Partically) Labeled LDA を使うか\n",
    "use_labeled_LDA             = True\n",
    "\n",
    "## topic 数の指定\n",
    "## 1) term_type が複雑になるほど，多くのtopic が高精度で認識される？\n",
    "## 2) 連続n-gram なら，topic 数は用語分類が目的であれば，分野数ぐらいが最適？\n",
    "n_topics             = 10\n",
    "\n",
    "## alpha の決め方\n",
    "lda_uses_fixed_alpha = False # Uses 'auto'\n",
    "lda_alpha_val        = 0.001\n",
    "\n",
    "## DTM のterm 濾過の設定\n",
    "term_min_freq        = 2 # 最低頻度\n",
    "print(f\"term_min_freq: {term_min_freq}\")\n",
    "\n",
    "term_abuse_rates = [ 0.01, 0.1, 0.33, 0.5, 0.67, 0.90, 0.99 ]\n",
    "#abuse_threshold      = 0.5 # 値が小さい方が濾過力が大きい．0.1 は十分に大きい．\n",
    "term_abuse_rate  = term_abuse_rates[-2]\n",
    "print(f\"abuse_threshold: {term_abuse_rate}\")"
   ]
  },
  {
   "cell_type": "code",
   "execution_count": 81,
   "id": "2303fb95",
   "metadata": {},
   "outputs": [
    {
     "name": "stdout",
     "output_type": "stream",
     "text": [
      "FastText creates encodings for 1gram with window of 5\n"
     ]
    }
   ],
   "source": [
    "### FastText 用の設定\n",
    "\n",
    "## documents のencoding でFastText を使うか: LDA と併用可能\n",
    "use_FastText  = False\n",
    "\n",
    "ft_token_sep = \" \"\n",
    "\n",
    "## FT corpus 構築で使う term_type\n",
    "ft_term_types = [ '1gram', '2gram', '3gram', '4gram', '5gram' ]\n",
    "ft_term_type  = ft_term_types[0]\n",
    "\n",
    "## FastText のパラメター window の値: skippy n-gram のn に相当\n",
    "ft_window_size = 5 # FastText's default value is 5\n",
    "print(f\"FastText creates encodings for {ft_term_type} with window of {ft_window_size}\")\n",
    "\n",
    "## dims（LDA のn_topics に相当）の指定\n",
    "ft_n_dims_factor = 0.5\n",
    "ft_n_dims = round(n_topics * ft_n_dims_factor)\n",
    "\n",
    "## 設定の確認\n",
    "assert use_LDA or use_FastText\n",
    "if use_FastText:\n",
    "    print(f\"FastText creates encoding vectors of {ft_n_dims} dimensions\")"
   ]
  },
  {
   "cell_type": "code",
   "execution_count": 82,
   "id": "ece4efe1",
   "metadata": {},
   "outputs": [
    {
     "name": "stdout",
     "output_type": "stream",
     "text": [
      "top_perplexity_rate: 0.5\n",
      "doc_perplexity_reduct_rate: 0.2\n"
     ]
    }
   ],
   "source": [
    "## tSNE の設定\n",
    "## topic の tSNE 用の設定\n",
    "top_perplexity_reduct_rate = 0.5\n",
    "print(f\"top_perplexity_rate: {top_perplexity_reduct_rate}\")\n",
    "\n",
    "## doc の tSNE 用の設定\n",
    "doc_perplexity_reduct_rate1 = 2.0 # topic数に依存する場合\n",
    "doc_perplexity_reduct_rate2 = 0.2 # doc数に依存する場合\n",
    "\n",
    "## doc_perplexity を n_topics に基づいて決めるか事例数に基づいて決めるかの選択\n",
    "doc_perplexity_depends_on_n_topics = False\n",
    "if doc_perplexity_depends_on_n_topics:\n",
    "    doc_perplexity_reduc_rate = doc_perplexity_reduct_rate1\n",
    "else:\n",
    "    doc_perplexity_reduct_rate = doc_perplexity_reduct_rate2\n",
    "print(f\"doc_perplexity_reduct_rate: {doc_perplexity_reduct_rate}\")"
   ]
  },
  {
   "cell_type": "code",
   "execution_count": 83,
   "id": "6f66b44b",
   "metadata": {},
   "outputs": [],
   "source": [
    "## UMAP の設定\n",
    "use_UMAP = False # t-SNE を使った documents の次元圧縮を無効化\n",
    "\n",
    "## n_neighbours, min_dist の最適化は事前に行ってあるが，変更する事は可能\n",
    "umap_n_neighbors = 6\n",
    "umap_min_dist    = 0.2\n",
    "\n",
    "## 距離指標の選択: このデータに関しては，correlation の他の距離指標は効果的でない\n",
    "## 事がわかっている\n",
    "umap_metrics = [    'correlation',  # effective\n",
    "                    'cosine', 'euclidean', # ineffectives\n",
    "                    'canberra', 'braycurtis', 'manhattan', 'minkowski', # poor\n",
    "                    'mahalanobis' # fails\n",
    "                ]\n",
    "#\n",
    "umap_metric = umap_metrics[0]\n",
    "##\n",
    "if use_UMAP:\n",
    "    use_tSNE = False\n",
    "    print(f\"UMAP uses <{umap_metric}> for metric\")\n",
    "else:\n",
    "    use_tSNE = True"
   ]
  },
  {
   "cell_type": "markdown",
   "id": "fb668250",
   "metadata": {},
   "source": [
    "使用データの設定"
   ]
  },
  {
   "cell_type": "code",
   "execution_count": 84,
   "id": "2aa33279",
   "metadata": {},
   "outputs": [
    {
     "name": "stdout",
     "output_type": "stream",
     "text": [
      "target_vars: ['word', 'medical', 'mce', 'economic', 'juridical', 'publishing', 'cooking', 'philosophical', 'buddhist']\n",
      "selected domains: ['medical', 'mce', 'economic', 'juridical', 'publishing', 'cooking', 'philosophical', 'buddhist']\n",
      "domain balancing: True with 400 samples from each domain\n"
     ]
    }
   ],
   "source": [
    "## 分野の設定\n",
    "domain_back_encoding = { 0: 'medical', 1: 'mce',\n",
    "                        2: 'economic', 3: 'juridical', 4: 'publishing',\n",
    "                        5: 'cooking', 6: 'philosophical', 7: 'buddhist',\n",
    "                        8: 'other'\n",
    "                        }\n",
    "domain_encoding = { v: k for k, v in domain_back_encoding.items() }\n",
    "domain_names = domain_encoding.keys()\n",
    "\n",
    "## juridical のデータ拡張をするか\n",
    "add_juridic2 = True\n",
    "\n",
    "## 誤用を取り込むか\n",
    "include_aberrated = True # aberrated medical terms を含めるか\n",
    "\n",
    "## 解析対象分野の選別\n",
    "domain_selection = { 'medical'       : True,\n",
    "                     'mce'           : True,\n",
    "                     'economic'      : True,\n",
    "                     'juridical'     : True,\n",
    "                     'publishing'    : True,\n",
    "                     'cooking'       : True,\n",
    "                     'philosophical' : True,\n",
    "                     'buddhist'      : True\n",
    "                     }\n",
    "## 列名の定義\n",
    "target_vars = [ doc_type ]\n",
    "target_vars.extend(domain_selection.keys())\n",
    "print(f\"target_vars: {target_vars}\")\n",
    "## 分野の選択\n",
    "selected_domains = { k: v for k, v in domain_selection.items() if v == True } # as dictionary\n",
    "print(f\"selected domains: {[ k for k, v in selected_domains.items() if v == True ]}\")\n",
    "## 注目する分野の指定\n",
    "target_domain = 'medical'\n",
    "try:\n",
    "    assert target_domain in selected_domains.keys()\n",
    "except AssertionError:\n",
    "    print(f\"target {target_domain} not in selected domains\")\n",
    "## 分野毎の事例数の均衡化\n",
    "domain_sample_size = 400\n",
    "if len(selected_domains) > 1:\n",
    "    balanced = True\n",
    "else:\n",
    "    balanced = False\n",
    "print(f\"domain balancing: {balanced} with {domain_sample_size} samples from each domain\")"
   ]
  },
  {
   "cell_type": "code",
   "execution_count": 85,
   "id": "e3efda13",
   "metadata": {},
   "outputs": [
    {
     "name": "stdout",
     "output_type": "stream",
     "text": [
      "分野: 0 medical        => 色: deeppink\n",
      "分野: 1 mce            => 色: salmon\n",
      "分野: 2 economic       => 色: pink\n",
      "分野: 3 juridical      => 色: orange\n",
      "分野: 4 publishing     => 色: green\n",
      "分野: 5 cooking        => 色: khaki\n",
      "分野: 6 philosophical  => 色: skyblue\n",
      "分野: 7 buddhist       => 色: gray\n"
     ]
    }
   ],
   "source": [
    "## colormap の定義: N.B. Plotly go.Scatter_3D(..) では有効でない\n",
    "used_colors =  [ 'deeppink', 'salmon', 'pink',  'orange', 'green', 'khaki', 'skyblue', 'gray', 'black' ]\n",
    "colormap = { k : used_colors[k] for k, v in domain_back_encoding.items() if v in selected_domains.keys() }\n",
    "if verbose:\n",
    "    print(colormap)\n",
    "for k, v in colormap.items():\n",
    "    print(f\"分野: {k} {domain_back_encoding[k]}\".ljust(20) + \" => \".rjust(-10) + f\"色: {v}\")"
   ]
  },
  {
   "cell_type": "markdown",
   "id": "dbab5c18",
   "metadata": {},
   "source": [
    "# ファイルを読み込んでデータ構築"
   ]
  },
  {
   "cell_type": "code",
   "execution_count": 86,
   "id": "ad1e7b3d-c005-4967-978a-27cd826e4e60",
   "metadata": {
    "tags": []
   },
   "outputs": [],
   "source": [
    "## load data to process\n",
    "from pathlib import Path\n",
    "import pprint as pp\n",
    "wd = Path(\".\")\n",
    "dirs = [ x for x in wd.iterdir() if x.is_dir() and not x.match(r\"plot*\") ]\n",
    "if verbose:\n",
    "    print(f\"The following {len(dirs)} directories are potential targets:\")\n",
    "    pp.pprint(sorted(dirs))"
   ]
  },
  {
   "cell_type": "code",
   "execution_count": 87,
   "id": "b8460a82-a262-4379-8b8f-6aab9f8a262c",
   "metadata": {
    "tags": []
   },
   "outputs": [
    {
     "name": "stdout",
     "output_type": "stream",
     "text": [
      "\n",
      "terms-source contains 9 files to process\n",
      "[PosixPath('terms-source/terms-cooking-v2a.xlsx'),\n",
      " PosixPath('terms-source/terms-economic-v2b.xlsx'),\n",
      " PosixPath('terms-source/terms-juridical-v2a.xlsx'),\n",
      " PosixPath('terms-source/terms-juridical-v2b.xlsx'),\n",
      " PosixPath('terms-source/terms-mce-v2b.xlsx'),\n",
      " PosixPath('terms-source/terms-medical-errors-v2a.xlsx'),\n",
      " PosixPath('terms-source/terms-medical-v2a.xlsx'),\n",
      " PosixPath('terms-source/terms-philosophical-v2a.xlsx'),\n",
      " PosixPath('terms-source/terms-publishing-v2a.xlsx')]\n"
     ]
    }
   ],
   "source": [
    "## list up files in target directory \n",
    "targetdir = \"terms-source\" # can be changed\n",
    "files = sorted(list(wd.glob(f\"{targetdir}/terms*.xlsx\")))\n",
    "#\n",
    "print(f\"\\n{targetdir} contains {len(files)} files to process\")\n",
    "pp.pprint(files)"
   ]
  },
  {
   "cell_type": "code",
   "execution_count": 88,
   "id": "2da3eff2-1beb-4f34-9f44-b54daba971fe",
   "metadata": {},
   "outputs": [
    {
     "data": {
      "text/plain": [
       "[PosixPath('terms-source/terms-cooking-v2a.xlsx'),\n",
       " PosixPath('terms-source/terms-economic-v2b.xlsx'),\n",
       " PosixPath('terms-source/terms-juridical-v2a.xlsx'),\n",
       " PosixPath('terms-source/terms-mce-v2b.xlsx'),\n",
       " PosixPath('terms-source/terms-medical-v2a.xlsx'),\n",
       " PosixPath('terms-source/terms-philosophical-v2a.xlsx'),\n",
       " PosixPath('terms-source/terms-publishing-v2a.xlsx')]"
      ]
     },
     "execution_count": 88,
     "metadata": {},
     "output_type": "execute_result"
    }
   ],
   "source": [
    "## 本来のファイルの処理\n",
    "files_core = [ fn for fn in files if not \"juridical-v2b\" in str(fn) and not \"errors-v\" in str(fn) ]\n",
    "files_core"
   ]
  },
  {
   "cell_type": "code",
   "execution_count": 89,
   "id": "089f53e4-b886-47b3-ba8a-0bad114682ca",
   "metadata": {},
   "outputs": [],
   "source": [
    "## 必要に応じて次を実行\n",
    "#!conda install openpyxl -y\n",
    "##\n",
    "#!pip install -U openpyxl"
   ]
  },
  {
   "cell_type": "code",
   "execution_count": 90,
   "id": "db042ad0-fe13-42bc-ab8f-46e37eea1d0e",
   "metadata": {
    "scrolled": true
   },
   "outputs": [
    {
     "data": {
      "text/plain": [
       "[      local.id        word  unique  medical  mce  economic  juridical  \\\n",
       " 0          1.0      8番らーめん     1.0      0.0  0.0       0.0        0.0   \n",
       " 1          2.0      ABCスープ     1.0      0.0  0.0       0.0        0.0   \n",
       " 2          3.0        Aランチ     1.0      0.0  0.0       0.0        0.0   \n",
       " 3          4.0      BTSサラダ     1.0      0.0  0.0       0.0        0.0   \n",
       " 4          5.0  SIOコンコーンカツ     1.0      0.0  0.0       0.0        0.0   \n",
       " ...        ...         ...     ...      ...  ...       ...        ...   \n",
       " 4922    4987.0       黒豆サラダ     1.0      0.0  0.0       0.0        0.0   \n",
       " 4923    4988.0     黒部ダムカレー     1.0      0.0  0.0       0.0        0.0   \n",
       " 4924    4989.0         龍眼卵     1.0      0.0  0.0       0.0        0.0   \n",
       " 4925    4990.0      龍馬ギョーザ     1.0      0.0  0.0       0.0        0.0   \n",
       " 4926    4991.0       龍馬タタキ     1.0      0.0  0.0       0.0        0.0   \n",
       " \n",
       "       publishing  cooking  philosophical  buddhist  valid     rid  subsampled  \\\n",
       " 0            0.0      1.0            0.0       0.0    1.0  4864.0         0.0   \n",
       " 1            0.0      1.0            0.0       0.0    1.0  1384.0         0.0   \n",
       " 2            0.0      1.0            0.0       0.0    1.0  1454.0         0.0   \n",
       " 3            0.0      1.0            0.0       0.0    1.0  1271.0         0.0   \n",
       " 4            0.0      1.0            0.0       0.0    1.0   104.0         1.0   \n",
       " ...          ...      ...            ...       ...    ...     ...         ...   \n",
       " 4922         0.0      1.0            0.0       0.0    1.0  3844.0         0.0   \n",
       " 4923         0.0      1.0            0.0       0.0    1.0  4045.0         0.0   \n",
       " 4924         0.0      1.0            0.0       0.0    1.0  4911.0         0.0   \n",
       " 4925         0.0      1.0            0.0       0.0    1.0  1282.0         0.0   \n",
       " 4926         0.0      1.0            0.0       0.0    1.0   931.0         0.0   \n",
       " \n",
       "       note  \n",
       " 0      NaN  \n",
       " 1      NaN  \n",
       " 2      NaN  \n",
       " 3      NaN  \n",
       " 4      NaN  \n",
       " ...    ...  \n",
       " 4922   NaN  \n",
       " 4923   NaN  \n",
       " 4924   NaN  \n",
       " 4925   NaN  \n",
       " 4926   NaN  \n",
       " \n",
       " [4927 rows x 15 columns],\n",
       "      local.id           word  unique  medical  mce  economic  juridical  \\\n",
       " 0         1.0        2国間投資協定     1.0      0.0  0.0       1.0        0.0   \n",
       " 1         2.0          5％ルール     1.0      0.0  0.0       1.0        0.0   \n",
       " 2         3.0  88年包括通商競争力強化法     1.0      0.0  0.0       1.0        0.0   \n",
       " 3         4.0            ADB     1.0      0.0  0.0       1.0        0.0   \n",
       " 4         5.0           APEC     1.0      0.0  0.0       1.0        0.0   \n",
       " ..        ...            ...     ...      ...  ...       ...        ...   \n",
       " 502     503.0          非関税障壁     1.0      0.0  0.0       1.0        0.0   \n",
       " 503     504.0         預金保険機構     1.0      0.0  0.0       1.0        0.0   \n",
       " 504     505.0           預金通貨     1.0      0.0  0.0       1.0        0.0   \n",
       " 505     506.0            領主制     1.0      0.0  0.0       1.0        0.0   \n",
       " 506     507.0           養殖漁業     1.0      0.0  0.0       1.0        0.0   \n",
       " \n",
       "      publishing  cooking  philosophical  buddhist  nchar    rid  subsampled  \\\n",
       " 0           0.0      0.0            0.0       0.0    7.0  257.0         1.0   \n",
       " 1           0.0      0.0            0.0       0.0    5.0  271.0         1.0   \n",
       " 2           0.0      0.0            0.0       0.0   13.0  142.0         1.0   \n",
       " 3           0.0      0.0            0.0       0.0    3.0  260.0         1.0   \n",
       " 4           0.0      0.0            0.0       0.0    4.0  487.0         1.0   \n",
       " ..          ...      ...            ...       ...    ...    ...         ...   \n",
       " 502         0.0      0.0            0.0       0.0    5.0  297.0         1.0   \n",
       " 503         0.0      0.0            0.0       0.0    6.0  151.0         1.0   \n",
       " 504         0.0      0.0            0.0       0.0    4.0  370.0         1.0   \n",
       " 505         0.0      0.0            0.0       0.0    3.0  149.0         1.0   \n",
       " 506         0.0      0.0            0.0       0.0    4.0  163.0         1.0   \n",
       " \n",
       "      note  \n",
       " 0     NaN  \n",
       " 1     NaN  \n",
       " 2     NaN  \n",
       " 3     NaN  \n",
       " 4     NaN  \n",
       " ..    ...  \n",
       " 502   NaN  \n",
       " 503   NaN  \n",
       " 504   NaN  \n",
       " 505   NaN  \n",
       " 506   NaN  \n",
       " \n",
       " [507 rows x 15 columns],\n",
       "      local.id          word  unique  medical  mce  economic  juridical  \\\n",
       " 0         3.0            DV     1.0      0.0  0.0       0.0        1.0   \n",
       " 1       207.0  アクセシビリティポリシー     1.0      0.0  0.0       0.0        1.0   \n",
       " 2        59.0           三審制     1.0      0.0  0.0       0.0        1.0   \n",
       " 3        97.0          不貞行為     1.0      0.0  0.0       0.0        1.0   \n",
       " 4        60.0           不起訴     1.0      0.0  0.0       0.0        1.0   \n",
       " ..        ...           ...     ...      ...  ...       ...        ...   \n",
       " 203      57.0            養子     1.0      0.0  0.0       0.0        1.0   \n",
       " 204     159.0          養子縁組     1.0      0.0  0.0       0.0        1.0   \n",
       " 205      96.0           養育費     1.0      0.0  0.0       0.0        1.0   \n",
       " 206      58.0            養親     1.0      0.0  0.0       0.0        1.0   \n",
       " 207     184.0         高等裁判所     1.0      0.0  0.0       0.0        1.0   \n",
       " \n",
       "      publishing  cooking  philosophical  buddhist  nchar    rid  subsampled  \\\n",
       " 0           0.0      0.0            0.0       0.0    2.0   14.0         1.0   \n",
       " 1           0.0      0.0            0.0       0.0   12.0   20.0         1.0   \n",
       " 2           0.0      0.0            0.0       0.0    3.0  109.0         1.0   \n",
       " 3           0.0      0.0            0.0       0.0    4.0  166.0         1.0   \n",
       " 4           0.0      0.0            0.0       0.0    3.0  150.0         1.0   \n",
       " ..          ...      ...            ...       ...    ...    ...         ...   \n",
       " 203         0.0      0.0            0.0       0.0    2.0  164.0         1.0   \n",
       " 204         0.0      0.0            0.0       0.0    4.0  118.0         1.0   \n",
       " 205         0.0      0.0            0.0       0.0    3.0   80.0         1.0   \n",
       " 206         0.0      0.0            0.0       0.0    2.0  145.0         1.0   \n",
       " 207         0.0      0.0            0.0       0.0    5.0   23.0         1.0   \n",
       " \n",
       "      note  \n",
       " 0     NaN  \n",
       " 1     NaN  \n",
       " 2     NaN  \n",
       " 3     NaN  \n",
       " 4     NaN  \n",
       " ..    ...  \n",
       " 203   NaN  \n",
       " 204   NaN  \n",
       " 205   NaN  \n",
       " 206   NaN  \n",
       " 207   NaN  \n",
       " \n",
       " [208 rows x 15 columns],\n",
       "      local.id            word  unique  medical  mce  economic  juridical  \\\n",
       " 0        41.0     (酸素?)飽和度不安定     1.0      0.0  1.0       0.0        0.0   \n",
       " 1       696.0           1Mメンテ     1.0      0.0  1.0       0.0        0.0   \n",
       " 2       693.0            1日3食     1.0      0.0  1.0       0.0        0.0   \n",
       " 3       197.0  2%キシロカインE8万倍含有     1.0      0.0  1.0       0.0        0.0   \n",
       " 4       126.0        2%サンピロ点眼     1.0      0.0  1.0       0.0        0.0   \n",
       " ..        ...             ...     ...      ...  ...       ...        ...   \n",
       " 817      94.0       黄色膿性浸出液付着     1.0      0.0  1.0       0.0        0.0   \n",
       " 818     471.0            鼓室開放     1.0      0.0  1.0       0.0        0.0   \n",
       " 819      80.0        鼠径部クーリング     1.0      0.0  1.0       0.0        0.0   \n",
       " 820     177.0           鼠径部刺入     1.0      0.0  1.0       0.0        0.0   \n",
       " 821     133.0            鼻翼基部     1.0      0.0  1.0       0.0        0.0   \n",
       " \n",
       "      publishing  cooking  philosophical  buddhist  nchar  nseg  confidence  \\\n",
       " 0           0.0      0.0            0.0       0.0   11.0   2.0         1.0   \n",
       " 1           0.0      0.0            0.0       0.0    5.0   2.0         1.0   \n",
       " 2           0.0      0.0            0.0       0.0    4.0   2.0         1.0   \n",
       " 3           0.0      0.0            0.0       0.0   14.0   3.0         1.0   \n",
       " 4           0.0      0.0            0.0       0.0    8.0   2.0         1.0   \n",
       " ..          ...      ...            ...       ...    ...   ...         ...   \n",
       " 817         0.0      0.0            0.0       0.0    9.0   4.0         1.0   \n",
       " 818         0.0      0.0            0.0       0.0    4.0   2.0         2.0   \n",
       " 819         0.0      0.0            0.0       0.0    8.0   2.0         2.0   \n",
       " 820         0.0      0.0            0.0       0.0    5.0   2.0         1.0   \n",
       " 821         0.0      0.0            0.0       0.0    4.0   2.0         0.0   \n",
       " \n",
       "        rid  subsampled  Note  \n",
       " 0    237.0         1.0   NaN  \n",
       " 1    497.0         1.0   NaN  \n",
       " 2    119.0         1.0   NaN  \n",
       " 3     59.0         1.0   NaN  \n",
       " 4    174.0         1.0   NaN  \n",
       " ..     ...         ...   ...  \n",
       " 817  596.0         0.0   NaN  \n",
       " 818  308.0         1.0   NaN  \n",
       " 819  631.0         0.0   NaN  \n",
       " 820  483.0         1.0   NaN  \n",
       " 821   24.0         1.0   NaN  \n",
       " \n",
       " [822 rows x 17 columns],\n",
       "       local.id       word  unique  medical  mce  economic  juridical  \\\n",
       " 0       1570.0      1型糖尿病     1.0      1.0  0.0       0.0        0.0   \n",
       " 1       1563.0      2型糖尿病     1.0      1.0  0.0       0.0        0.0   \n",
       " 2       1580.0      HIV感染     1.0      1.0  0.0       0.0        0.0   \n",
       " 3       2840.0    アキレス腱挫傷     1.0      1.0  0.0       0.0        0.0   \n",
       " 4       3305.0  アキレス腱断裂手術     1.0      1.0  0.0       0.0        0.0   \n",
       " ...        ...        ...     ...      ...  ...       ...        ...   \n",
       " 3525     746.0       鼻翼呼吸     1.0      1.0  0.0       0.0        0.0   \n",
       " 3526     668.0       鼻腔腫瘍     1.0      1.0  0.0       0.0        0.0   \n",
       " 3527    2382.0     鼻腔良性腫瘍     1.0      1.0  0.0       0.0        0.0   \n",
       " 3528    1132.0       鼻部挫傷     1.0      1.0  0.0       0.0        0.0   \n",
       " 3529    2746.0     鼻部皮下出血     1.0      1.0  0.0       0.0        0.0   \n",
       " \n",
       "       publishing  cooking  philosophical  buddhist  nchar     rid  subsampled  \\\n",
       " 0            0.0      0.0            0.0       0.0    5.0  3357.0         0.0   \n",
       " 1            0.0      0.0            0.0       0.0    5.0  1556.0         0.0   \n",
       " 2            0.0      0.0            0.0       0.0    5.0  1135.0         0.0   \n",
       " 3            0.0      0.0            0.0       0.0    7.0  2091.0         0.0   \n",
       " 4            0.0      0.0            0.0       0.0    9.0    20.0         1.0   \n",
       " ...          ...      ...            ...       ...    ...     ...         ...   \n",
       " 3525         0.0      0.0            0.0       0.0    4.0  3273.0         0.0   \n",
       " 3526         0.0      0.0            0.0       0.0    4.0   700.0         0.0   \n",
       " 3527         0.0      0.0            0.0       0.0    6.0   534.0         0.0   \n",
       " 3528         0.0      0.0            0.0       0.0    4.0  2333.0         0.0   \n",
       " 3529         0.0      0.0            0.0       0.0    6.0   981.0         0.0   \n",
       " \n",
       "       strictly.medical note  \n",
       " 0                  1.0  NaN  \n",
       " 1                  1.0  NaN  \n",
       " 2                  1.0  NaN  \n",
       " 3                  1.0  NaN  \n",
       " 4                  1.0  NaN  \n",
       " ...                ...  ...  \n",
       " 3525               1.0  NaN  \n",
       " 3526               1.0  NaN  \n",
       " 3527               1.0  NaN  \n",
       " 3528               1.0  NaN  \n",
       " 3529               1.0  NaN  \n",
       " \n",
       " [3529 rows x 16 columns],\n",
       "      local.id  word  unique  medical  mce  economic  juridical  publishing  \\\n",
       " 0         1.0   論理学     1.0      0.0  0.0       0.0        0.0         0.0   \n",
       " 1         2.0  形而上学     1.0      0.0  0.0       0.0        0.0         0.0   \n",
       " 2         3.0   倫理学     1.0      0.0  0.0       0.0        0.0         0.0   \n",
       " 3         4.0   知識論     1.0      0.0  0.0       0.0        0.0         0.0   \n",
       " 4         5.0    美学     1.0      0.0  0.0       0.0        0.0         0.0   \n",
       " ..        ...   ...     ...      ...  ...       ...        ...         ...   \n",
       " 235     236.0   菩提心     1.0      0.0  0.0       0.0        0.0         0.0   \n",
       " 236     237.0    菩薩     1.0      0.0  0.0       0.0        0.0         0.0   \n",
       " 237     238.0     覚     1.0      0.0  0.0       0.0        0.0         0.0   \n",
       " 238     239.0    観想     1.0      0.0  0.0       0.0        0.0         0.0   \n",
       " 239     240.0    輪廻     1.0      0.0  0.0       0.0        0.0         0.0   \n",
       " \n",
       "      cooking  philosophical  buddhist  nchar    rid  subsampled  note  \n",
       " 0        0.0            1.0       0.0    3.0   65.0         1.0   NaN  \n",
       " 1        0.0            1.0       0.0    4.0  157.0         1.0   NaN  \n",
       " 2        0.0            1.0       0.0    3.0  172.0         1.0   NaN  \n",
       " 3        0.0            1.0       0.0    3.0  188.0         1.0   NaN  \n",
       " 4        0.0            1.0       0.0    2.0   91.0         1.0   NaN  \n",
       " ..       ...            ...       ...    ...    ...         ...   ...  \n",
       " 235      0.0            1.0       1.0    3.0   85.0         1.0   NaN  \n",
       " 236      0.0            1.0       1.0    2.0   67.0         1.0   NaN  \n",
       " 237      0.0            1.0       1.0    1.0    1.0         1.0   NaN  \n",
       " 238      0.0            1.0       1.0    2.0   38.0         1.0   NaN  \n",
       " 239      0.0            1.0       1.0    2.0   53.0         1.0   NaN  \n",
       " \n",
       " [240 rows x 15 columns],\n",
       "       local.id        word  unique  medical  mce  economic  juridical  \\\n",
       " 564       88.0        1枚折り     1.0      0.0  0.0       0.0        0.0   \n",
       " 565       90.0        1枚貼り     1.0      0.0  0.0       0.0        0.0   \n",
       " 566     1989.0  4ページノリ貼り製本     1.0      0.0  0.0       0.0        0.0   \n",
       " 567      188.0          A判     1.0      0.0  0.0       0.0        0.0   \n",
       " 568      417.0        CALS     1.0      0.0  0.0       0.0        0.0   \n",
       " ...        ...         ...     ...      ...  ...       ...        ...   \n",
       " 2082     448.0          黄板     1.0      0.0  0.0       0.0        0.0   \n",
       " 2083     466.0         黄表紙     1.0      0.0  0.0       0.0        0.0   \n",
       " 2084     215.0        黄金分割     1.0      0.0  0.0       0.0        0.0   \n",
       " 2085     675.0         黒損率     1.0      0.0  0.0       0.0        0.0   \n",
       " 2086     931.0           墨     1.0      0.0  0.0       0.0        0.0   \n",
       " \n",
       "       publishing  cooking  philosophical  buddhist  nchar     rid  subsampled  \\\n",
       " 564          1.0      0.0            0.0       0.0    4.0   933.0         0.0   \n",
       " 565          1.0      0.0            0.0       0.0    4.0  1577.0         0.0   \n",
       " 566          1.0      0.0            0.0       0.0   10.0   979.0         0.0   \n",
       " 567          1.0      0.0            0.0       0.0    2.0   678.0         0.0   \n",
       " 568          1.0      0.0            0.0       0.0    4.0   423.0         1.0   \n",
       " ...          ...      ...            ...       ...    ...     ...         ...   \n",
       " 2082         1.0      0.0            0.0       0.0    2.0  1053.0         0.0   \n",
       " 2083         1.0      0.0            0.0       0.0    3.0     9.0         1.0   \n",
       " 2084         1.0      0.0            0.0       0.0    4.0   309.0         1.0   \n",
       " 2085         1.0      0.0            0.0       0.0    3.0  1531.0         0.0   \n",
       " 2086         1.0      0.0            0.0       0.0    1.0   839.0         0.0   \n",
       " \n",
       "       sampled  valid  note  \n",
       " 564       1.0    1.0   NaN  \n",
       " 565       1.0    1.0   NaN  \n",
       " 566       1.0    1.0   NaN  \n",
       " 567       1.0    1.0   NaN  \n",
       " 568       1.0    1.0   NaN  \n",
       " ...       ...    ...   ...  \n",
       " 2082      1.0    1.0   NaN  \n",
       " 2083      1.0    1.0   NaN  \n",
       " 2084      1.0    1.0   NaN  \n",
       " 2085      1.0    1.0   NaN  \n",
       " 2086      1.0    1.0   NaN  \n",
       " \n",
       " [1523 rows x 17 columns]]"
      ]
     },
     "execution_count": 90,
     "metadata": {},
     "output_type": "execute_result"
    }
   ],
   "source": [
    "## ファイルの読み込み\n",
    "import numpy as np\n",
    "import pandas as pd\n",
    "\n",
    "raw_dfs = [ ]\n",
    "for file in files_core:\n",
    "    ## 出版用語のsampled = 1 の場合のみ選別\n",
    "    if \"publishing\" in str(file):\n",
    "        d = pd.read_excel(file) # requires openpyxl to be installed\n",
    "        d = d[d['local.id'] != None]\n",
    "        d = d[d['unique'] == 1] # 重複出現する語を除外\n",
    "        d = d[d['sampled'] == 1]\n",
    "        raw_dfs.append(d)\n",
    "    else:\n",
    "        d = pd.read_excel(file)\n",
    "        d = d[d['local.id'] != None]\n",
    "        d = d[d['unique'] == 1] # 重複出現する語を除外\n",
    "        raw_dfs.append(d) # requires openpyxl to be installed\n",
    "##\n",
    "raw_dfs"
   ]
  },
  {
   "cell_type": "code",
   "execution_count": 91,
   "id": "014466ad-60d7-4dcf-923c-e6ba98eab74d",
   "metadata": {},
   "outputs": [
    {
     "data": {
      "application/vnd.microsoft.datawrangler.viewer.v0+json": {
       "columns": [
        {
         "name": "index",
         "rawType": "int64",
         "type": "integer"
        },
        {
         "name": "word",
         "rawType": "object",
         "type": "string"
        },
        {
         "name": "medical",
         "rawType": "float64",
         "type": "float"
        },
        {
         "name": "mce",
         "rawType": "float64",
         "type": "float"
        },
        {
         "name": "economic",
         "rawType": "float64",
         "type": "float"
        },
        {
         "name": "juridical",
         "rawType": "float64",
         "type": "float"
        },
        {
         "name": "publishing",
         "rawType": "float64",
         "type": "float"
        },
        {
         "name": "cooking",
         "rawType": "float64",
         "type": "float"
        },
        {
         "name": "philosophical",
         "rawType": "float64",
         "type": "float"
        },
        {
         "name": "buddhist",
         "rawType": "float64",
         "type": "float"
        }
       ],
       "ref": "7cef4f65-1166-47c4-b592-bc21d64288d9",
       "rows": [
        [
         "0",
         "8番らーめん",
         "0.0",
         "0.0",
         "0.0",
         "0.0",
         "0.0",
         "1.0",
         "0.0",
         "0.0"
        ],
        [
         "1",
         "ABCスープ",
         "0.0",
         "0.0",
         "0.0",
         "0.0",
         "0.0",
         "1.0",
         "0.0",
         "0.0"
        ],
        [
         "2",
         "Aランチ",
         "0.0",
         "0.0",
         "0.0",
         "0.0",
         "0.0",
         "1.0",
         "0.0",
         "0.0"
        ],
        [
         "3",
         "BTSサラダ",
         "0.0",
         "0.0",
         "0.0",
         "0.0",
         "0.0",
         "1.0",
         "0.0",
         "0.0"
        ],
        [
         "4",
         "SIOコンコーンカツ",
         "0.0",
         "0.0",
         "0.0",
         "0.0",
         "0.0",
         "1.0",
         "0.0",
         "0.0"
        ],
        [
         "5",
         "アイゴ",
         "0.0",
         "0.0",
         "0.0",
         "0.0",
         "0.0",
         "1.0",
         "0.0",
         "0.0"
        ],
        [
         "6",
         "アイスクリン",
         "0.0",
         "0.0",
         "0.0",
         "0.0",
         "0.0",
         "1.0",
         "0.0",
         "0.0"
        ],
        [
         "7",
         "アイスドッグ",
         "0.0",
         "0.0",
         "0.0",
         "0.0",
         "0.0",
         "1.0",
         "0.0",
         "0.0"
        ],
        [
         "8",
         "アイス抹茶ラテ",
         "0.0",
         "0.0",
         "0.0",
         "0.0",
         "0.0",
         "1.0",
         "0.0",
         "0.0"
        ],
        [
         "9",
         "あいちの伝統野菜",
         "0.0",
         "0.0",
         "0.0",
         "0.0",
         "0.0",
         "1.0",
         "0.0",
         "0.0"
        ],
        [
         "10",
         "アイナメ",
         "0.0",
         "0.0",
         "0.0",
         "0.0",
         "0.0",
         "1.0",
         "0.0",
         "0.0"
        ],
        [
         "11",
         "あいまぜ",
         "0.0",
         "0.0",
         "0.0",
         "0.0",
         "0.0",
         "1.0",
         "0.0",
         "0.0"
        ],
        [
         "12",
         "あえまぜ",
         "0.0",
         "0.0",
         "0.0",
         "0.0",
         "0.0",
         "1.0",
         "0.0",
         "0.0"
        ],
        [
         "13",
         "あおがい",
         "0.0",
         "0.0",
         "0.0",
         "0.0",
         "0.0",
         "1.0",
         "0.0",
         "0.0"
        ],
        [
         "14",
         "アオサ",
         "0.0",
         "0.0",
         "0.0",
         "0.0",
         "0.0",
         "1.0",
         "0.0",
         "0.0"
        ],
        [
         "15",
         "アオヤギ",
         "0.0",
         "0.0",
         "0.0",
         "0.0",
         "0.0",
         "1.0",
         "0.0",
         "0.0"
        ],
        [
         "16",
         "アカイカ",
         "0.0",
         "0.0",
         "0.0",
         "0.0",
         "0.0",
         "1.0",
         "0.0",
         "0.0"
        ],
        [
         "17",
         "アカエイ",
         "0.0",
         "0.0",
         "0.0",
         "0.0",
         "0.0",
         "1.0",
         "0.0",
         "0.0"
        ],
        [
         "18",
         "アカエビ",
         "0.0",
         "0.0",
         "0.0",
         "0.0",
         "0.0",
         "1.0",
         "0.0",
         "0.0"
        ],
        [
         "19",
         "アカガニ",
         "0.0",
         "0.0",
         "0.0",
         "0.0",
         "0.0",
         "1.0",
         "0.0",
         "0.0"
        ],
        [
         "20",
         "アカギ握り",
         "0.0",
         "0.0",
         "0.0",
         "0.0",
         "0.0",
         "1.0",
         "0.0",
         "0.0"
        ],
        [
         "21",
         "アカゴロ",
         "0.0",
         "0.0",
         "0.0",
         "0.0",
         "0.0",
         "1.0",
         "0.0",
         "0.0"
        ],
        [
         "22",
         "アカシアの花の天ぷら",
         "0.0",
         "0.0",
         "0.0",
         "0.0",
         "0.0",
         "1.0",
         "0.0",
         "0.0"
        ],
        [
         "23",
         "アカハタ",
         "0.0",
         "0.0",
         "0.0",
         "0.0",
         "0.0",
         "1.0",
         "0.0",
         "0.0"
        ],
        [
         "24",
         "アカモク",
         "0.0",
         "0.0",
         "0.0",
         "0.0",
         "0.0",
         "1.0",
         "0.0",
         "0.0"
        ],
        [
         "25",
         "アカモクラーメン",
         "0.0",
         "0.0",
         "0.0",
         "0.0",
         "0.0",
         "1.0",
         "0.0",
         "0.0"
        ],
        [
         "26",
         "あきあじ",
         "0.0",
         "0.0",
         "0.0",
         "0.0",
         "0.0",
         "1.0",
         "0.0",
         "0.0"
        ],
        [
         "27",
         "アキシャコ",
         "0.0",
         "0.0",
         "0.0",
         "0.0",
         "0.0",
         "1.0",
         "0.0",
         "0.0"
        ],
        [
         "28",
         "アクアパッツァ",
         "0.0",
         "0.0",
         "0.0",
         "0.0",
         "0.0",
         "1.0",
         "0.0",
         "0.0"
        ],
        [
         "29",
         "あくひき",
         "0.0",
         "0.0",
         "0.0",
         "0.0",
         "0.0",
         "1.0",
         "0.0",
         "0.0"
        ],
        [
         "30",
         "アグリのソーダ",
         "0.0",
         "0.0",
         "0.0",
         "0.0",
         "0.0",
         "1.0",
         "0.0",
         "0.0"
        ],
        [
         "31",
         "アグリのデコマカロン",
         "0.0",
         "0.0",
         "0.0",
         "0.0",
         "0.0",
         "1.0",
         "0.0",
         "0.0"
        ],
        [
         "32",
         "あく抜き",
         "0.0",
         "0.0",
         "0.0",
         "0.0",
         "0.0",
         "1.0",
         "0.0",
         "0.0"
        ],
        [
         "33",
         "あげかまぼこ",
         "0.0",
         "0.0",
         "0.0",
         "0.0",
         "0.0",
         "1.0",
         "0.0",
         "0.0"
        ],
        [
         "34",
         "あげたい",
         "0.0",
         "0.0",
         "0.0",
         "0.0",
         "0.0",
         "1.0",
         "0.0",
         "0.0"
        ],
        [
         "35",
         "あけび",
         "0.0",
         "0.0",
         "0.0",
         "0.0",
         "0.0",
         "1.0",
         "0.0",
         "0.0"
        ],
        [
         "36",
         "アケビ料理",
         "0.0",
         "0.0",
         "0.0",
         "0.0",
         "0.0",
         "1.0",
         "0.0",
         "0.0"
        ],
        [
         "37",
         "あげまんじゅう",
         "0.0",
         "0.0",
         "0.0",
         "0.0",
         "0.0",
         "1.0",
         "0.0",
         "0.0"
        ],
        [
         "38",
         "あご",
         "0.0",
         "0.0",
         "0.0",
         "0.0",
         "0.0",
         "1.0",
         "0.0",
         "0.0"
        ],
        [
         "39",
         "あごせん",
         "0.0",
         "0.0",
         "0.0",
         "0.0",
         "0.0",
         "1.0",
         "0.0",
         "0.0"
        ],
        [
         "40",
         "あごだし",
         "0.0",
         "0.0",
         "0.0",
         "0.0",
         "0.0",
         "1.0",
         "0.0",
         "0.0"
        ],
        [
         "41",
         "あごだんご",
         "0.0",
         "0.0",
         "0.0",
         "0.0",
         "0.0",
         "1.0",
         "0.0",
         "0.0"
        ],
        [
         "42",
         "あごちくわ",
         "0.0",
         "0.0",
         "0.0",
         "0.0",
         "0.0",
         "1.0",
         "0.0",
         "0.0"
        ],
        [
         "43",
         "あごのやき",
         "0.0",
         "0.0",
         "0.0",
         "0.0",
         "0.0",
         "1.0",
         "0.0",
         "0.0"
        ],
        [
         "44",
         "アゴ干し",
         "0.0",
         "0.0",
         "0.0",
         "0.0",
         "0.0",
         "1.0",
         "0.0",
         "0.0"
        ],
        [
         "45",
         "あご煮干し",
         "0.0",
         "0.0",
         "0.0",
         "0.0",
         "0.0",
         "1.0",
         "0.0",
         "0.0"
        ],
        [
         "46",
         "アサイードリンク",
         "0.0",
         "0.0",
         "0.0",
         "0.0",
         "0.0",
         "1.0",
         "0.0",
         "0.0"
        ],
        [
         "47",
         "アサクサノリ",
         "0.0",
         "0.0",
         "0.0",
         "0.0",
         "0.0",
         "1.0",
         "0.0",
         "0.0"
        ],
        [
         "48",
         "あさつき",
         "0.0",
         "0.0",
         "0.0",
         "0.0",
         "0.0",
         "1.0",
         "0.0",
         "0.0"
        ],
        [
         "49",
         "あさつきの球根",
         "0.0",
         "0.0",
         "0.0",
         "0.0",
         "0.0",
         "1.0",
         "0.0",
         "0.0"
        ]
       ],
       "shape": {
        "columns": 9,
        "rows": 11756
       }
      },
      "text/html": [
       "<div>\n",
       "<style scoped>\n",
       "    .dataframe tbody tr th:only-of-type {\n",
       "        vertical-align: middle;\n",
       "    }\n",
       "\n",
       "    .dataframe tbody tr th {\n",
       "        vertical-align: top;\n",
       "    }\n",
       "\n",
       "    .dataframe thead th {\n",
       "        text-align: right;\n",
       "    }\n",
       "</style>\n",
       "<table border=\"1\" class=\"dataframe\">\n",
       "  <thead>\n",
       "    <tr style=\"text-align: right;\">\n",
       "      <th></th>\n",
       "      <th>word</th>\n",
       "      <th>medical</th>\n",
       "      <th>mce</th>\n",
       "      <th>economic</th>\n",
       "      <th>juridical</th>\n",
       "      <th>publishing</th>\n",
       "      <th>cooking</th>\n",
       "      <th>philosophical</th>\n",
       "      <th>buddhist</th>\n",
       "    </tr>\n",
       "  </thead>\n",
       "  <tbody>\n",
       "    <tr>\n",
       "      <th>0</th>\n",
       "      <td>8番らーめん</td>\n",
       "      <td>0.0</td>\n",
       "      <td>0.0</td>\n",
       "      <td>0.0</td>\n",
       "      <td>0.0</td>\n",
       "      <td>0.0</td>\n",
       "      <td>1.0</td>\n",
       "      <td>0.0</td>\n",
       "      <td>0.0</td>\n",
       "    </tr>\n",
       "    <tr>\n",
       "      <th>1</th>\n",
       "      <td>ABCスープ</td>\n",
       "      <td>0.0</td>\n",
       "      <td>0.0</td>\n",
       "      <td>0.0</td>\n",
       "      <td>0.0</td>\n",
       "      <td>0.0</td>\n",
       "      <td>1.0</td>\n",
       "      <td>0.0</td>\n",
       "      <td>0.0</td>\n",
       "    </tr>\n",
       "    <tr>\n",
       "      <th>2</th>\n",
       "      <td>Aランチ</td>\n",
       "      <td>0.0</td>\n",
       "      <td>0.0</td>\n",
       "      <td>0.0</td>\n",
       "      <td>0.0</td>\n",
       "      <td>0.0</td>\n",
       "      <td>1.0</td>\n",
       "      <td>0.0</td>\n",
       "      <td>0.0</td>\n",
       "    </tr>\n",
       "    <tr>\n",
       "      <th>3</th>\n",
       "      <td>BTSサラダ</td>\n",
       "      <td>0.0</td>\n",
       "      <td>0.0</td>\n",
       "      <td>0.0</td>\n",
       "      <td>0.0</td>\n",
       "      <td>0.0</td>\n",
       "      <td>1.0</td>\n",
       "      <td>0.0</td>\n",
       "      <td>0.0</td>\n",
       "    </tr>\n",
       "    <tr>\n",
       "      <th>4</th>\n",
       "      <td>SIOコンコーンカツ</td>\n",
       "      <td>0.0</td>\n",
       "      <td>0.0</td>\n",
       "      <td>0.0</td>\n",
       "      <td>0.0</td>\n",
       "      <td>0.0</td>\n",
       "      <td>1.0</td>\n",
       "      <td>0.0</td>\n",
       "      <td>0.0</td>\n",
       "    </tr>\n",
       "    <tr>\n",
       "      <th>...</th>\n",
       "      <td>...</td>\n",
       "      <td>...</td>\n",
       "      <td>...</td>\n",
       "      <td>...</td>\n",
       "      <td>...</td>\n",
       "      <td>...</td>\n",
       "      <td>...</td>\n",
       "      <td>...</td>\n",
       "      <td>...</td>\n",
       "    </tr>\n",
       "    <tr>\n",
       "      <th>2082</th>\n",
       "      <td>黄板</td>\n",
       "      <td>0.0</td>\n",
       "      <td>0.0</td>\n",
       "      <td>0.0</td>\n",
       "      <td>0.0</td>\n",
       "      <td>1.0</td>\n",
       "      <td>0.0</td>\n",
       "      <td>0.0</td>\n",
       "      <td>0.0</td>\n",
       "    </tr>\n",
       "    <tr>\n",
       "      <th>2083</th>\n",
       "      <td>黄表紙</td>\n",
       "      <td>0.0</td>\n",
       "      <td>0.0</td>\n",
       "      <td>0.0</td>\n",
       "      <td>0.0</td>\n",
       "      <td>1.0</td>\n",
       "      <td>0.0</td>\n",
       "      <td>0.0</td>\n",
       "      <td>0.0</td>\n",
       "    </tr>\n",
       "    <tr>\n",
       "      <th>2084</th>\n",
       "      <td>黄金分割</td>\n",
       "      <td>0.0</td>\n",
       "      <td>0.0</td>\n",
       "      <td>0.0</td>\n",
       "      <td>0.0</td>\n",
       "      <td>1.0</td>\n",
       "      <td>0.0</td>\n",
       "      <td>0.0</td>\n",
       "      <td>0.0</td>\n",
       "    </tr>\n",
       "    <tr>\n",
       "      <th>2085</th>\n",
       "      <td>黒損率</td>\n",
       "      <td>0.0</td>\n",
       "      <td>0.0</td>\n",
       "      <td>0.0</td>\n",
       "      <td>0.0</td>\n",
       "      <td>1.0</td>\n",
       "      <td>0.0</td>\n",
       "      <td>0.0</td>\n",
       "      <td>0.0</td>\n",
       "    </tr>\n",
       "    <tr>\n",
       "      <th>2086</th>\n",
       "      <td>墨</td>\n",
       "      <td>0.0</td>\n",
       "      <td>0.0</td>\n",
       "      <td>0.0</td>\n",
       "      <td>0.0</td>\n",
       "      <td>1.0</td>\n",
       "      <td>0.0</td>\n",
       "      <td>0.0</td>\n",
       "      <td>0.0</td>\n",
       "    </tr>\n",
       "  </tbody>\n",
       "</table>\n",
       "<p>11756 rows × 9 columns</p>\n",
       "</div>"
      ],
      "text/plain": [
       "            word  medical  mce  economic  juridical  publishing  cooking  \\\n",
       "0         8番らーめん      0.0  0.0       0.0        0.0         0.0      1.0   \n",
       "1         ABCスープ      0.0  0.0       0.0        0.0         0.0      1.0   \n",
       "2           Aランチ      0.0  0.0       0.0        0.0         0.0      1.0   \n",
       "3         BTSサラダ      0.0  0.0       0.0        0.0         0.0      1.0   \n",
       "4     SIOコンコーンカツ      0.0  0.0       0.0        0.0         0.0      1.0   \n",
       "...          ...      ...  ...       ...        ...         ...      ...   \n",
       "2082          黄板      0.0  0.0       0.0        0.0         1.0      0.0   \n",
       "2083         黄表紙      0.0  0.0       0.0        0.0         1.0      0.0   \n",
       "2084        黄金分割      0.0  0.0       0.0        0.0         1.0      0.0   \n",
       "2085         黒損率      0.0  0.0       0.0        0.0         1.0      0.0   \n",
       "2086           墨      0.0  0.0       0.0        0.0         1.0      0.0   \n",
       "\n",
       "      philosophical  buddhist  \n",
       "0               0.0       0.0  \n",
       "1               0.0       0.0  \n",
       "2               0.0       0.0  \n",
       "3               0.0       0.0  \n",
       "4               0.0       0.0  \n",
       "...             ...       ...  \n",
       "2082            0.0       0.0  \n",
       "2083            0.0       0.0  \n",
       "2084            0.0       0.0  \n",
       "2085            0.0       0.0  \n",
       "2086            0.0       0.0  \n",
       "\n",
       "[11756 rows x 9 columns]"
      ]
     },
     "execution_count": 91,
     "metadata": {},
     "output_type": "execute_result"
    }
   ],
   "source": [
    "## DataFrame 構築\n",
    "import unicodedata\n",
    "\n",
    "check = False\n",
    "data = pd.DataFrame(columns = target_vars)\n",
    "dfs = [ ]\n",
    "for dfx in raw_dfs:\n",
    "    if check:\n",
    "        print(dfx)\n",
    "    try:\n",
    "        #data.loc[:,target_vars] = dfx[target_vars] # This fails\n",
    "        data = dfx[target_vars]\n",
    "    except KeyError:\n",
    "        data.loc[:,'aberrated'] = 0\n",
    "    if check:\n",
    "        print(data)\n",
    "    dfs.append(data)\n",
    "## 統合\n",
    "df0 = pd.concat(dfs)\n",
    "## check\n",
    "df0"
   ]
  },
  {
   "cell_type": "code",
   "execution_count": 92,
   "id": "c539611b-02b1-4488-98f2-d082c81ed831",
   "metadata": {},
   "outputs": [
    {
     "name": "stdout",
     "output_type": "stream",
     "text": [
      "Remaining files: [PosixPath('terms-source/terms-juridical-v2b.xlsx'), PosixPath('terms-source/terms-medical-errors-v2a.xlsx')]\n"
     ]
    }
   ],
   "source": [
    "## 追加ファイルの処理\n",
    "remaining_files = [ file for file in files if not file in files_core ]\n",
    "print(f\"Remaining files: {remaining_files}\")"
   ]
  },
  {
   "cell_type": "code",
   "execution_count": 93,
   "id": "04eb6451",
   "metadata": {},
   "outputs": [
    {
     "name": "stdout",
     "output_type": "stream",
     "text": [
      "terms-source/terms-juridical-v2b.xlsx\n"
     ]
    },
    {
     "data": {
      "application/vnd.microsoft.datawrangler.viewer.v0+json": {
       "columns": [
        {
         "name": "index",
         "rawType": "int64",
         "type": "integer"
        },
        {
         "name": "word",
         "rawType": "object",
         "type": "string"
        },
        {
         "name": "medical",
         "rawType": "float64",
         "type": "float"
        },
        {
         "name": "mce",
         "rawType": "float64",
         "type": "float"
        },
        {
         "name": "economic",
         "rawType": "float64",
         "type": "float"
        },
        {
         "name": "juridical",
         "rawType": "float64",
         "type": "float"
        },
        {
         "name": "publishing",
         "rawType": "float64",
         "type": "float"
        },
        {
         "name": "cooking",
         "rawType": "float64",
         "type": "float"
        },
        {
         "name": "philosophical",
         "rawType": "float64",
         "type": "float"
        },
        {
         "name": "buddhist",
         "rawType": "float64",
         "type": "float"
        }
       ],
       "ref": "ca7c65c7-db1c-469c-bbba-b782a2b0adc4",
       "rows": [
        [
         "0",
         "8番らーめん",
         "0.0",
         "0.0",
         "0.0",
         "0.0",
         "0.0",
         "1.0",
         "0.0",
         "0.0"
        ],
        [
         "1",
         "ABCスープ",
         "0.0",
         "0.0",
         "0.0",
         "0.0",
         "0.0",
         "1.0",
         "0.0",
         "0.0"
        ],
        [
         "2",
         "Aランチ",
         "0.0",
         "0.0",
         "0.0",
         "0.0",
         "0.0",
         "1.0",
         "0.0",
         "0.0"
        ],
        [
         "3",
         "BTSサラダ",
         "0.0",
         "0.0",
         "0.0",
         "0.0",
         "0.0",
         "1.0",
         "0.0",
         "0.0"
        ],
        [
         "4",
         "SIOコンコーンカツ",
         "0.0",
         "0.0",
         "0.0",
         "0.0",
         "0.0",
         "1.0",
         "0.0",
         "0.0"
        ],
        [
         "5",
         "アイゴ",
         "0.0",
         "0.0",
         "0.0",
         "0.0",
         "0.0",
         "1.0",
         "0.0",
         "0.0"
        ],
        [
         "6",
         "アイスクリン",
         "0.0",
         "0.0",
         "0.0",
         "0.0",
         "0.0",
         "1.0",
         "0.0",
         "0.0"
        ],
        [
         "7",
         "アイスドッグ",
         "0.0",
         "0.0",
         "0.0",
         "0.0",
         "0.0",
         "1.0",
         "0.0",
         "0.0"
        ],
        [
         "8",
         "アイス抹茶ラテ",
         "0.0",
         "0.0",
         "0.0",
         "0.0",
         "0.0",
         "1.0",
         "0.0",
         "0.0"
        ],
        [
         "9",
         "あいちの伝統野菜",
         "0.0",
         "0.0",
         "0.0",
         "0.0",
         "0.0",
         "1.0",
         "0.0",
         "0.0"
        ],
        [
         "10",
         "アイナメ",
         "0.0",
         "0.0",
         "0.0",
         "0.0",
         "0.0",
         "1.0",
         "0.0",
         "0.0"
        ],
        [
         "11",
         "あいまぜ",
         "0.0",
         "0.0",
         "0.0",
         "0.0",
         "0.0",
         "1.0",
         "0.0",
         "0.0"
        ],
        [
         "12",
         "あえまぜ",
         "0.0",
         "0.0",
         "0.0",
         "0.0",
         "0.0",
         "1.0",
         "0.0",
         "0.0"
        ],
        [
         "13",
         "あおがい",
         "0.0",
         "0.0",
         "0.0",
         "0.0",
         "0.0",
         "1.0",
         "0.0",
         "0.0"
        ],
        [
         "14",
         "アオサ",
         "0.0",
         "0.0",
         "0.0",
         "0.0",
         "0.0",
         "1.0",
         "0.0",
         "0.0"
        ],
        [
         "15",
         "アオヤギ",
         "0.0",
         "0.0",
         "0.0",
         "0.0",
         "0.0",
         "1.0",
         "0.0",
         "0.0"
        ],
        [
         "16",
         "アカイカ",
         "0.0",
         "0.0",
         "0.0",
         "0.0",
         "0.0",
         "1.0",
         "0.0",
         "0.0"
        ],
        [
         "17",
         "アカエイ",
         "0.0",
         "0.0",
         "0.0",
         "0.0",
         "0.0",
         "1.0",
         "0.0",
         "0.0"
        ],
        [
         "18",
         "アカエビ",
         "0.0",
         "0.0",
         "0.0",
         "0.0",
         "0.0",
         "1.0",
         "0.0",
         "0.0"
        ],
        [
         "19",
         "アカガニ",
         "0.0",
         "0.0",
         "0.0",
         "0.0",
         "0.0",
         "1.0",
         "0.0",
         "0.0"
        ],
        [
         "20",
         "アカギ握り",
         "0.0",
         "0.0",
         "0.0",
         "0.0",
         "0.0",
         "1.0",
         "0.0",
         "0.0"
        ],
        [
         "21",
         "アカゴロ",
         "0.0",
         "0.0",
         "0.0",
         "0.0",
         "0.0",
         "1.0",
         "0.0",
         "0.0"
        ],
        [
         "22",
         "アカシアの花の天ぷら",
         "0.0",
         "0.0",
         "0.0",
         "0.0",
         "0.0",
         "1.0",
         "0.0",
         "0.0"
        ],
        [
         "23",
         "アカハタ",
         "0.0",
         "0.0",
         "0.0",
         "0.0",
         "0.0",
         "1.0",
         "0.0",
         "0.0"
        ],
        [
         "24",
         "アカモク",
         "0.0",
         "0.0",
         "0.0",
         "0.0",
         "0.0",
         "1.0",
         "0.0",
         "0.0"
        ],
        [
         "25",
         "アカモクラーメン",
         "0.0",
         "0.0",
         "0.0",
         "0.0",
         "0.0",
         "1.0",
         "0.0",
         "0.0"
        ],
        [
         "26",
         "あきあじ",
         "0.0",
         "0.0",
         "0.0",
         "0.0",
         "0.0",
         "1.0",
         "0.0",
         "0.0"
        ],
        [
         "27",
         "アキシャコ",
         "0.0",
         "0.0",
         "0.0",
         "0.0",
         "0.0",
         "1.0",
         "0.0",
         "0.0"
        ],
        [
         "28",
         "アクアパッツァ",
         "0.0",
         "0.0",
         "0.0",
         "0.0",
         "0.0",
         "1.0",
         "0.0",
         "0.0"
        ],
        [
         "29",
         "あくひき",
         "0.0",
         "0.0",
         "0.0",
         "0.0",
         "0.0",
         "1.0",
         "0.0",
         "0.0"
        ],
        [
         "30",
         "アグリのソーダ",
         "0.0",
         "0.0",
         "0.0",
         "0.0",
         "0.0",
         "1.0",
         "0.0",
         "0.0"
        ],
        [
         "31",
         "アグリのデコマカロン",
         "0.0",
         "0.0",
         "0.0",
         "0.0",
         "0.0",
         "1.0",
         "0.0",
         "0.0"
        ],
        [
         "32",
         "あく抜き",
         "0.0",
         "0.0",
         "0.0",
         "0.0",
         "0.0",
         "1.0",
         "0.0",
         "0.0"
        ],
        [
         "33",
         "あげかまぼこ",
         "0.0",
         "0.0",
         "0.0",
         "0.0",
         "0.0",
         "1.0",
         "0.0",
         "0.0"
        ],
        [
         "34",
         "あげたい",
         "0.0",
         "0.0",
         "0.0",
         "0.0",
         "0.0",
         "1.0",
         "0.0",
         "0.0"
        ],
        [
         "35",
         "あけび",
         "0.0",
         "0.0",
         "0.0",
         "0.0",
         "0.0",
         "1.0",
         "0.0",
         "0.0"
        ],
        [
         "36",
         "アケビ料理",
         "0.0",
         "0.0",
         "0.0",
         "0.0",
         "0.0",
         "1.0",
         "0.0",
         "0.0"
        ],
        [
         "37",
         "あげまんじゅう",
         "0.0",
         "0.0",
         "0.0",
         "0.0",
         "0.0",
         "1.0",
         "0.0",
         "0.0"
        ],
        [
         "38",
         "あご",
         "0.0",
         "0.0",
         "0.0",
         "0.0",
         "0.0",
         "1.0",
         "0.0",
         "0.0"
        ],
        [
         "39",
         "あごせん",
         "0.0",
         "0.0",
         "0.0",
         "0.0",
         "0.0",
         "1.0",
         "0.0",
         "0.0"
        ],
        [
         "40",
         "あごだし",
         "0.0",
         "0.0",
         "0.0",
         "0.0",
         "0.0",
         "1.0",
         "0.0",
         "0.0"
        ],
        [
         "41",
         "あごだんご",
         "0.0",
         "0.0",
         "0.0",
         "0.0",
         "0.0",
         "1.0",
         "0.0",
         "0.0"
        ],
        [
         "42",
         "あごちくわ",
         "0.0",
         "0.0",
         "0.0",
         "0.0",
         "0.0",
         "1.0",
         "0.0",
         "0.0"
        ],
        [
         "43",
         "あごのやき",
         "0.0",
         "0.0",
         "0.0",
         "0.0",
         "0.0",
         "1.0",
         "0.0",
         "0.0"
        ],
        [
         "44",
         "アゴ干し",
         "0.0",
         "0.0",
         "0.0",
         "0.0",
         "0.0",
         "1.0",
         "0.0",
         "0.0"
        ],
        [
         "45",
         "あご煮干し",
         "0.0",
         "0.0",
         "0.0",
         "0.0",
         "0.0",
         "1.0",
         "0.0",
         "0.0"
        ],
        [
         "46",
         "アサイードリンク",
         "0.0",
         "0.0",
         "0.0",
         "0.0",
         "0.0",
         "1.0",
         "0.0",
         "0.0"
        ],
        [
         "47",
         "アサクサノリ",
         "0.0",
         "0.0",
         "0.0",
         "0.0",
         "0.0",
         "1.0",
         "0.0",
         "0.0"
        ],
        [
         "48",
         "あさつき",
         "0.0",
         "0.0",
         "0.0",
         "0.0",
         "0.0",
         "1.0",
         "0.0",
         "0.0"
        ],
        [
         "49",
         "あさつきの球根",
         "0.0",
         "0.0",
         "0.0",
         "0.0",
         "0.0",
         "1.0",
         "0.0",
         "0.0"
        ]
       ],
       "shape": {
        "columns": 9,
        "rows": 12181
       }
      },
      "text/html": [
       "<div>\n",
       "<style scoped>\n",
       "    .dataframe tbody tr th:only-of-type {\n",
       "        vertical-align: middle;\n",
       "    }\n",
       "\n",
       "    .dataframe tbody tr th {\n",
       "        vertical-align: top;\n",
       "    }\n",
       "\n",
       "    .dataframe thead th {\n",
       "        text-align: right;\n",
       "    }\n",
       "</style>\n",
       "<table border=\"1\" class=\"dataframe\">\n",
       "  <thead>\n",
       "    <tr style=\"text-align: right;\">\n",
       "      <th></th>\n",
       "      <th>word</th>\n",
       "      <th>medical</th>\n",
       "      <th>mce</th>\n",
       "      <th>economic</th>\n",
       "      <th>juridical</th>\n",
       "      <th>publishing</th>\n",
       "      <th>cooking</th>\n",
       "      <th>philosophical</th>\n",
       "      <th>buddhist</th>\n",
       "    </tr>\n",
       "  </thead>\n",
       "  <tbody>\n",
       "    <tr>\n",
       "      <th>0</th>\n",
       "      <td>8番らーめん</td>\n",
       "      <td>0.0</td>\n",
       "      <td>0.0</td>\n",
       "      <td>0.0</td>\n",
       "      <td>0.0</td>\n",
       "      <td>0.0</td>\n",
       "      <td>1.0</td>\n",
       "      <td>0.0</td>\n",
       "      <td>0.0</td>\n",
       "    </tr>\n",
       "    <tr>\n",
       "      <th>1</th>\n",
       "      <td>ABCスープ</td>\n",
       "      <td>0.0</td>\n",
       "      <td>0.0</td>\n",
       "      <td>0.0</td>\n",
       "      <td>0.0</td>\n",
       "      <td>0.0</td>\n",
       "      <td>1.0</td>\n",
       "      <td>0.0</td>\n",
       "      <td>0.0</td>\n",
       "    </tr>\n",
       "    <tr>\n",
       "      <th>2</th>\n",
       "      <td>Aランチ</td>\n",
       "      <td>0.0</td>\n",
       "      <td>0.0</td>\n",
       "      <td>0.0</td>\n",
       "      <td>0.0</td>\n",
       "      <td>0.0</td>\n",
       "      <td>1.0</td>\n",
       "      <td>0.0</td>\n",
       "      <td>0.0</td>\n",
       "    </tr>\n",
       "    <tr>\n",
       "      <th>3</th>\n",
       "      <td>BTSサラダ</td>\n",
       "      <td>0.0</td>\n",
       "      <td>0.0</td>\n",
       "      <td>0.0</td>\n",
       "      <td>0.0</td>\n",
       "      <td>0.0</td>\n",
       "      <td>1.0</td>\n",
       "      <td>0.0</td>\n",
       "      <td>0.0</td>\n",
       "    </tr>\n",
       "    <tr>\n",
       "      <th>4</th>\n",
       "      <td>SIOコンコーンカツ</td>\n",
       "      <td>0.0</td>\n",
       "      <td>0.0</td>\n",
       "      <td>0.0</td>\n",
       "      <td>0.0</td>\n",
       "      <td>0.0</td>\n",
       "      <td>1.0</td>\n",
       "      <td>0.0</td>\n",
       "      <td>0.0</td>\n",
       "    </tr>\n",
       "    <tr>\n",
       "      <th>...</th>\n",
       "      <td>...</td>\n",
       "      <td>...</td>\n",
       "      <td>...</td>\n",
       "      <td>...</td>\n",
       "      <td>...</td>\n",
       "      <td>...</td>\n",
       "      <td>...</td>\n",
       "      <td>...</td>\n",
       "      <td>...</td>\n",
       "    </tr>\n",
       "    <tr>\n",
       "      <th>870</th>\n",
       "      <td>訴訟指揮</td>\n",
       "      <td>0.0</td>\n",
       "      <td>0.0</td>\n",
       "      <td>0.0</td>\n",
       "      <td>1.0</td>\n",
       "      <td>0.0</td>\n",
       "      <td>0.0</td>\n",
       "      <td>0.0</td>\n",
       "      <td>0.0</td>\n",
       "    </tr>\n",
       "    <tr>\n",
       "      <th>871</th>\n",
       "      <td>上告審</td>\n",
       "      <td>0.0</td>\n",
       "      <td>0.0</td>\n",
       "      <td>0.0</td>\n",
       "      <td>1.0</td>\n",
       "      <td>0.0</td>\n",
       "      <td>0.0</td>\n",
       "      <td>0.0</td>\n",
       "      <td>0.0</td>\n",
       "    </tr>\n",
       "    <tr>\n",
       "      <th>874</th>\n",
       "      <td>制限行為能力者</td>\n",
       "      <td>0.0</td>\n",
       "      <td>0.0</td>\n",
       "      <td>0.0</td>\n",
       "      <td>1.0</td>\n",
       "      <td>0.0</td>\n",
       "      <td>0.0</td>\n",
       "      <td>0.0</td>\n",
       "      <td>0.0</td>\n",
       "    </tr>\n",
       "    <tr>\n",
       "      <th>875</th>\n",
       "      <td>被控訴人</td>\n",
       "      <td>0.0</td>\n",
       "      <td>0.0</td>\n",
       "      <td>0.0</td>\n",
       "      <td>1.0</td>\n",
       "      <td>0.0</td>\n",
       "      <td>0.0</td>\n",
       "      <td>0.0</td>\n",
       "      <td>0.0</td>\n",
       "    </tr>\n",
       "    <tr>\n",
       "      <th>876</th>\n",
       "      <td>違反調査</td>\n",
       "      <td>0.0</td>\n",
       "      <td>0.0</td>\n",
       "      <td>0.0</td>\n",
       "      <td>1.0</td>\n",
       "      <td>0.0</td>\n",
       "      <td>0.0</td>\n",
       "      <td>0.0</td>\n",
       "      <td>0.0</td>\n",
       "    </tr>\n",
       "  </tbody>\n",
       "</table>\n",
       "<p>12181 rows × 9 columns</p>\n",
       "</div>"
      ],
      "text/plain": [
       "           word  medical  mce  economic  juridical  publishing  cooking  \\\n",
       "0        8番らーめん      0.0  0.0       0.0        0.0         0.0      1.0   \n",
       "1        ABCスープ      0.0  0.0       0.0        0.0         0.0      1.0   \n",
       "2          Aランチ      0.0  0.0       0.0        0.0         0.0      1.0   \n",
       "3        BTSサラダ      0.0  0.0       0.0        0.0         0.0      1.0   \n",
       "4    SIOコンコーンカツ      0.0  0.0       0.0        0.0         0.0      1.0   \n",
       "..          ...      ...  ...       ...        ...         ...      ...   \n",
       "870        訴訟指揮      0.0  0.0       0.0        1.0         0.0      0.0   \n",
       "871         上告審      0.0  0.0       0.0        1.0         0.0      0.0   \n",
       "874     制限行為能力者      0.0  0.0       0.0        1.0         0.0      0.0   \n",
       "875        被控訴人      0.0  0.0       0.0        1.0         0.0      0.0   \n",
       "876        違反調査      0.0  0.0       0.0        1.0         0.0      0.0   \n",
       "\n",
       "     philosophical  buddhist  \n",
       "0              0.0       0.0  \n",
       "1              0.0       0.0  \n",
       "2              0.0       0.0  \n",
       "3              0.0       0.0  \n",
       "4              0.0       0.0  \n",
       "..             ...       ...  \n",
       "870            0.0       0.0  \n",
       "871            0.0       0.0  \n",
       "874            0.0       0.0  \n",
       "875            0.0       0.0  \n",
       "876            0.0       0.0  \n",
       "\n",
       "[12181 rows x 9 columns]"
      ]
     },
     "execution_count": 93,
     "metadata": {},
     "output_type": "execute_result"
    }
   ],
   "source": [
    "## juridical2 の追加\n",
    "if add_juridic2:\n",
    "    juridic2_file = [ fn for fn in remaining_files if \"-juridical\" in str(fn) ][0]\n",
    "    print(juridic2_file)\n",
    "    raw_juridic2 = pd.read_excel(juridic2_file)\n",
    "    ## juridical の sampled = 1 で unique = 1 の事例のみを選別\n",
    "    raw_juridic2 = raw_juridic2[ (raw_juridic2['sampled'] == 1) & (raw_juridic2['unique'] == 1) ]\n",
    "    raw_juridic2 = raw_juridic2[ target_vars ]\n",
    "    df0 = pd.concat([df0, raw_juridic2])\n",
    "#\n",
    "df0"
   ]
  },
  {
   "cell_type": "code",
   "execution_count": 94,
   "id": "f22e2f7a",
   "metadata": {},
   "outputs": [
    {
     "data": {
      "application/vnd.microsoft.datawrangler.viewer.v0+json": {
       "columns": [
        {
         "name": "index",
         "rawType": "int64",
         "type": "integer"
        },
        {
         "name": "word",
         "rawType": "object",
         "type": "string"
        }
       ],
       "ref": "b1e3d470-9b33-4974-ae9d-36367727ba15",
       "rows": [
        [
         "0",
         "8番らーめん"
        ],
        [
         "1",
         "ABCスープ"
        ],
        [
         "2",
         "Aランチ"
        ],
        [
         "3",
         "BTSサラダ"
        ],
        [
         "4",
         "SIOコンコーンカツ"
        ],
        [
         "5",
         "アイゴ"
        ],
        [
         "6",
         "アイスクリン"
        ],
        [
         "7",
         "アイスドッグ"
        ],
        [
         "8",
         "アイス抹茶ラテ"
        ],
        [
         "9",
         "あいちの伝統野菜"
        ],
        [
         "10",
         "アイナメ"
        ],
        [
         "11",
         "あいまぜ"
        ],
        [
         "12",
         "あえまぜ"
        ],
        [
         "13",
         "あおがい"
        ],
        [
         "14",
         "アオサ"
        ],
        [
         "15",
         "アオヤギ"
        ],
        [
         "16",
         "アカイカ"
        ],
        [
         "17",
         "アカエイ"
        ],
        [
         "18",
         "アカエビ"
        ],
        [
         "19",
         "アカガニ"
        ],
        [
         "20",
         "アカギ握り"
        ],
        [
         "21",
         "アカゴロ"
        ],
        [
         "22",
         "アカシアの花の天ぷら"
        ],
        [
         "23",
         "アカハタ"
        ],
        [
         "24",
         "アカモク"
        ],
        [
         "25",
         "アカモクラーメン"
        ],
        [
         "26",
         "あきあじ"
        ],
        [
         "27",
         "アキシャコ"
        ],
        [
         "28",
         "アクアパッツァ"
        ],
        [
         "29",
         "あくひき"
        ],
        [
         "30",
         "アグリのソーダ"
        ],
        [
         "31",
         "アグリのデコマカロン"
        ],
        [
         "32",
         "あく抜き"
        ],
        [
         "33",
         "あげかまぼこ"
        ],
        [
         "34",
         "あげたい"
        ],
        [
         "35",
         "あけび"
        ],
        [
         "36",
         "アケビ料理"
        ],
        [
         "37",
         "あげまんじゅう"
        ],
        [
         "38",
         "あご"
        ],
        [
         "39",
         "あごせん"
        ],
        [
         "40",
         "あごだし"
        ],
        [
         "41",
         "あごだんご"
        ],
        [
         "42",
         "あごちくわ"
        ],
        [
         "43",
         "あごのやき"
        ],
        [
         "44",
         "アゴ干し"
        ],
        [
         "45",
         "あご煮干し"
        ],
        [
         "46",
         "アサイードリンク"
        ],
        [
         "47",
         "アサクサノリ"
        ],
        [
         "48",
         "あさつき"
        ],
        [
         "49",
         "あさつきの球根"
        ]
       ],
       "shape": {
        "columns": 1,
        "rows": 12181
       }
      },
      "text/plain": [
       "0          8番らーめん\n",
       "1          ABCスープ\n",
       "2            Aランチ\n",
       "3          BTSサラダ\n",
       "4      SIOコンコーンカツ\n",
       "          ...    \n",
       "870          訴訟指揮\n",
       "871           上告審\n",
       "874       制限行為能力者\n",
       "875          被控訴人\n",
       "876          違反調査\n",
       "Name: word, Length: 12181, dtype: object"
      ]
     },
     "execution_count": 94,
     "metadata": {},
     "output_type": "execute_result"
    }
   ],
   "source": [
    "## normalize\n",
    "df0['word'] = df0['word'].apply(lambda x: unicodedata.normalize(\"NFKC\", str(x)))\n",
    "df0['word']"
   ]
  },
  {
   "cell_type": "code",
   "execution_count": 95,
   "id": "2a403e3f",
   "metadata": {},
   "outputs": [
    {
     "data": {
      "application/vnd.microsoft.datawrangler.viewer.v0+json": {
       "columns": [
        {
         "name": "index",
         "rawType": "int64",
         "type": "integer"
        },
        {
         "name": "word",
         "rawType": "object",
         "type": "string"
        },
        {
         "name": "medical",
         "rawType": "float64",
         "type": "float"
        },
        {
         "name": "mce",
         "rawType": "float64",
         "type": "float"
        },
        {
         "name": "economic",
         "rawType": "float64",
         "type": "float"
        },
        {
         "name": "juridical",
         "rawType": "float64",
         "type": "float"
        },
        {
         "name": "publishing",
         "rawType": "float64",
         "type": "float"
        },
        {
         "name": "cooking",
         "rawType": "float64",
         "type": "float"
        },
        {
         "name": "philosophical",
         "rawType": "float64",
         "type": "float"
        },
        {
         "name": "buddhist",
         "rawType": "float64",
         "type": "float"
        },
        {
         "name": "aberrated",
         "rawType": "int64",
         "type": "integer"
        },
        {
         "name": "domain_id",
         "rawType": "float64",
         "type": "float"
        }
       ],
       "ref": "66e8eaec-293e-40fa-8b37-c8abeca456ad",
       "rows": [
        [
         "0",
         "8番らーめん",
         "0.0",
         "0.0",
         "0.0",
         "0.0",
         "0.0",
         "1.0",
         "0.0",
         "0.0",
         "0",
         null
        ],
        [
         "1",
         "ABCスープ",
         "0.0",
         "0.0",
         "0.0",
         "0.0",
         "0.0",
         "1.0",
         "0.0",
         "0.0",
         "0",
         null
        ],
        [
         "2",
         "Aランチ",
         "0.0",
         "0.0",
         "0.0",
         "0.0",
         "0.0",
         "1.0",
         "0.0",
         "0.0",
         "0",
         null
        ],
        [
         "3",
         "BTSサラダ",
         "0.0",
         "0.0",
         "0.0",
         "0.0",
         "0.0",
         "1.0",
         "0.0",
         "0.0",
         "0",
         null
        ],
        [
         "4",
         "SIOコンコーンカツ",
         "0.0",
         "0.0",
         "0.0",
         "0.0",
         "0.0",
         "1.0",
         "0.0",
         "0.0",
         "0",
         null
        ],
        [
         "5",
         "アイゴ",
         "0.0",
         "0.0",
         "0.0",
         "0.0",
         "0.0",
         "1.0",
         "0.0",
         "0.0",
         "0",
         null
        ],
        [
         "6",
         "アイスクリン",
         "0.0",
         "0.0",
         "0.0",
         "0.0",
         "0.0",
         "1.0",
         "0.0",
         "0.0",
         "0",
         null
        ],
        [
         "7",
         "アイスドッグ",
         "0.0",
         "0.0",
         "0.0",
         "0.0",
         "0.0",
         "1.0",
         "0.0",
         "0.0",
         "0",
         null
        ],
        [
         "8",
         "アイス抹茶ラテ",
         "0.0",
         "0.0",
         "0.0",
         "0.0",
         "0.0",
         "1.0",
         "0.0",
         "0.0",
         "0",
         null
        ],
        [
         "9",
         "あいちの伝統野菜",
         "0.0",
         "0.0",
         "0.0",
         "0.0",
         "0.0",
         "1.0",
         "0.0",
         "0.0",
         "0",
         null
        ],
        [
         "10",
         "アイナメ",
         "0.0",
         "0.0",
         "0.0",
         "0.0",
         "0.0",
         "1.0",
         "0.0",
         "0.0",
         "0",
         null
        ],
        [
         "11",
         "あいまぜ",
         "0.0",
         "0.0",
         "0.0",
         "0.0",
         "0.0",
         "1.0",
         "0.0",
         "0.0",
         "0",
         null
        ],
        [
         "12",
         "あえまぜ",
         "0.0",
         "0.0",
         "0.0",
         "0.0",
         "0.0",
         "1.0",
         "0.0",
         "0.0",
         "0",
         null
        ],
        [
         "13",
         "あおがい",
         "0.0",
         "0.0",
         "0.0",
         "0.0",
         "0.0",
         "1.0",
         "0.0",
         "0.0",
         "0",
         null
        ],
        [
         "14",
         "アオサ",
         "0.0",
         "0.0",
         "0.0",
         "0.0",
         "0.0",
         "1.0",
         "0.0",
         "0.0",
         "0",
         null
        ],
        [
         "15",
         "アオヤギ",
         "0.0",
         "0.0",
         "0.0",
         "0.0",
         "0.0",
         "1.0",
         "0.0",
         "0.0",
         "0",
         null
        ],
        [
         "16",
         "アカイカ",
         "0.0",
         "0.0",
         "0.0",
         "0.0",
         "0.0",
         "1.0",
         "0.0",
         "0.0",
         "0",
         null
        ],
        [
         "17",
         "アカエイ",
         "0.0",
         "0.0",
         "0.0",
         "0.0",
         "0.0",
         "1.0",
         "0.0",
         "0.0",
         "0",
         null
        ],
        [
         "18",
         "アカエビ",
         "0.0",
         "0.0",
         "0.0",
         "0.0",
         "0.0",
         "1.0",
         "0.0",
         "0.0",
         "0",
         null
        ],
        [
         "19",
         "アカガニ",
         "0.0",
         "0.0",
         "0.0",
         "0.0",
         "0.0",
         "1.0",
         "0.0",
         "0.0",
         "0",
         null
        ],
        [
         "20",
         "アカギ握り",
         "0.0",
         "0.0",
         "0.0",
         "0.0",
         "0.0",
         "1.0",
         "0.0",
         "0.0",
         "0",
         null
        ],
        [
         "21",
         "アカゴロ",
         "0.0",
         "0.0",
         "0.0",
         "0.0",
         "0.0",
         "1.0",
         "0.0",
         "0.0",
         "0",
         null
        ],
        [
         "22",
         "アカシアの花の天ぷら",
         "0.0",
         "0.0",
         "0.0",
         "0.0",
         "0.0",
         "1.0",
         "0.0",
         "0.0",
         "0",
         null
        ],
        [
         "23",
         "アカハタ",
         "0.0",
         "0.0",
         "0.0",
         "0.0",
         "0.0",
         "1.0",
         "0.0",
         "0.0",
         "0",
         null
        ],
        [
         "24",
         "アカモク",
         "0.0",
         "0.0",
         "0.0",
         "0.0",
         "0.0",
         "1.0",
         "0.0",
         "0.0",
         "0",
         null
        ],
        [
         "25",
         "アカモクラーメン",
         "0.0",
         "0.0",
         "0.0",
         "0.0",
         "0.0",
         "1.0",
         "0.0",
         "0.0",
         "0",
         null
        ],
        [
         "26",
         "あきあじ",
         "0.0",
         "0.0",
         "0.0",
         "0.0",
         "0.0",
         "1.0",
         "0.0",
         "0.0",
         "0",
         null
        ],
        [
         "27",
         "アキシャコ",
         "0.0",
         "0.0",
         "0.0",
         "0.0",
         "0.0",
         "1.0",
         "0.0",
         "0.0",
         "0",
         null
        ],
        [
         "28",
         "アクアパッツァ",
         "0.0",
         "0.0",
         "0.0",
         "0.0",
         "0.0",
         "1.0",
         "0.0",
         "0.0",
         "0",
         null
        ],
        [
         "29",
         "あくひき",
         "0.0",
         "0.0",
         "0.0",
         "0.0",
         "0.0",
         "1.0",
         "0.0",
         "0.0",
         "0",
         null
        ],
        [
         "30",
         "アグリのソーダ",
         "0.0",
         "0.0",
         "0.0",
         "0.0",
         "0.0",
         "1.0",
         "0.0",
         "0.0",
         "0",
         null
        ],
        [
         "31",
         "アグリのデコマカロン",
         "0.0",
         "0.0",
         "0.0",
         "0.0",
         "0.0",
         "1.0",
         "0.0",
         "0.0",
         "0",
         null
        ],
        [
         "32",
         "あく抜き",
         "0.0",
         "0.0",
         "0.0",
         "0.0",
         "0.0",
         "1.0",
         "0.0",
         "0.0",
         "0",
         null
        ],
        [
         "33",
         "あげかまぼこ",
         "0.0",
         "0.0",
         "0.0",
         "0.0",
         "0.0",
         "1.0",
         "0.0",
         "0.0",
         "0",
         null
        ],
        [
         "34",
         "あげたい",
         "0.0",
         "0.0",
         "0.0",
         "0.0",
         "0.0",
         "1.0",
         "0.0",
         "0.0",
         "0",
         null
        ],
        [
         "35",
         "あけび",
         "0.0",
         "0.0",
         "0.0",
         "0.0",
         "0.0",
         "1.0",
         "0.0",
         "0.0",
         "0",
         null
        ],
        [
         "36",
         "アケビ料理",
         "0.0",
         "0.0",
         "0.0",
         "0.0",
         "0.0",
         "1.0",
         "0.0",
         "0.0",
         "0",
         null
        ],
        [
         "37",
         "あげまんじゅう",
         "0.0",
         "0.0",
         "0.0",
         "0.0",
         "0.0",
         "1.0",
         "0.0",
         "0.0",
         "0",
         null
        ],
        [
         "38",
         "あご",
         "0.0",
         "0.0",
         "0.0",
         "0.0",
         "0.0",
         "1.0",
         "0.0",
         "0.0",
         "0",
         null
        ],
        [
         "39",
         "あごせん",
         "0.0",
         "0.0",
         "0.0",
         "0.0",
         "0.0",
         "1.0",
         "0.0",
         "0.0",
         "0",
         null
        ],
        [
         "40",
         "あごだし",
         "0.0",
         "0.0",
         "0.0",
         "0.0",
         "0.0",
         "1.0",
         "0.0",
         "0.0",
         "0",
         null
        ],
        [
         "41",
         "あごだんご",
         "0.0",
         "0.0",
         "0.0",
         "0.0",
         "0.0",
         "1.0",
         "0.0",
         "0.0",
         "0",
         null
        ],
        [
         "42",
         "あごちくわ",
         "0.0",
         "0.0",
         "0.0",
         "0.0",
         "0.0",
         "1.0",
         "0.0",
         "0.0",
         "0",
         null
        ],
        [
         "43",
         "あごのやき",
         "0.0",
         "0.0",
         "0.0",
         "0.0",
         "0.0",
         "1.0",
         "0.0",
         "0.0",
         "0",
         null
        ],
        [
         "44",
         "アゴ干し",
         "0.0",
         "0.0",
         "0.0",
         "0.0",
         "0.0",
         "1.0",
         "0.0",
         "0.0",
         "0",
         null
        ],
        [
         "45",
         "あご煮干し",
         "0.0",
         "0.0",
         "0.0",
         "0.0",
         "0.0",
         "1.0",
         "0.0",
         "0.0",
         "0",
         null
        ],
        [
         "46",
         "アサイードリンク",
         "0.0",
         "0.0",
         "0.0",
         "0.0",
         "0.0",
         "1.0",
         "0.0",
         "0.0",
         "0",
         null
        ],
        [
         "47",
         "アサクサノリ",
         "0.0",
         "0.0",
         "0.0",
         "0.0",
         "0.0",
         "1.0",
         "0.0",
         "0.0",
         "0",
         null
        ],
        [
         "48",
         "あさつき",
         "0.0",
         "0.0",
         "0.0",
         "0.0",
         "0.0",
         "1.0",
         "0.0",
         "0.0",
         "0",
         null
        ],
        [
         "49",
         "あさつきの球根",
         "0.0",
         "0.0",
         "0.0",
         "0.0",
         "0.0",
         "1.0",
         "0.0",
         "0.0",
         "0",
         null
        ]
       ],
       "shape": {
        "columns": 11,
        "rows": 13122
       }
      },
      "text/html": [
       "<div>\n",
       "<style scoped>\n",
       "    .dataframe tbody tr th:only-of-type {\n",
       "        vertical-align: middle;\n",
       "    }\n",
       "\n",
       "    .dataframe tbody tr th {\n",
       "        vertical-align: top;\n",
       "    }\n",
       "\n",
       "    .dataframe thead th {\n",
       "        text-align: right;\n",
       "    }\n",
       "</style>\n",
       "<table border=\"1\" class=\"dataframe\">\n",
       "  <thead>\n",
       "    <tr style=\"text-align: right;\">\n",
       "      <th></th>\n",
       "      <th>word</th>\n",
       "      <th>medical</th>\n",
       "      <th>mce</th>\n",
       "      <th>economic</th>\n",
       "      <th>juridical</th>\n",
       "      <th>publishing</th>\n",
       "      <th>cooking</th>\n",
       "      <th>philosophical</th>\n",
       "      <th>buddhist</th>\n",
       "      <th>aberrated</th>\n",
       "      <th>domain_id</th>\n",
       "    </tr>\n",
       "  </thead>\n",
       "  <tbody>\n",
       "    <tr>\n",
       "      <th>0</th>\n",
       "      <td>8番らーめん</td>\n",
       "      <td>0.0</td>\n",
       "      <td>0.0</td>\n",
       "      <td>0.0</td>\n",
       "      <td>0.0</td>\n",
       "      <td>0.0</td>\n",
       "      <td>1.0</td>\n",
       "      <td>0.0</td>\n",
       "      <td>0.0</td>\n",
       "      <td>0</td>\n",
       "      <td>NaN</td>\n",
       "    </tr>\n",
       "    <tr>\n",
       "      <th>1</th>\n",
       "      <td>ABCスープ</td>\n",
       "      <td>0.0</td>\n",
       "      <td>0.0</td>\n",
       "      <td>0.0</td>\n",
       "      <td>0.0</td>\n",
       "      <td>0.0</td>\n",
       "      <td>1.0</td>\n",
       "      <td>0.0</td>\n",
       "      <td>0.0</td>\n",
       "      <td>0</td>\n",
       "      <td>NaN</td>\n",
       "    </tr>\n",
       "    <tr>\n",
       "      <th>2</th>\n",
       "      <td>Aランチ</td>\n",
       "      <td>0.0</td>\n",
       "      <td>0.0</td>\n",
       "      <td>0.0</td>\n",
       "      <td>0.0</td>\n",
       "      <td>0.0</td>\n",
       "      <td>1.0</td>\n",
       "      <td>0.0</td>\n",
       "      <td>0.0</td>\n",
       "      <td>0</td>\n",
       "      <td>NaN</td>\n",
       "    </tr>\n",
       "    <tr>\n",
       "      <th>3</th>\n",
       "      <td>BTSサラダ</td>\n",
       "      <td>0.0</td>\n",
       "      <td>0.0</td>\n",
       "      <td>0.0</td>\n",
       "      <td>0.0</td>\n",
       "      <td>0.0</td>\n",
       "      <td>1.0</td>\n",
       "      <td>0.0</td>\n",
       "      <td>0.0</td>\n",
       "      <td>0</td>\n",
       "      <td>NaN</td>\n",
       "    </tr>\n",
       "    <tr>\n",
       "      <th>4</th>\n",
       "      <td>SIOコンコーンカツ</td>\n",
       "      <td>0.0</td>\n",
       "      <td>0.0</td>\n",
       "      <td>0.0</td>\n",
       "      <td>0.0</td>\n",
       "      <td>0.0</td>\n",
       "      <td>1.0</td>\n",
       "      <td>0.0</td>\n",
       "      <td>0.0</td>\n",
       "      <td>0</td>\n",
       "      <td>NaN</td>\n",
       "    </tr>\n",
       "    <tr>\n",
       "      <th>...</th>\n",
       "      <td>...</td>\n",
       "      <td>...</td>\n",
       "      <td>...</td>\n",
       "      <td>...</td>\n",
       "      <td>...</td>\n",
       "      <td>...</td>\n",
       "      <td>...</td>\n",
       "      <td>...</td>\n",
       "      <td>...</td>\n",
       "      <td>...</td>\n",
       "      <td>...</td>\n",
       "    </tr>\n",
       "    <tr>\n",
       "      <th>595</th>\n",
       "      <td>敗血症性膚炎</td>\n",
       "      <td>1.0</td>\n",
       "      <td>0.0</td>\n",
       "      <td>0.0</td>\n",
       "      <td>0.0</td>\n",
       "      <td>0.0</td>\n",
       "      <td>0.0</td>\n",
       "      <td>0.0</td>\n",
       "      <td>0.0</td>\n",
       "      <td>1</td>\n",
       "      <td>0.0</td>\n",
       "    </tr>\n",
       "    <tr>\n",
       "      <th>3159</th>\n",
       "      <td>萎縮</td>\n",
       "      <td>1.0</td>\n",
       "      <td>0.0</td>\n",
       "      <td>0.0</td>\n",
       "      <td>0.0</td>\n",
       "      <td>0.0</td>\n",
       "      <td>0.0</td>\n",
       "      <td>0.0</td>\n",
       "      <td>0.0</td>\n",
       "      <td>1</td>\n",
       "      <td>0.0</td>\n",
       "    </tr>\n",
       "    <tr>\n",
       "      <th>621</th>\n",
       "      <td>白色便下痢症</td>\n",
       "      <td>1.0</td>\n",
       "      <td>0.0</td>\n",
       "      <td>0.0</td>\n",
       "      <td>0.0</td>\n",
       "      <td>0.0</td>\n",
       "      <td>0.0</td>\n",
       "      <td>0.0</td>\n",
       "      <td>0.0</td>\n",
       "      <td>1</td>\n",
       "      <td>0.0</td>\n",
       "    </tr>\n",
       "    <tr>\n",
       "      <th>3186</th>\n",
       "      <td>不全</td>\n",
       "      <td>1.0</td>\n",
       "      <td>0.0</td>\n",
       "      <td>0.0</td>\n",
       "      <td>0.0</td>\n",
       "      <td>0.0</td>\n",
       "      <td>0.0</td>\n",
       "      <td>0.0</td>\n",
       "      <td>0.0</td>\n",
       "      <td>1</td>\n",
       "      <td>0.0</td>\n",
       "    </tr>\n",
       "    <tr>\n",
       "      <th>633</th>\n",
       "      <td>結核性腎盂炎</td>\n",
       "      <td>1.0</td>\n",
       "      <td>0.0</td>\n",
       "      <td>0.0</td>\n",
       "      <td>0.0</td>\n",
       "      <td>0.0</td>\n",
       "      <td>0.0</td>\n",
       "      <td>0.0</td>\n",
       "      <td>0.0</td>\n",
       "      <td>1</td>\n",
       "      <td>0.0</td>\n",
       "    </tr>\n",
       "  </tbody>\n",
       "</table>\n",
       "<p>13122 rows × 11 columns</p>\n",
       "</div>"
      ],
      "text/plain": [
       "            word  medical  mce  economic  juridical  publishing  cooking  \\\n",
       "0         8番らーめん      0.0  0.0       0.0        0.0         0.0      1.0   \n",
       "1         ABCスープ      0.0  0.0       0.0        0.0         0.0      1.0   \n",
       "2           Aランチ      0.0  0.0       0.0        0.0         0.0      1.0   \n",
       "3         BTSサラダ      0.0  0.0       0.0        0.0         0.0      1.0   \n",
       "4     SIOコンコーンカツ      0.0  0.0       0.0        0.0         0.0      1.0   \n",
       "...          ...      ...  ...       ...        ...         ...      ...   \n",
       "595       敗血症性膚炎      1.0  0.0       0.0        0.0         0.0      0.0   \n",
       "3159          萎縮      1.0  0.0       0.0        0.0         0.0      0.0   \n",
       "621       白色便下痢症      1.0  0.0       0.0        0.0         0.0      0.0   \n",
       "3186          不全      1.0  0.0       0.0        0.0         0.0      0.0   \n",
       "633       結核性腎盂炎      1.0  0.0       0.0        0.0         0.0      0.0   \n",
       "\n",
       "      philosophical  buddhist  aberrated  domain_id  \n",
       "0               0.0       0.0          0        NaN  \n",
       "1               0.0       0.0          0        NaN  \n",
       "2               0.0       0.0          0        NaN  \n",
       "3               0.0       0.0          0        NaN  \n",
       "4               0.0       0.0          0        NaN  \n",
       "...             ...       ...        ...        ...  \n",
       "595             0.0       0.0          1        0.0  \n",
       "3159            0.0       0.0          1        0.0  \n",
       "621             0.0       0.0          1        0.0  \n",
       "3186            0.0       0.0          1        0.0  \n",
       "633             0.0       0.0          1        0.0  \n",
       "\n",
       "[13122 rows x 11 columns]"
      ]
     },
     "execution_count": 95,
     "metadata": {},
     "output_type": "execute_result"
    }
   ],
   "source": [
    "## aberrated medical terms の追加\n",
    "if include_aberrated:\n",
    "    ## 初期設定\n",
    "    df0['aberrated'] = 0\n",
    "    #\n",
    "    med_error_fn = [ fn for fn in remaining_files if \"-errors\" in str(fn) ][0]\n",
    "    raw_errors = pd.read_excel(med_error_fn)\n",
    "    ## med errors の aberrated = 1 の事例のみを選別\n",
    "    raw_errors = raw_errors[ raw_errors['aberrated'] == 1 ]\n",
    "    raw_errors = raw_errors[target_vars]\n",
    "    n_sample_errors = round( 0.3 * len(raw_errors))\n",
    "    med_errors = raw_errors.sample(n_sample_errors)\n",
    "    med_errors['aberrated'] = 1\n",
    "    med_errors['domain_id'] = 0\n",
    "    #\n",
    "    df0 = pd.concat([df0, med_errors])\n",
    "#\n",
    "df0"
   ]
  },
  {
   "cell_type": "markdown",
   "id": "3d756410",
   "metadata": {},
   "source": [
    "データの filtering"
   ]
  },
  {
   "cell_type": "code",
   "execution_count": 96,
   "id": "c497e11d",
   "metadata": {},
   "outputs": [
    {
     "name": "stdout",
     "output_type": "stream",
     "text": [
      "12851: 271 cases are removed because they are longer than 11\n",
      "6160: 6962 cases are removed because they are shorter than 5\n"
     ]
    }
   ],
   "source": [
    "## 長過ぎる語と短過ぎる語を除外\n",
    "original_len = len(df0)\n",
    "if discard_too_long:\n",
    "    df0 = df0[ [ True if len(str(x)) <= max_doc_length else False for x in df0[doc_type] ] ]\n",
    "#\n",
    "current_len = len(df0)\n",
    "print(f\"{current_len}: {original_len - current_len} cases are removed because they are longer than {max_doc_length}\")\n",
    "\n",
    "if discard_too_short:\n",
    "    df0 = df0[ [ True if len(str(x)) >= min_doc_length else False for x in df0[doc_type] ] ]\n",
    "#\n",
    "current_len = len(df0)\n",
    "print(f\"{current_len}: {original_len - current_len} cases are removed because they are shorter than {min_doc_length}\")"
   ]
  },
  {
   "cell_type": "code",
   "execution_count": 97,
   "id": "baf7d9cf",
   "metadata": {},
   "outputs": [],
   "source": [
    "## run the following when need arises\n",
    "#!conda install regex -y\n",
    "## run the following if the line above fails\n",
    "#!pip install -U regex"
   ]
  },
  {
   "cell_type": "code",
   "execution_count": 98,
   "id": "b111762b",
   "metadata": {},
   "outputs": [
    {
     "name": "stdout",
     "output_type": "stream",
     "text": [
      "4927: 1233 cases are removed because of too many kana characters\n"
     ]
    }
   ],
   "source": [
    "## カタカナ/ひらがなを多く含む語の除外\n",
    "def katakana_count(s: str):\n",
    "    import regex\n",
    "    p = regex.compile(r'\\p{Script=Katakana}')\n",
    "    return len(p.findall(s))\n",
    "\n",
    "def hiragana_count(s: str):\n",
    "    import regex\n",
    "    p = regex.compile(r'\\p{Script=Hiragana}')\n",
    "    return len(p.findall(s))\n",
    "#\n",
    "original_len = len(df0)    \n",
    "if discard_kana_overloaded:\n",
    "    ## katakana\n",
    "    df0 = df0[ [ True if katakana_count(str(x))/ len(str(x)) <= kana_tolerance else False for x in df0[doc_type] ] ]\n",
    "    ## hiragana\n",
    "    df0 = df0[ [ True if hiragana_count(str(x))/ len(str(x)) <= kana_tolerance else False for x in df0[doc_type] ] ]\n",
    "#\n",
    "current_len = len(df0)\n",
    "print(f\"{current_len}: {original_len - current_len} cases are removed because of too many kana characters\")"
   ]
  },
  {
   "cell_type": "code",
   "execution_count": 99,
   "id": "05d4fa5a-0c05-4d98-9cd4-c11a78415bbd",
   "metadata": {},
   "outputs": [
    {
     "data": {
      "application/vnd.microsoft.datawrangler.viewer.v0+json": {
       "columns": [
        {
         "name": "domain",
         "rawType": "object",
         "type": "string"
        },
        {
         "name": "count",
         "rawType": "int64",
         "type": "integer"
        }
       ],
       "ref": "9df6ead4-dc89-48d7-8cb8-66f79538d928",
       "rows": [
        [
         "cooking",
         "1461"
        ],
        [
         "economic",
         "235"
        ],
        [
         "juridical",
         "195"
        ],
        [
         "mce",
         "419"
        ],
        [
         "medical",
         "2271"
        ],
        [
         "philosophical",
         "26"
        ],
        [
         "publishing",
         "320"
        ]
       ],
       "shape": {
        "columns": 1,
        "rows": 7
       }
      },
      "text/plain": [
       "domain\n",
       "cooking          1461\n",
       "economic          235\n",
       "juridical         195\n",
       "mce               419\n",
       "medical          2271\n",
       "philosophical      26\n",
       "publishing        320\n",
       "Name: count, dtype: int64"
      ]
     },
     "execution_count": 99,
     "metadata": {},
     "output_type": "execute_result"
    }
   ],
   "source": [
    "## 色分けの為の domain_id を定義\n",
    "check = False\n",
    "domain_id_list = [ ]\n",
    "for i, row in df0.iterrows():\n",
    "    ## specific domains\n",
    "    if   row['medical']       == 1: domain_id_list.append(domain_encoding['medical'])\n",
    "    elif row['mce']           == 1: domain_id_list.append(domain_encoding['mce'])\n",
    "    elif row['economic']      == 1: domain_id_list.append(domain_encoding['economic'])\n",
    "    elif row['juridical']     == 1: domain_id_list.append(domain_encoding['juridical'])\n",
    "    elif row['publishing']    == 1: domain_id_list.append(domain_encoding['publishing'])\n",
    "    elif row['cooking']       == 1: domain_id_list.append(domain_encoding['cooking'])\n",
    "    elif row['philosophical'] == 1: domain_id_list.append(domain_encoding['philosophical'])\n",
    "    elif row['buddhist']      == 1:\n",
    "        if 'buddhist' in selected_domains:\n",
    "            domain_id_list.append(domain_encoding['buddhist'])\n",
    "        else:\n",
    "            domain_id_list.append(domain_encoding['philosophical'])\n",
    "    ## all others\n",
    "    else:\n",
    "        domain_id_list.append(domain_encoding['other'])\n",
    "\n",
    "## domain_id 列の追加\n",
    "df0['domain_id'] = domain_id_list\n",
    "\n",
    "## domain 列の追加\n",
    "df0['domain'] = df0['domain_id'].apply(lambda x: domain_back_encoding[x])\n",
    "\n",
    "## domain の事例数の確認\n",
    "df0['domain'].value_counts().sort_index()"
   ]
  },
  {
   "cell_type": "code",
   "execution_count": 100,
   "id": "61776c86",
   "metadata": {},
   "outputs": [],
   "source": [
    "## 重複の削除\n",
    "if remove_duplicated_terms:\n",
    "    df0 = df0.drop_duplicates(subset = [doc_type], keep = 'first')"
   ]
  },
  {
   "cell_type": "code",
   "execution_count": 101,
   "id": "b7a39e6e",
   "metadata": {},
   "outputs": [
    {
     "name": "stdout",
     "output_type": "stream",
     "text": [
      "selected domains\n",
      "domain_name: medical\n",
      "domain_name: mce\n",
      "domain_name: economic\n",
      "domain_name: juridical\n",
      "domain_name: publishing\n",
      "domain_name: cooking\n",
      "domain_name: philosophical\n",
      "domain_name: buddhist\n"
     ]
    },
    {
     "data": {
      "application/vnd.microsoft.datawrangler.viewer.v0+json": {
       "columns": [
        {
         "name": "index",
         "rawType": "int64",
         "type": "integer"
        },
        {
         "name": "word",
         "rawType": "object",
         "type": "string"
        },
        {
         "name": "medical",
         "rawType": "float64",
         "type": "float"
        },
        {
         "name": "mce",
         "rawType": "float64",
         "type": "float"
        },
        {
         "name": "economic",
         "rawType": "float64",
         "type": "float"
        },
        {
         "name": "juridical",
         "rawType": "float64",
         "type": "float"
        },
        {
         "name": "publishing",
         "rawType": "float64",
         "type": "float"
        },
        {
         "name": "cooking",
         "rawType": "float64",
         "type": "float"
        },
        {
         "name": "philosophical",
         "rawType": "float64",
         "type": "float"
        },
        {
         "name": "buddhist",
         "rawType": "float64",
         "type": "float"
        },
        {
         "name": "aberrated",
         "rawType": "int64",
         "type": "integer"
        },
        {
         "name": "domain_id",
         "rawType": "int64",
         "type": "integer"
        },
        {
         "name": "domain",
         "rawType": "object",
         "type": "string"
        }
       ],
       "ref": "0025c938-9aef-4e01-8224-903af9f4d5de",
       "rows": [
        [
         "0",
         "8番らーめん",
         "0.0",
         "0.0",
         "0.0",
         "0.0",
         "0.0",
         "1.0",
         "0.0",
         "0.0",
         "0",
         "5",
         "cooking"
        ],
        [
         "1",
         "ABCスープ",
         "0.0",
         "0.0",
         "0.0",
         "0.0",
         "0.0",
         "1.0",
         "0.0",
         "0.0",
         "0",
         "5",
         "cooking"
        ],
        [
         "3",
         "BTSサラダ",
         "0.0",
         "0.0",
         "0.0",
         "0.0",
         "0.0",
         "1.0",
         "0.0",
         "0.0",
         "0",
         "5",
         "cooking"
        ],
        [
         "4",
         "SIOコンコーンカツ",
         "0.0",
         "0.0",
         "0.0",
         "0.0",
         "0.0",
         "1.0",
         "0.0",
         "0.0",
         "0",
         "5",
         "cooking"
        ],
        [
         "8",
         "アイス抹茶ラテ",
         "0.0",
         "0.0",
         "0.0",
         "0.0",
         "0.0",
         "1.0",
         "0.0",
         "0.0",
         "0",
         "5",
         "cooking"
        ],
        [
         "9",
         "あいちの伝統野菜",
         "0.0",
         "0.0",
         "0.0",
         "0.0",
         "0.0",
         "1.0",
         "0.0",
         "0.0",
         "0",
         "5",
         "cooking"
        ],
        [
         "20",
         "アカギ握り",
         "0.0",
         "0.0",
         "0.0",
         "0.0",
         "0.0",
         "1.0",
         "0.0",
         "0.0",
         "0",
         "5",
         "cooking"
        ],
        [
         "22",
         "アカシアの花の天ぷら",
         "0.0",
         "0.0",
         "0.0",
         "0.0",
         "0.0",
         "1.0",
         "0.0",
         "0.0",
         "0",
         "5",
         "cooking"
        ],
        [
         "30",
         "アグリのソーダ",
         "0.0",
         "0.0",
         "0.0",
         "0.0",
         "0.0",
         "1.0",
         "0.0",
         "0.0",
         "0",
         "5",
         "cooking"
        ],
        [
         "36",
         "アケビ料理",
         "0.0",
         "0.0",
         "0.0",
         "0.0",
         "0.0",
         "1.0",
         "0.0",
         "0.0",
         "0",
         "5",
         "cooking"
        ],
        [
         "45",
         "あご煮干し",
         "0.0",
         "0.0",
         "0.0",
         "0.0",
         "0.0",
         "1.0",
         "0.0",
         "0.0",
         "0",
         "5",
         "cooking"
        ],
        [
         "49",
         "あさつきの球根",
         "0.0",
         "0.0",
         "0.0",
         "0.0",
         "0.0",
         "1.0",
         "0.0",
         "0.0",
         "0",
         "5",
         "cooking"
        ],
        [
         "52",
         "アサリの目刺し",
         "0.0",
         "0.0",
         "0.0",
         "0.0",
         "0.0",
         "1.0",
         "0.0",
         "0.0",
         "0",
         "5",
         "cooking"
        ],
        [
         "53",
         "あさりバター",
         "0.0",
         "0.0",
         "0.0",
         "0.0",
         "0.0",
         "1.0",
         "0.0",
         "0.0",
         "0",
         "5",
         "cooking"
        ],
        [
         "54",
         "あさり入り赤だし",
         "0.0",
         "0.0",
         "0.0",
         "0.0",
         "0.0",
         "1.0",
         "0.0",
         "0.0",
         "0",
         "5",
         "cooking"
        ],
        [
         "55",
         "アジサイ揚げ",
         "0.0",
         "0.0",
         "0.0",
         "0.0",
         "0.0",
         "1.0",
         "0.0",
         "0.0",
         "0",
         "5",
         "cooking"
        ],
        [
         "56",
         "あじの丸寿司",
         "0.0",
         "0.0",
         "0.0",
         "0.0",
         "0.0",
         "1.0",
         "0.0",
         "0.0",
         "0",
         "5",
         "cooking"
        ],
        [
         "64",
         "あたり胡麻",
         "0.0",
         "0.0",
         "0.0",
         "0.0",
         "0.0",
         "1.0",
         "0.0",
         "0.0",
         "0",
         "5",
         "cooking"
        ],
        [
         "76",
         "アナジャコ料理",
         "0.0",
         "0.0",
         "0.0",
         "0.0",
         "0.0",
         "1.0",
         "0.0",
         "0.0",
         "0",
         "5",
         "cooking"
        ],
        [
         "77",
         "あねっこバーガー",
         "0.0",
         "0.0",
         "0.0",
         "0.0",
         "0.0",
         "1.0",
         "0.0",
         "0.0",
         "0",
         "5",
         "cooking"
        ],
        [
         "80",
         "アバサー汁",
         "0.0",
         "0.0",
         "0.0",
         "0.0",
         "0.0",
         "1.0",
         "0.0",
         "0.0",
         "0",
         "5",
         "cooking"
        ],
        [
         "82",
         "アバスの唐揚げ",
         "0.0",
         "0.0",
         "0.0",
         "0.0",
         "0.0",
         "1.0",
         "0.0",
         "0.0",
         "0",
         "5",
         "cooking"
        ],
        [
         "90",
         "あぶらげピザ",
         "0.0",
         "0.0",
         "0.0",
         "0.0",
         "0.0",
         "1.0",
         "0.0",
         "0.0",
         "0",
         "5",
         "cooking"
        ],
        [
         "100",
         "あやみどりサラダ",
         "0.0",
         "0.0",
         "0.0",
         "0.0",
         "0.0",
         "1.0",
         "0.0",
         "0.0",
         "0",
         "5",
         "cooking"
        ],
        [
         "101",
         "あやみどり米粉揚げパン",
         "0.0",
         "0.0",
         "0.0",
         "0.0",
         "0.0",
         "1.0",
         "0.0",
         "0.0",
         "0",
         "5",
         "cooking"
        ],
        [
         "104",
         "あゆの赤煮",
         "0.0",
         "0.0",
         "0.0",
         "0.0",
         "0.0",
         "1.0",
         "0.0",
         "0.0",
         "0",
         "5",
         "cooking"
        ],
        [
         "118",
         "アワビの味噌炊き",
         "0.0",
         "0.0",
         "0.0",
         "0.0",
         "0.0",
         "1.0",
         "0.0",
         "0.0",
         "0",
         "5",
         "cooking"
        ],
        [
         "119",
         "アワビの残酷焼",
         "0.0",
         "0.0",
         "0.0",
         "0.0",
         "0.0",
         "1.0",
         "0.0",
         "0.0",
         "0",
         "5",
         "cooking"
        ],
        [
         "120",
         "あわびの踊り焼き",
         "0.0",
         "0.0",
         "0.0",
         "0.0",
         "0.0",
         "1.0",
         "0.0",
         "0.0",
         "0",
         "5",
         "cooking"
        ],
        [
         "121",
         "あわびの踊り食い",
         "0.0",
         "0.0",
         "0.0",
         "0.0",
         "0.0",
         "1.0",
         "0.0",
         "0.0",
         "0",
         "5",
         "cooking"
        ],
        [
         "122",
         "あんかけカツ丼",
         "0.0",
         "0.0",
         "0.0",
         "0.0",
         "0.0",
         "1.0",
         "0.0",
         "0.0",
         "0",
         "5",
         "cooking"
        ],
        [
         "123",
         "あんかけスパゲッティ",
         "0.0",
         "0.0",
         "0.0",
         "0.0",
         "0.0",
         "1.0",
         "0.0",
         "0.0",
         "0",
         "5",
         "cooking"
        ],
        [
         "128",
         "あんず寿司",
         "0.0",
         "0.0",
         "0.0",
         "0.0",
         "0.0",
         "1.0",
         "0.0",
         "0.0",
         "0",
         "5",
         "cooking"
        ],
        [
         "133",
         "あんバタサンド",
         "0.0",
         "0.0",
         "0.0",
         "0.0",
         "0.0",
         "1.0",
         "0.0",
         "0.0",
         "0",
         "5",
         "cooking"
        ],
        [
         "137",
         "あん肝豆腐",
         "0.0",
         "0.0",
         "0.0",
         "0.0",
         "0.0",
         "1.0",
         "0.0",
         "0.0",
         "0",
         "5",
         "cooking"
        ],
        [
         "138",
         "イーユヌミー",
         "0.0",
         "0.0",
         "0.0",
         "0.0",
         "0.0",
         "1.0",
         "0.0",
         "0.0",
         "0",
         "5",
         "cooking"
        ],
        [
         "141",
         "イカおくら",
         "0.0",
         "0.0",
         "0.0",
         "0.0",
         "0.0",
         "1.0",
         "0.0",
         "0.0",
         "0",
         "5",
         "cooking"
        ],
        [
         "142",
         "いかくんサラダ",
         "0.0",
         "0.0",
         "0.0",
         "0.0",
         "0.0",
         "1.0",
         "0.0",
         "0.0",
         "0",
         "5",
         "cooking"
        ],
        [
         "145",
         "いかすみラーメン",
         "0.0",
         "0.0",
         "0.0",
         "0.0",
         "0.0",
         "1.0",
         "0.0",
         "0.0",
         "0",
         "5",
         "cooking"
        ],
        [
         "147",
         "イカスミ炒め",
         "0.0",
         "0.0",
         "0.0",
         "0.0",
         "0.0",
         "1.0",
         "0.0",
         "0.0",
         "0",
         "5",
         "cooking"
        ],
        [
         "149",
         "いかだ牛蒡",
         "0.0",
         "0.0",
         "0.0",
         "0.0",
         "0.0",
         "1.0",
         "0.0",
         "0.0",
         "0",
         "5",
         "cooking"
        ],
        [
         "150",
         "イカとゴーヤの炒め物",
         "0.0",
         "0.0",
         "0.0",
         "0.0",
         "0.0",
         "1.0",
         "0.0",
         "0.0",
         "0",
         "5",
         "cooking"
        ],
        [
         "152",
         "いかとんび醤油漬け",
         "0.0",
         "0.0",
         "0.0",
         "0.0",
         "0.0",
         "1.0",
         "0.0",
         "0.0",
         "0",
         "5",
         "cooking"
        ],
        [
         "157",
         "イカのゴロ焼",
         "0.0",
         "0.0",
         "0.0",
         "0.0",
         "0.0",
         "1.0",
         "0.0",
         "0.0",
         "0",
         "5",
         "cooking"
        ],
        [
         "158",
         "イカのチリソース",
         "0.0",
         "0.0",
         "0.0",
         "0.0",
         "0.0",
         "1.0",
         "0.0",
         "0.0",
         "0",
         "5",
         "cooking"
        ],
        [
         "159",
         "イカのとも和え炒め",
         "0.0",
         "0.0",
         "0.0",
         "0.0",
         "0.0",
         "1.0",
         "0.0",
         "0.0",
         "0",
         "5",
         "cooking"
        ],
        [
         "160",
         "イカのふいり",
         "0.0",
         "0.0",
         "0.0",
         "0.0",
         "0.0",
         "1.0",
         "0.0",
         "0.0",
         "0",
         "5",
         "cooking"
        ],
        [
         "161",
         "イカのぽっぽ焼き",
         "0.0",
         "0.0",
         "0.0",
         "0.0",
         "0.0",
         "1.0",
         "0.0",
         "0.0",
         "0",
         "5",
         "cooking"
        ],
        [
         "163",
         "イカの塩辛パン",
         "0.0",
         "0.0",
         "0.0",
         "0.0",
         "0.0",
         "1.0",
         "0.0",
         "0.0",
         "0",
         "5",
         "cooking"
        ],
        [
         "164",
         "イカの煮つけ",
         "0.0",
         "0.0",
         "0.0",
         "0.0",
         "0.0",
         "1.0",
         "0.0",
         "0.0",
         "0",
         "5",
         "cooking"
        ]
       ],
       "shape": {
        "columns": 12,
        "rows": 4924
       }
      },
      "text/html": [
       "<div>\n",
       "<style scoped>\n",
       "    .dataframe tbody tr th:only-of-type {\n",
       "        vertical-align: middle;\n",
       "    }\n",
       "\n",
       "    .dataframe tbody tr th {\n",
       "        vertical-align: top;\n",
       "    }\n",
       "\n",
       "    .dataframe thead th {\n",
       "        text-align: right;\n",
       "    }\n",
       "</style>\n",
       "<table border=\"1\" class=\"dataframe\">\n",
       "  <thead>\n",
       "    <tr style=\"text-align: right;\">\n",
       "      <th></th>\n",
       "      <th>word</th>\n",
       "      <th>medical</th>\n",
       "      <th>mce</th>\n",
       "      <th>economic</th>\n",
       "      <th>juridical</th>\n",
       "      <th>publishing</th>\n",
       "      <th>cooking</th>\n",
       "      <th>philosophical</th>\n",
       "      <th>buddhist</th>\n",
       "      <th>aberrated</th>\n",
       "      <th>domain_id</th>\n",
       "      <th>domain</th>\n",
       "    </tr>\n",
       "  </thead>\n",
       "  <tbody>\n",
       "    <tr>\n",
       "      <th>0</th>\n",
       "      <td>8番らーめん</td>\n",
       "      <td>0.0</td>\n",
       "      <td>0.0</td>\n",
       "      <td>0.0</td>\n",
       "      <td>0.0</td>\n",
       "      <td>0.0</td>\n",
       "      <td>1.0</td>\n",
       "      <td>0.0</td>\n",
       "      <td>0.0</td>\n",
       "      <td>0</td>\n",
       "      <td>5</td>\n",
       "      <td>cooking</td>\n",
       "    </tr>\n",
       "    <tr>\n",
       "      <th>1</th>\n",
       "      <td>ABCスープ</td>\n",
       "      <td>0.0</td>\n",
       "      <td>0.0</td>\n",
       "      <td>0.0</td>\n",
       "      <td>0.0</td>\n",
       "      <td>0.0</td>\n",
       "      <td>1.0</td>\n",
       "      <td>0.0</td>\n",
       "      <td>0.0</td>\n",
       "      <td>0</td>\n",
       "      <td>5</td>\n",
       "      <td>cooking</td>\n",
       "    </tr>\n",
       "    <tr>\n",
       "      <th>3</th>\n",
       "      <td>BTSサラダ</td>\n",
       "      <td>0.0</td>\n",
       "      <td>0.0</td>\n",
       "      <td>0.0</td>\n",
       "      <td>0.0</td>\n",
       "      <td>0.0</td>\n",
       "      <td>1.0</td>\n",
       "      <td>0.0</td>\n",
       "      <td>0.0</td>\n",
       "      <td>0</td>\n",
       "      <td>5</td>\n",
       "      <td>cooking</td>\n",
       "    </tr>\n",
       "    <tr>\n",
       "      <th>4</th>\n",
       "      <td>SIOコンコーンカツ</td>\n",
       "      <td>0.0</td>\n",
       "      <td>0.0</td>\n",
       "      <td>0.0</td>\n",
       "      <td>0.0</td>\n",
       "      <td>0.0</td>\n",
       "      <td>1.0</td>\n",
       "      <td>0.0</td>\n",
       "      <td>0.0</td>\n",
       "      <td>0</td>\n",
       "      <td>5</td>\n",
       "      <td>cooking</td>\n",
       "    </tr>\n",
       "    <tr>\n",
       "      <th>8</th>\n",
       "      <td>アイス抹茶ラテ</td>\n",
       "      <td>0.0</td>\n",
       "      <td>0.0</td>\n",
       "      <td>0.0</td>\n",
       "      <td>0.0</td>\n",
       "      <td>0.0</td>\n",
       "      <td>1.0</td>\n",
       "      <td>0.0</td>\n",
       "      <td>0.0</td>\n",
       "      <td>0</td>\n",
       "      <td>5</td>\n",
       "      <td>cooking</td>\n",
       "    </tr>\n",
       "    <tr>\n",
       "      <th>...</th>\n",
       "      <td>...</td>\n",
       "      <td>...</td>\n",
       "      <td>...</td>\n",
       "      <td>...</td>\n",
       "      <td>...</td>\n",
       "      <td>...</td>\n",
       "      <td>...</td>\n",
       "      <td>...</td>\n",
       "      <td>...</td>\n",
       "      <td>...</td>\n",
       "      <td>...</td>\n",
       "      <td>...</td>\n",
       "    </tr>\n",
       "    <tr>\n",
       "      <th>812</th>\n",
       "      <td>出血膀胱炎</td>\n",
       "      <td>1.0</td>\n",
       "      <td>0.0</td>\n",
       "      <td>0.0</td>\n",
       "      <td>0.0</td>\n",
       "      <td>0.0</td>\n",
       "      <td>0.0</td>\n",
       "      <td>0.0</td>\n",
       "      <td>0.0</td>\n",
       "      <td>1</td>\n",
       "      <td>0</td>\n",
       "      <td>medical</td>\n",
       "    </tr>\n",
       "    <tr>\n",
       "      <th>680</th>\n",
       "      <td>食性高脂血症</td>\n",
       "      <td>1.0</td>\n",
       "      <td>0.0</td>\n",
       "      <td>0.0</td>\n",
       "      <td>0.0</td>\n",
       "      <td>0.0</td>\n",
       "      <td>0.0</td>\n",
       "      <td>0.0</td>\n",
       "      <td>0.0</td>\n",
       "      <td>1</td>\n",
       "      <td>0</td>\n",
       "      <td>medical</td>\n",
       "    </tr>\n",
       "    <tr>\n",
       "      <th>652</th>\n",
       "      <td>腰部帯状疱疹</td>\n",
       "      <td>1.0</td>\n",
       "      <td>0.0</td>\n",
       "      <td>0.0</td>\n",
       "      <td>0.0</td>\n",
       "      <td>0.0</td>\n",
       "      <td>0.0</td>\n",
       "      <td>0.0</td>\n",
       "      <td>0.0</td>\n",
       "      <td>1</td>\n",
       "      <td>0</td>\n",
       "      <td>medical</td>\n",
       "    </tr>\n",
       "    <tr>\n",
       "      <th>595</th>\n",
       "      <td>敗血症性膚炎</td>\n",
       "      <td>1.0</td>\n",
       "      <td>0.0</td>\n",
       "      <td>0.0</td>\n",
       "      <td>0.0</td>\n",
       "      <td>0.0</td>\n",
       "      <td>0.0</td>\n",
       "      <td>0.0</td>\n",
       "      <td>0.0</td>\n",
       "      <td>1</td>\n",
       "      <td>0</td>\n",
       "      <td>medical</td>\n",
       "    </tr>\n",
       "    <tr>\n",
       "      <th>621</th>\n",
       "      <td>白色便下痢症</td>\n",
       "      <td>1.0</td>\n",
       "      <td>0.0</td>\n",
       "      <td>0.0</td>\n",
       "      <td>0.0</td>\n",
       "      <td>0.0</td>\n",
       "      <td>0.0</td>\n",
       "      <td>0.0</td>\n",
       "      <td>0.0</td>\n",
       "      <td>1</td>\n",
       "      <td>0</td>\n",
       "      <td>medical</td>\n",
       "    </tr>\n",
       "  </tbody>\n",
       "</table>\n",
       "<p>4924 rows × 12 columns</p>\n",
       "</div>"
      ],
      "text/plain": [
       "           word  medical  mce  economic  juridical  publishing  cooking  \\\n",
       "0        8番らーめん      0.0  0.0       0.0        0.0         0.0      1.0   \n",
       "1        ABCスープ      0.0  0.0       0.0        0.0         0.0      1.0   \n",
       "3        BTSサラダ      0.0  0.0       0.0        0.0         0.0      1.0   \n",
       "4    SIOコンコーンカツ      0.0  0.0       0.0        0.0         0.0      1.0   \n",
       "8       アイス抹茶ラテ      0.0  0.0       0.0        0.0         0.0      1.0   \n",
       "..          ...      ...  ...       ...        ...         ...      ...   \n",
       "812       出血膀胱炎      1.0  0.0       0.0        0.0         0.0      0.0   \n",
       "680      食性高脂血症      1.0  0.0       0.0        0.0         0.0      0.0   \n",
       "652      腰部帯状疱疹      1.0  0.0       0.0        0.0         0.0      0.0   \n",
       "595      敗血症性膚炎      1.0  0.0       0.0        0.0         0.0      0.0   \n",
       "621      白色便下痢症      1.0  0.0       0.0        0.0         0.0      0.0   \n",
       "\n",
       "     philosophical  buddhist  aberrated  domain_id   domain  \n",
       "0              0.0       0.0          0          5  cooking  \n",
       "1              0.0       0.0          0          5  cooking  \n",
       "3              0.0       0.0          0          5  cooking  \n",
       "4              0.0       0.0          0          5  cooking  \n",
       "8              0.0       0.0          0          5  cooking  \n",
       "..             ...       ...        ...        ...      ...  \n",
       "812            0.0       0.0          1          0  medical  \n",
       "680            0.0       0.0          1          0  medical  \n",
       "652            0.0       0.0          1          0  medical  \n",
       "595            0.0       0.0          1          0  medical  \n",
       "621            0.0       0.0          1          0  medical  \n",
       "\n",
       "[4924 rows x 12 columns]"
      ]
     },
     "execution_count": 101,
     "metadata": {},
     "output_type": "execute_result"
    }
   ],
   "source": [
    "## 分野の事例数の確認\n",
    "print(f\"selected domains\")\n",
    "#S = [ ]\n",
    "for domain_name in selected_domains.keys():\n",
    "    print(f\"domain_name: {domain_name}\")\n",
    "    S = df0[df0[domain_name] == 1]\n",
    "    S.loc[:,'domain'] = domain_name\n",
    "df0"
   ]
  },
  {
   "cell_type": "code",
   "execution_count": 102,
   "id": "7e5c0504",
   "metadata": {},
   "outputs": [
    {
     "name": "stdout",
     "output_type": "stream",
     "text": [
      "count of checksum == 0: 0\n",
      "count of checksum  > 1: 1\n"
     ]
    }
   ],
   "source": [
    "## 分野指定の整合性の確認\n",
    "#effective_vars = [ 'medical', 'mce', 'economic', 'juridical', 'publishing', 'cooking' ]\n",
    "#domain_names = id2domaing_mapping.values()\n",
    "effective_vars = [ x for x in domain_names if x != 'other' ]\n",
    "df0['checksum'] = df0[effective_vars].sum(axis = 1, skipna = True)\n",
    "print(f\"count of checksum == 0: {len(df0[df0['checksum'] == 0])}\")\n",
    "print(f\"count of checksum  > 1: {len(df0[df0['checksum'] > 1])}\")"
   ]
  },
  {
   "cell_type": "markdown",
   "id": "84162e1d",
   "metadata": {},
   "source": [
    "Balancing data"
   ]
  },
  {
   "cell_type": "code",
   "execution_count": 103,
   "id": "ac2f8f21-11be-4997-94b1-939683d6322a",
   "metadata": {},
   "outputs": [
    {
     "data": {
      "application/vnd.microsoft.datawrangler.viewer.v0+json": {
       "columns": [
        {
         "name": "domain_id",
         "rawType": "int64",
         "type": "integer"
        },
        {
         "name": "count",
         "rawType": "int64",
         "type": "integer"
        }
       ],
       "ref": "d741e5a3-5d2d-4e77-9c1d-b0a869e436c5",
       "rows": [
        [
         "0",
         "400"
        ],
        [
         "1",
         "400"
        ],
        [
         "2",
         "235"
        ],
        [
         "3",
         "400"
        ],
        [
         "4",
         "400"
        ],
        [
         "5",
         "400"
        ],
        [
         "6",
         "27"
        ]
       ],
       "shape": {
        "columns": 1,
        "rows": 7
       }
      },
      "text/plain": [
       "domain_id\n",
       "0    400\n",
       "1    400\n",
       "2    235\n",
       "3    400\n",
       "4    400\n",
       "5    400\n",
       "6     27\n",
       "Name: count, dtype: int64"
      ]
     },
     "execution_count": 103,
     "metadata": {},
     "output_type": "execute_result"
    }
   ],
   "source": [
    "## 混合のための割合を調整:　事例数を揃えるために復元抽出の設定にしているので事例の重複が起きる\n",
    "if balanced:\n",
    "    # Medical\n",
    "    if 'medical' in selected_domains.keys():\n",
    "        med_sampled = df0[ df0['medical'] == 1 ].sample(domain_sample_size, replace = False)\n",
    "    else:\n",
    "        med_sampled = None\n",
    "    # MCE\n",
    "    if 'mce' in selected_domains.keys():\n",
    "        mce_sampled = df0[ df0['mce'] == 1 ].sample(domain_sample_size, replace = False)\n",
    "    else:\n",
    "        mce_sampled = None\n",
    "    # Economical\n",
    "    if 'economic' in selected_domains.keys():\n",
    "        econo_sampled = df0[ df0['economic'] == 1 ]\n",
    "    else:\n",
    "        econo_sampled = None\n",
    "    # Juridical\n",
    "    if 'juridical' in selected_domains.keys():\n",
    "        jurid_sampled = df0[ df0['juridical'] == 1 ].sample(domain_sample_size, replace = True)\n",
    "    else:\n",
    "        jurid_sampled = None\n",
    "    # Publishing\n",
    "    if 'publishing' in selected_domains.keys():\n",
    "        pub_sampled = df0[ df0['publishing'] == 1 ].sample(domain_sample_size, replace = True)\n",
    "    else:\n",
    "        pub_sampled = None\n",
    "    # Cooking\n",
    "    if 'cooking' in selected_domains.keys():\n",
    "        cook_sampled = df0[ df0['cooking'] == 1 ].sample(domain_sample_size, replace = False)\n",
    "    else:\n",
    "        cook_sampled = None\n",
    "    # Philosophical\n",
    "    if 'philosophical' in selected_domains.keys():\n",
    "        philo_sampled = df0[ df0['philosophical'] == 1 ]\n",
    "    else:\n",
    "        philo_sampled = None\n",
    "    # Buddhist\n",
    "    if 'buddhist' in selected_domains.keys():\n",
    "        budd_sampled = df0[ df0['buddhist'] == 1 ]\n",
    "    else:\n",
    "        budd_sampled = None\n",
    "    ## integration\n",
    "    df0 = pd.concat([med_sampled, mce_sampled, econo_sampled, jurid_sampled, pub_sampled,\n",
    "                     cook_sampled, philo_sampled, budd_sampled ])\n",
    "\n",
    "## domain の事例数の確認\n",
    "df0['domain_id'].value_counts(sort = True).sort_index()"
   ]
  },
  {
   "cell_type": "code",
   "execution_count": 104,
   "id": "45ab3764",
   "metadata": {},
   "outputs": [],
   "source": [
    "## 順序をランダマイズし df0 を df として再定義\n",
    "import sklearn.utils\n",
    "df = sklearn.utils.shuffle(df0)"
   ]
  },
  {
   "cell_type": "code",
   "execution_count": 105,
   "id": "21cb4ae1",
   "metadata": {
    "scrolled": true
   },
   "outputs": [
    {
     "data": {
      "application/vnd.microsoft.datawrangler.viewer.v0+json": {
       "columns": [
        {
         "name": "index",
         "rawType": "int64",
         "type": "integer"
        },
        {
         "name": "word",
         "rawType": "object",
         "type": "string"
        },
        {
         "name": "domain_id",
         "rawType": "int64",
         "type": "integer"
        },
        {
         "name": "checksum",
         "rawType": "float64",
         "type": "float"
        }
       ],
       "ref": "9f4166a6-aee0-41b6-8101-6a291e59b44d",
       "rows": [
        [
         "996",
         "ロール箔押し",
         "4",
         "1.0"
        ],
        [
         "424",
         "当直医上申",
         "1",
         "1.0"
        ],
        [
         "171",
         "フック鑞着",
         "1",
         "1.0"
        ],
        [
         "640",
         "がんす饅頭",
         "5",
         "1.0"
        ],
        [
         "4612",
         "釜茹でちりめん",
         "5",
         "1.0"
        ],
        [
         "428",
         "催告の抗弁",
         "3",
         "1.0"
        ],
        [
         "44",
         "NST活動",
         "1",
         "1.0"
        ],
        [
         "402",
         "上告趣意書",
         "3",
         "1.0"
        ],
        [
         "4598",
         "金沢おでん",
         "5",
         "1.0"
        ],
        [
         "406",
         "無償の供与",
         "3",
         "1.0"
        ],
        [
         "11",
         "保護観察処分",
         "3",
         "1.0"
        ],
        [
         "773",
         "詐害行為取消訴訟",
         "3",
         "1.0"
        ],
        [
         "372",
         "為替レート",
         "2",
         "1.0"
        ],
        [
         "51",
         "PDスキップ",
         "1",
         "1.0"
        ],
        [
         "701",
         "補助者待機",
         "1",
         "1.0"
        ],
        [
         "518",
         "かつお酒盗",
         "5",
         "1.0"
        ],
        [
         "582",
         "カマスの塩辛",
         "5",
         "1.0"
        ],
        [
         "203",
         "株券喪失登録簿",
         "3",
         "1.0"
        ],
        [
         "190",
         "メントール湿布",
         "1",
         "1.0"
        ],
        [
         "507",
         "条件付MRI対応PM",
         "1",
         "1.0"
        ],
        [
         "309",
         "動脈瘤頚部クリッピング",
         "1",
         "1.0"
        ],
        [
         "224",
         "有線放送権",
         "3",
         "1.0"
        ],
        [
         "412",
         "左足背部皮下",
         "1",
         "1.0"
        ],
        [
         "645",
         "腸管内RI排泄",
         "1",
         "1.0"
        ],
        [
         "138",
         "公の秩序又は善良の風俗",
         "3",
         "1.0"
        ],
        [
         "193",
         "三十七尊勝法",
         "6",
         "2.0"
        ],
        [
         "1974",
         "産褥期貧血",
         "0",
         "1.0"
        ],
        [
         "122",
         "一過性菌血症",
         "0",
         "1.0"
        ],
        [
         "483",
         "金融商品取引法",
         "2",
         "1.0"
        ],
        [
         "385",
         "伝染性単核球症",
         "0",
         "1.0"
        ],
        [
         "335",
         "単純性尿感染症",
         "0",
         "1.0"
        ],
        [
         "618",
         "インチ飛びミシン",
         "4",
         "1.0"
        ],
        [
         "1520",
         "枚葉丁合機",
         "4",
         "1.0"
        ],
        [
         "163",
         "ヒューマリンOFF",
         "1",
         "1.0"
        ],
        [
         "1090",
         "じゃこカツ",
         "5",
         "1.0"
        ],
        [
         "2970",
         "術後腟癒着",
         "0",
         "1.0"
        ],
        [
         "783",
         "チョッパー折り装置",
         "4",
         "1.0"
        ],
        [
         "506",
         "先天性肺動脈瘤",
         "0",
         "1.0"
        ],
        [
         "918",
         "ペンチ抜き",
         "4",
         "1.0"
        ],
        [
         "828",
         "ハイ・キー",
         "4",
         "1.0"
        ],
        [
         "1481",
         "断裁の寸法不揃い",
         "4",
         "1.0"
        ],
        [
         "1352",
         "巻き取り紙",
         "4",
         "1.0"
        ],
        [
         "133",
         "私選弁護人",
         "3",
         "1.0"
        ],
        [
         "502",
         "障害年金差額一時金",
         "3",
         "1.0"
        ],
        [
         "1419",
         "チップの姿寿司",
         "5",
         "1.0"
        ],
        [
         "887",
         "プラスチック綴じ",
         "4",
         "1.0"
        ],
        [
         "2873",
         "出汁を引く",
         "5",
         "1.0"
        ],
        [
         "629",
         "背部タッピング",
         "1",
         "1.0"
        ],
        [
         "291",
         "外部不経済",
         "2",
         "1.0"
        ],
        [
         "3930",
         "煮込みソースカツ丼",
         "5",
         "1.0"
        ]
       ],
       "shape": {
        "columns": 3,
        "rows": 2262
       }
      },
      "text/html": [
       "<div>\n",
       "<style scoped>\n",
       "    .dataframe tbody tr th:only-of-type {\n",
       "        vertical-align: middle;\n",
       "    }\n",
       "\n",
       "    .dataframe tbody tr th {\n",
       "        vertical-align: top;\n",
       "    }\n",
       "\n",
       "    .dataframe thead th {\n",
       "        text-align: right;\n",
       "    }\n",
       "</style>\n",
       "<table border=\"1\" class=\"dataframe\">\n",
       "  <thead>\n",
       "    <tr style=\"text-align: right;\">\n",
       "      <th></th>\n",
       "      <th>word</th>\n",
       "      <th>domain_id</th>\n",
       "      <th>checksum</th>\n",
       "    </tr>\n",
       "  </thead>\n",
       "  <tbody>\n",
       "    <tr>\n",
       "      <th>996</th>\n",
       "      <td>ロール箔押し</td>\n",
       "      <td>4</td>\n",
       "      <td>1.0</td>\n",
       "    </tr>\n",
       "    <tr>\n",
       "      <th>424</th>\n",
       "      <td>当直医上申</td>\n",
       "      <td>1</td>\n",
       "      <td>1.0</td>\n",
       "    </tr>\n",
       "    <tr>\n",
       "      <th>171</th>\n",
       "      <td>フック鑞着</td>\n",
       "      <td>1</td>\n",
       "      <td>1.0</td>\n",
       "    </tr>\n",
       "    <tr>\n",
       "      <th>640</th>\n",
       "      <td>がんす饅頭</td>\n",
       "      <td>5</td>\n",
       "      <td>1.0</td>\n",
       "    </tr>\n",
       "    <tr>\n",
       "      <th>4612</th>\n",
       "      <td>釜茹でちりめん</td>\n",
       "      <td>5</td>\n",
       "      <td>1.0</td>\n",
       "    </tr>\n",
       "    <tr>\n",
       "      <th>...</th>\n",
       "      <td>...</td>\n",
       "      <td>...</td>\n",
       "      <td>...</td>\n",
       "    </tr>\n",
       "    <tr>\n",
       "      <th>2564</th>\n",
       "      <td>りゅうきゅう押し寿司</td>\n",
       "      <td>5</td>\n",
       "      <td>1.0</td>\n",
       "    </tr>\n",
       "    <tr>\n",
       "      <th>637</th>\n",
       "      <td>脈拍モニター</td>\n",
       "      <td>1</td>\n",
       "      <td>1.0</td>\n",
       "    </tr>\n",
       "    <tr>\n",
       "      <th>60</th>\n",
       "      <td>婚姻要件具備証明書</td>\n",
       "      <td>3</td>\n",
       "      <td>1.0</td>\n",
       "    </tr>\n",
       "    <tr>\n",
       "      <th>1542</th>\n",
       "      <td>慢性肝不全</td>\n",
       "      <td>0</td>\n",
       "      <td>1.0</td>\n",
       "    </tr>\n",
       "    <tr>\n",
       "      <th>635</th>\n",
       "      <td>エンボス加工</td>\n",
       "      <td>4</td>\n",
       "      <td>1.0</td>\n",
       "    </tr>\n",
       "  </tbody>\n",
       "</table>\n",
       "<p>2262 rows × 3 columns</p>\n",
       "</div>"
      ],
      "text/plain": [
       "            word  domain_id  checksum\n",
       "996       ロール箔押し          4       1.0\n",
       "424        当直医上申          1       1.0\n",
       "171        フック鑞着          1       1.0\n",
       "640        がんす饅頭          5       1.0\n",
       "4612     釜茹でちりめん          5       1.0\n",
       "...          ...        ...       ...\n",
       "2564  りゅうきゅう押し寿司          5       1.0\n",
       "637       脈拍モニター          1       1.0\n",
       "60     婚姻要件具備証明書          3       1.0\n",
       "1542       慢性肝不全          0       1.0\n",
       "635       エンボス加工          4       1.0\n",
       "\n",
       "[2262 rows x 3 columns]"
      ]
     },
     "execution_count": 105,
     "metadata": {},
     "output_type": "execute_result"
    }
   ],
   "source": [
    "## 設定の確認\n",
    "df[[doc_type, 'domain_id', 'checksum']]"
   ]
  },
  {
   "cell_type": "code",
   "execution_count": 106,
   "id": "17515531",
   "metadata": {},
   "outputs": [
    {
     "data": {
      "application/vnd.microsoft.datawrangler.viewer.v0+json": {
       "columns": [
        {
         "name": "index",
         "rawType": "int64",
         "type": "integer"
        },
        {
         "name": "word",
         "rawType": "object",
         "type": "string"
        },
        {
         "name": "size",
         "rawType": "int64",
         "type": "integer"
        }
       ],
       "ref": "c77511f7-f521-46bf-a3c2-a005aa9cd591",
       "rows": [
        [
         "996",
         "ロール箔押し",
         "6"
        ],
        [
         "424",
         "当直医上申",
         "5"
        ],
        [
         "171",
         "フック鑞着",
         "5"
        ],
        [
         "640",
         "がんす饅頭",
         "5"
        ],
        [
         "4612",
         "釜茹でちりめん",
         "7"
        ],
        [
         "428",
         "催告の抗弁",
         "5"
        ],
        [
         "44",
         "NST活動",
         "5"
        ],
        [
         "402",
         "上告趣意書",
         "5"
        ],
        [
         "4598",
         "金沢おでん",
         "5"
        ],
        [
         "406",
         "無償の供与",
         "5"
        ],
        [
         "11",
         "保護観察処分",
         "6"
        ],
        [
         "773",
         "詐害行為取消訴訟",
         "8"
        ],
        [
         "372",
         "為替レート",
         "5"
        ],
        [
         "51",
         "PDスキップ",
         "6"
        ],
        [
         "701",
         "補助者待機",
         "5"
        ],
        [
         "518",
         "かつお酒盗",
         "5"
        ],
        [
         "582",
         "カマスの塩辛",
         "6"
        ],
        [
         "203",
         "株券喪失登録簿",
         "7"
        ],
        [
         "190",
         "メントール湿布",
         "7"
        ],
        [
         "507",
         "条件付MRI対応PM",
         "10"
        ],
        [
         "309",
         "動脈瘤頚部クリッピング",
         "11"
        ],
        [
         "224",
         "有線放送権",
         "5"
        ],
        [
         "412",
         "左足背部皮下",
         "6"
        ],
        [
         "645",
         "腸管内RI排泄",
         "7"
        ],
        [
         "138",
         "公の秩序又は善良の風俗",
         "11"
        ],
        [
         "193",
         "三十七尊勝法",
         "6"
        ],
        [
         "1974",
         "産褥期貧血",
         "5"
        ],
        [
         "122",
         "一過性菌血症",
         "6"
        ],
        [
         "483",
         "金融商品取引法",
         "7"
        ],
        [
         "385",
         "伝染性単核球症",
         "7"
        ],
        [
         "335",
         "単純性尿感染症",
         "7"
        ],
        [
         "618",
         "インチ飛びミシン",
         "8"
        ],
        [
         "1520",
         "枚葉丁合機",
         "5"
        ],
        [
         "163",
         "ヒューマリンOFF",
         "9"
        ],
        [
         "1090",
         "じゃこカツ",
         "5"
        ],
        [
         "2970",
         "術後腟癒着",
         "5"
        ],
        [
         "783",
         "チョッパー折り装置",
         "9"
        ],
        [
         "506",
         "先天性肺動脈瘤",
         "7"
        ],
        [
         "918",
         "ペンチ抜き",
         "5"
        ],
        [
         "828",
         "ハイ・キー",
         "5"
        ],
        [
         "1481",
         "断裁の寸法不揃い",
         "8"
        ],
        [
         "1352",
         "巻き取り紙",
         "5"
        ],
        [
         "133",
         "私選弁護人",
         "5"
        ],
        [
         "502",
         "障害年金差額一時金",
         "9"
        ],
        [
         "1419",
         "チップの姿寿司",
         "7"
        ],
        [
         "887",
         "プラスチック綴じ",
         "8"
        ],
        [
         "2873",
         "出汁を引く",
         "5"
        ],
        [
         "629",
         "背部タッピング",
         "7"
        ],
        [
         "291",
         "外部不経済",
         "5"
        ],
        [
         "3930",
         "煮込みソースカツ丼",
         "9"
        ]
       ],
       "shape": {
        "columns": 2,
        "rows": 2262
       }
      },
      "text/html": [
       "<div>\n",
       "<style scoped>\n",
       "    .dataframe tbody tr th:only-of-type {\n",
       "        vertical-align: middle;\n",
       "    }\n",
       "\n",
       "    .dataframe tbody tr th {\n",
       "        vertical-align: top;\n",
       "    }\n",
       "\n",
       "    .dataframe thead th {\n",
       "        text-align: right;\n",
       "    }\n",
       "</style>\n",
       "<table border=\"1\" class=\"dataframe\">\n",
       "  <thead>\n",
       "    <tr style=\"text-align: right;\">\n",
       "      <th></th>\n",
       "      <th>word</th>\n",
       "      <th>size</th>\n",
       "    </tr>\n",
       "  </thead>\n",
       "  <tbody>\n",
       "    <tr>\n",
       "      <th>996</th>\n",
       "      <td>ロール箔押し</td>\n",
       "      <td>6</td>\n",
       "    </tr>\n",
       "    <tr>\n",
       "      <th>424</th>\n",
       "      <td>当直医上申</td>\n",
       "      <td>5</td>\n",
       "    </tr>\n",
       "    <tr>\n",
       "      <th>171</th>\n",
       "      <td>フック鑞着</td>\n",
       "      <td>5</td>\n",
       "    </tr>\n",
       "    <tr>\n",
       "      <th>640</th>\n",
       "      <td>がんす饅頭</td>\n",
       "      <td>5</td>\n",
       "    </tr>\n",
       "    <tr>\n",
       "      <th>4612</th>\n",
       "      <td>釜茹でちりめん</td>\n",
       "      <td>7</td>\n",
       "    </tr>\n",
       "    <tr>\n",
       "      <th>...</th>\n",
       "      <td>...</td>\n",
       "      <td>...</td>\n",
       "    </tr>\n",
       "    <tr>\n",
       "      <th>2564</th>\n",
       "      <td>りゅうきゅう押し寿司</td>\n",
       "      <td>10</td>\n",
       "    </tr>\n",
       "    <tr>\n",
       "      <th>637</th>\n",
       "      <td>脈拍モニター</td>\n",
       "      <td>6</td>\n",
       "    </tr>\n",
       "    <tr>\n",
       "      <th>60</th>\n",
       "      <td>婚姻要件具備証明書</td>\n",
       "      <td>9</td>\n",
       "    </tr>\n",
       "    <tr>\n",
       "      <th>1542</th>\n",
       "      <td>慢性肝不全</td>\n",
       "      <td>5</td>\n",
       "    </tr>\n",
       "    <tr>\n",
       "      <th>635</th>\n",
       "      <td>エンボス加工</td>\n",
       "      <td>6</td>\n",
       "    </tr>\n",
       "  </tbody>\n",
       "</table>\n",
       "<p>2262 rows × 2 columns</p>\n",
       "</div>"
      ],
      "text/plain": [
       "            word  size\n",
       "996       ロール箔押し     6\n",
       "424        当直医上申     5\n",
       "171        フック鑞着     5\n",
       "640        がんす饅頭     5\n",
       "4612     釜茹でちりめん     7\n",
       "...          ...   ...\n",
       "2564  りゅうきゅう押し寿司    10\n",
       "637       脈拍モニター     6\n",
       "60     婚姻要件具備証明書     9\n",
       "1542       慢性肝不全     5\n",
       "635       エンボス加工     6\n",
       "\n",
       "[2262 rows x 2 columns]"
      ]
     },
     "execution_count": 106,
     "metadata": {},
     "output_type": "execute_result"
    }
   ],
   "source": [
    "## 文字数列の追加\n",
    "df['size'] = df[doc_type].apply(lambda x: len(x))\n",
    "df[['word', 'size']]"
   ]
  },
  {
   "cell_type": "code",
   "execution_count": 107,
   "id": "8cc9a281",
   "metadata": {},
   "outputs": [
    {
     "name": "stderr",
     "output_type": "stream",
     "text": [
      "/var/folders/36/bz6nd12s6_z17390cw3lqzr00000gn/T/ipykernel_3994/3246350138.py:11: UserWarning: FigureCanvasAgg is non-interactive, and thus cannot be shown\n",
      "  fig.show()\n"
     ]
    },
    {
     "data": {
      "image/png": "[encoded data removed]",
      "text/plain": [
       "<Figure size 640x480 with 1 Axes>"
      ]
     },
     "metadata": {},
     "output_type": "display_data"
    }
   ],
   "source": [
    "## 文字数の分布\n",
    "import numpy as np\n",
    "import matplotlib.pyplot as plt\n",
    "\n",
    "fig = plt.figure()\n",
    "ax = fig.add_subplot(1,1,1)\n",
    "ax.hist(df['size'], bins = 15)\n",
    "ax.set_xlabel('length of doc')\n",
    "ax.set_ylabel('freq')\n",
    "plt.title(f\"Distribution of doc sizes (character counts) after filtering\")\n",
    "fig.show()"
   ]
  },
  {
   "cell_type": "markdown",
   "id": "b9e9a270",
   "metadata": {},
   "source": [
    "DTM 構築"
   ]
  },
  {
   "cell_type": "code",
   "execution_count": 108,
   "id": "d6cb3f97",
   "metadata": {},
   "outputs": [],
   "source": [
    "## 境界記号の追加\n",
    "if add_boundaries:\n",
    "    df[doc_type] = df[doc_type].apply(lambda x: f\"{boundary_symbol}{x}{boundary_symbol}\")"
   ]
  },
  {
   "cell_type": "code",
   "execution_count": 109,
   "id": "405178d9",
   "metadata": {},
   "outputs": [
    {
     "data": {
      "application/vnd.microsoft.datawrangler.viewer.v0+json": {
       "columns": [
        {
         "name": "index",
         "rawType": "int64",
         "type": "integer"
        },
        {
         "name": "word",
         "rawType": "object",
         "type": "string"
        }
       ],
       "ref": "f6fb3f3e-9fb7-44bb-94eb-8a1ea27cc5d1",
       "rows": [
        [
         "996",
         "#ロール箔押し#"
        ],
        [
         "424",
         "#当直医上申#"
        ],
        [
         "171",
         "#フック鑞着#"
        ],
        [
         "640",
         "#がんす饅頭#"
        ],
        [
         "4612",
         "#釜茹でちりめん#"
        ],
        [
         "428",
         "#催告の抗弁#"
        ],
        [
         "44",
         "#NST活動#"
        ],
        [
         "402",
         "#上告趣意書#"
        ],
        [
         "4598",
         "#金沢おでん#"
        ],
        [
         "406",
         "#無償の供与#"
        ],
        [
         "11",
         "#保護観察処分#"
        ],
        [
         "773",
         "#詐害行為取消訴訟#"
        ],
        [
         "372",
         "#為替レート#"
        ],
        [
         "51",
         "#PDスキップ#"
        ],
        [
         "701",
         "#補助者待機#"
        ],
        [
         "518",
         "#かつお酒盗#"
        ],
        [
         "582",
         "#カマスの塩辛#"
        ],
        [
         "203",
         "#株券喪失登録簿#"
        ],
        [
         "190",
         "#メントール湿布#"
        ],
        [
         "507",
         "#条件付MRI対応PM#"
        ],
        [
         "309",
         "#動脈瘤頚部クリッピング#"
        ],
        [
         "224",
         "#有線放送権#"
        ],
        [
         "412",
         "#左足背部皮下#"
        ],
        [
         "645",
         "#腸管内RI排泄#"
        ],
        [
         "138",
         "#公の秩序又は善良の風俗#"
        ],
        [
         "193",
         "#三十七尊勝法#"
        ],
        [
         "1974",
         "#産褥期貧血#"
        ],
        [
         "122",
         "#一過性菌血症#"
        ],
        [
         "483",
         "#金融商品取引法#"
        ],
        [
         "385",
         "#伝染性単核球症#"
        ],
        [
         "335",
         "#単純性尿感染症#"
        ],
        [
         "618",
         "#インチ飛びミシン#"
        ],
        [
         "1520",
         "#枚葉丁合機#"
        ],
        [
         "163",
         "#ヒューマリンOFF#"
        ],
        [
         "1090",
         "#じゃこカツ#"
        ],
        [
         "2970",
         "#術後腟癒着#"
        ],
        [
         "783",
         "#チョッパー折り装置#"
        ],
        [
         "506",
         "#先天性肺動脈瘤#"
        ],
        [
         "918",
         "#ペンチ抜き#"
        ],
        [
         "828",
         "#ハイ・キー#"
        ],
        [
         "1481",
         "#断裁の寸法不揃い#"
        ],
        [
         "1352",
         "#巻き取り紙#"
        ],
        [
         "133",
         "#私選弁護人#"
        ],
        [
         "502",
         "#障害年金差額一時金#"
        ],
        [
         "1419",
         "#チップの姿寿司#"
        ],
        [
         "887",
         "#プラスチック綴じ#"
        ],
        [
         "2873",
         "#出汁を引く#"
        ],
        [
         "629",
         "#背部タッピング#"
        ],
        [
         "291",
         "#外部不経済#"
        ],
        [
         "3930",
         "#煮込みソースカツ丼#"
        ]
       ],
       "shape": {
        "columns": 1,
        "rows": 2262
       }
      },
      "text/plain": [
       "996         #ロール箔押し#\n",
       "424          #当直医上申#\n",
       "171          #フック鑞着#\n",
       "640          #がんす饅頭#\n",
       "4612       #釜茹でちりめん#\n",
       "            ...     \n",
       "2564    #りゅうきゅう押し寿司#\n",
       "637         #脈拍モニター#\n",
       "60       #婚姻要件具備証明書#\n",
       "1542         #慢性肝不全#\n",
       "635         #エンボス加工#\n",
       "Name: word, Length: 2262, dtype: object"
      ]
     },
     "execution_count": 109,
     "metadata": {},
     "output_type": "execute_result"
    }
   ],
   "source": [
    "## 共有される名称の定義\n",
    "docs = df[doc_type]\n",
    "docs"
   ]
  },
  {
   "cell_type": "markdown",
   "id": "5edc9f85",
   "metadata": {},
   "source": [
    "# n-gram 生成"
   ]
  },
  {
   "cell_type": "code",
   "execution_count": 110,
   "id": "72ea8d86-8719-4ce7-b6a4-d902b0f438d3",
   "metadata": {},
   "outputs": [
    {
     "data": {
      "application/vnd.microsoft.datawrangler.viewer.v0+json": {
       "columns": [
        {
         "name": "index",
         "rawType": "int64",
         "type": "integer"
        },
        {
         "name": "word",
         "rawType": "object",
         "type": "unknown"
        }
       ],
       "ref": "2c129efd-6831-499f-8013-f3a900d3f6c5",
       "rows": [
        [
         "996",
         "['#', 'ロ', 'ー', 'ル', '箔', '押', 'し', '#']"
        ],
        [
         "424",
         "['#', '当', '直', '医', '上', '申', '#']"
        ],
        [
         "171",
         "['#', 'フ', 'ッ', 'ク', '鑞', '着', '#']"
        ],
        [
         "640",
         "['#', 'が', 'ん', 'す', '饅', '頭', '#']"
        ],
        [
         "4612",
         "['#', '釜', '茹', 'で', 'ち', 'り', 'め', 'ん', '#']"
        ],
        [
         "428",
         "['#', '催', '告', 'の', '抗', '弁', '#']"
        ],
        [
         "44",
         "['#', 'N', 'S', 'T', '活', '動', '#']"
        ],
        [
         "402",
         "['#', '上', '告', '趣', '意', '書', '#']"
        ],
        [
         "4598",
         "['#', '金', '沢', 'お', 'で', 'ん', '#']"
        ],
        [
         "406",
         "['#', '無', '償', 'の', '供', '与', '#']"
        ],
        [
         "11",
         "['#', '保', '護', '観', '察', '処', '分', '#']"
        ],
        [
         "773",
         "['#', '詐', '害', '行', '為', '取', '消', '訴', '訟', '#']"
        ],
        [
         "372",
         "['#', '為', '替', 'レ', 'ー', 'ト', '#']"
        ],
        [
         "51",
         "['#', 'P', 'D', 'ス', 'キ', 'ッ', 'プ', '#']"
        ],
        [
         "701",
         "['#', '補', '助', '者', '待', '機', '#']"
        ],
        [
         "518",
         "['#', 'か', 'つ', 'お', '酒', '盗', '#']"
        ],
        [
         "582",
         "['#', 'カ', 'マ', 'ス', 'の', '塩', '辛', '#']"
        ],
        [
         "203",
         "['#', '株', '券', '喪', '失', '登', '録', '簿', '#']"
        ],
        [
         "190",
         "['#', 'メ', 'ン', 'ト', 'ー', 'ル', '湿', '布', '#']"
        ],
        [
         "507",
         "['#', '条', '件', '付', 'M', 'R', 'I', '対', '応', 'P', 'M', '#']"
        ],
        [
         "309",
         "['#', '動', '脈', '瘤', '頚', '部', 'ク', 'リ', 'ッ', 'ピ', 'ン', 'グ', '#']"
        ],
        [
         "224",
         "['#', '有', '線', '放', '送', '権', '#']"
        ],
        [
         "412",
         "['#', '左', '足', '背', '部', '皮', '下', '#']"
        ],
        [
         "645",
         "['#', '腸', '管', '内', 'R', 'I', '排', '泄', '#']"
        ],
        [
         "138",
         "['#', '公', 'の', '秩', '序', '又', 'は', '善', '良', 'の', '風', '俗', '#']"
        ],
        [
         "193",
         "['#', '三', '十', '七', '尊', '勝', '法', '#']"
        ],
        [
         "1974",
         "['#', '産', '褥', '期', '貧', '血', '#']"
        ],
        [
         "122",
         "['#', '一', '過', '性', '菌', '血', '症', '#']"
        ],
        [
         "483",
         "['#', '金', '融', '商', '品', '取', '引', '法', '#']"
        ],
        [
         "385",
         "['#', '伝', '染', '性', '単', '核', '球', '症', '#']"
        ],
        [
         "335",
         "['#', '単', '純', '性', '尿', '感', '染', '症', '#']"
        ],
        [
         "618",
         "['#', 'イ', 'ン', 'チ', '飛', 'び', 'ミ', 'シ', 'ン', '#']"
        ],
        [
         "1520",
         "['#', '枚', '葉', '丁', '合', '機', '#']"
        ],
        [
         "163",
         "['#', 'ヒ', 'ュ', 'ー', 'マ', 'リ', 'ン', 'O', 'F', 'F', '#']"
        ],
        [
         "1090",
         "['#', 'じ', 'ゃ', 'こ', 'カ', 'ツ', '#']"
        ],
        [
         "2970",
         "['#', '術', '後', '腟', '癒', '着', '#']"
        ],
        [
         "783",
         "['#', 'チ', 'ョ', 'ッ', 'パ', 'ー', '折', 'り', '装', '置', '#']"
        ],
        [
         "506",
         "['#', '先', '天', '性', '肺', '動', '脈', '瘤', '#']"
        ],
        [
         "918",
         "['#', 'ペ', 'ン', 'チ', '抜', 'き', '#']"
        ],
        [
         "828",
         "['#', 'ハ', 'イ', '・', 'キ', 'ー', '#']"
        ],
        [
         "1481",
         "['#', '断', '裁', 'の', '寸', '法', '不', '揃', 'い', '#']"
        ],
        [
         "1352",
         "['#', '巻', 'き', '取', 'り', '紙', '#']"
        ],
        [
         "133",
         "['#', '私', '選', '弁', '護', '人', '#']"
        ],
        [
         "502",
         "['#', '障', '害', '年', '金', '差', '額', '一', '時', '金', '#']"
        ],
        [
         "1419",
         "['#', 'チ', 'ッ', 'プ', 'の', '姿', '寿', '司', '#']"
        ],
        [
         "887",
         "['#', 'プ', 'ラ', 'ス', 'チ', 'ッ', 'ク', '綴', 'じ', '#']"
        ],
        [
         "2873",
         "['#', '出', '汁', 'を', '引', 'く', '#']"
        ],
        [
         "629",
         "['#', '背', '部', 'タ', 'ッ', 'ピ', 'ン', 'グ', '#']"
        ],
        [
         "291",
         "['#', '外', '部', '不', '経', '済', '#']"
        ],
        [
         "3930",
         "['#', '煮', '込', 'み', 'ソ', 'ー', 'ス', 'カ', 'ツ', '丼', '#']"
        ]
       ],
       "shape": {
        "columns": 1,
        "rows": 2262
       }
      },
      "text/plain": [
       "996                 [#, ロ, ー, ル, 箔, 押, し, #]\n",
       "424                    [#, 当, 直, 医, 上, 申, #]\n",
       "171                    [#, フ, ッ, ク, 鑞, 着, #]\n",
       "640                    [#, が, ん, す, 饅, 頭, #]\n",
       "4612             [#, 釜, 茹, で, ち, り, め, ん, #]\n",
       "                        ...                 \n",
       "2564    [#, り, ゅ, う, き, ゅ, う, 押, し, 寿, 司, #]\n",
       "637                 [#, 脈, 拍, モ, ニ, タ, ー, #]\n",
       "60         [#, 婚, 姻, 要, 件, 具, 備, 証, 明, 書, #]\n",
       "1542                   [#, 慢, 性, 肝, 不, 全, #]\n",
       "635                 [#, エ, ン, ボ, ス, 加, 工, #]\n",
       "Name: word, Length: 2262, dtype: object"
      ]
     },
     "execution_count": 110,
     "metadata": {},
     "output_type": "execute_result"
    }
   ],
   "source": [
    "## 1-gram 生成\n",
    "import re\n",
    "w_splitter = r\"\"\n",
    "unigrams = df[doc_type].apply(lambda w: [ x for x in re.split(w_splitter, w) if len(x) > 0] )\n",
    "unigrams"
   ]
  },
  {
   "cell_type": "code",
   "execution_count": 111,
   "id": "00d98c5c-27f9-4486-a0f1-aec0d31b6639",
   "metadata": {},
   "outputs": [
    {
     "data": {
      "text/plain": [
       "[('#', 4524),\n",
       " ('ー', 423),\n",
       " ('の', 267),\n",
       " ('性', 221),\n",
       " ('ン', 212),\n",
       " ('ル', 120),\n",
       " ('ス', 120),\n",
       " ('り', 112),\n",
       " ('き', 99),\n",
       " ('し', 96),\n",
       " ('ラ', 89),\n",
       " ('ト', 85),\n",
       " ('権', 83),\n",
       " ('ロ', 79),\n",
       " ('機', 78),\n",
       " ('炎', 75),\n",
       " ('ッ', 72),\n",
       " ('イ', 68),\n",
       " ('ア', 67),\n",
       " ('ク', 66)]"
      ]
     },
     "execution_count": 111,
     "metadata": {},
     "output_type": "execute_result"
    }
   ],
   "source": [
    "## 1-gram の頻度を取得\n",
    "import collections\n",
    "unigrams_all = [ ]\n",
    "[ unigrams_all.extend(L) for L in unigrams ]\n",
    "unigram_freqs = collections.Counter(unigrams_all)\n",
    "unigram_freqs.most_common(20)"
   ]
  },
  {
   "cell_type": "code",
   "execution_count": 112,
   "id": "0678e19b-bfe1-41de-b490-65fb3fccbdd6",
   "metadata": {},
   "outputs": [
    {
     "data": {
      "text/plain": [
       "['齢', '鼻', '鼡', '鼠', '鼓', '黒', '黄']"
      ]
     },
     "execution_count": 112,
     "metadata": {},
     "output_type": "execute_result"
    }
   ],
   "source": [
    "## 高頻度 1-gram フィルターの産物を確認\n",
    "highly_frequents = sorted(unigram_freqs, reverse = True)[:round(cutoff_rate * len(unigrams))]\n",
    "highly_frequents"
   ]
  },
  {
   "cell_type": "markdown",
   "id": "86be9049",
   "metadata": {},
   "source": [
    "高頻度文字 1-grams を除外"
   ]
  },
  {
   "cell_type": "code",
   "execution_count": 113,
   "id": "47290bc0-6755-4028-9255-15ae2a68990b",
   "metadata": {},
   "outputs": [
    {
     "name": "stdout",
     "output_type": "stream",
     "text": [
      "7 unigrams were not removed\n"
     ]
    }
   ],
   "source": [
    "## 高頻度 1-gram の除外\n",
    "if remove_highly_frequent_unigrams:\n",
    "    unigrams = [ g for g in unigrams if not g in highly_frequents ]\n",
    "    print(f\"{len(highly_frequents)} unigrams were removed due to high frequency\")\n",
    "else:\n",
    "    print(f\"{len(highly_frequents)} unigrams were not removed\")"
   ]
  },
  {
   "cell_type": "code",
   "execution_count": 114,
   "id": "bf74dc29-b3e0-47dd-86cb-f4cf8c6b0509",
   "metadata": {},
   "outputs": [
    {
     "data": {
      "application/vnd.microsoft.datawrangler.viewer.v0+json": {
       "columns": [
        {
         "name": "index",
         "rawType": "int64",
         "type": "integer"
        },
        {
         "name": "1gram",
         "rawType": "object",
         "type": "unknown"
        }
       ],
       "ref": "897c2b4e-121d-4a18-8ff2-828c14c04b32",
       "rows": [
        [
         "996",
         "['#', 'ロ', 'ー', 'ル', '箔', '押', 'し', '#']"
        ],
        [
         "424",
         "['#', '当', '直', '医', '上', '申', '#']"
        ],
        [
         "171",
         "['#', 'フ', 'ッ', 'ク', '鑞', '着', '#']"
        ],
        [
         "640",
         "['#', 'が', 'ん', 'す', '饅', '頭', '#']"
        ],
        [
         "4612",
         "['#', '釜', '茹', 'で', 'ち', 'り', 'め', 'ん', '#']"
        ],
        [
         "428",
         "['#', '催', '告', 'の', '抗', '弁', '#']"
        ],
        [
         "44",
         "['#', 'N', 'S', 'T', '活', '動', '#']"
        ],
        [
         "402",
         "['#', '上', '告', '趣', '意', '書', '#']"
        ],
        [
         "4598",
         "['#', '金', '沢', 'お', 'で', 'ん', '#']"
        ],
        [
         "406",
         "['#', '無', '償', 'の', '供', '与', '#']"
        ],
        [
         "11",
         "['#', '保', '護', '観', '察', '処', '分', '#']"
        ],
        [
         "773",
         "['#', '詐', '害', '行', '為', '取', '消', '訴', '訟', '#']"
        ],
        [
         "372",
         "['#', '為', '替', 'レ', 'ー', 'ト', '#']"
        ],
        [
         "51",
         "['#', 'P', 'D', 'ス', 'キ', 'ッ', 'プ', '#']"
        ],
        [
         "701",
         "['#', '補', '助', '者', '待', '機', '#']"
        ],
        [
         "518",
         "['#', 'か', 'つ', 'お', '酒', '盗', '#']"
        ],
        [
         "582",
         "['#', 'カ', 'マ', 'ス', 'の', '塩', '辛', '#']"
        ],
        [
         "203",
         "['#', '株', '券', '喪', '失', '登', '録', '簿', '#']"
        ],
        [
         "190",
         "['#', 'メ', 'ン', 'ト', 'ー', 'ル', '湿', '布', '#']"
        ],
        [
         "507",
         "['#', '条', '件', '付', 'M', 'R', 'I', '対', '応', 'P', 'M', '#']"
        ],
        [
         "309",
         "['#', '動', '脈', '瘤', '頚', '部', 'ク', 'リ', 'ッ', 'ピ', 'ン', 'グ', '#']"
        ],
        [
         "224",
         "['#', '有', '線', '放', '送', '権', '#']"
        ],
        [
         "412",
         "['#', '左', '足', '背', '部', '皮', '下', '#']"
        ],
        [
         "645",
         "['#', '腸', '管', '内', 'R', 'I', '排', '泄', '#']"
        ],
        [
         "138",
         "['#', '公', 'の', '秩', '序', '又', 'は', '善', '良', 'の', '風', '俗', '#']"
        ],
        [
         "193",
         "['#', '三', '十', '七', '尊', '勝', '法', '#']"
        ],
        [
         "1974",
         "['#', '産', '褥', '期', '貧', '血', '#']"
        ],
        [
         "122",
         "['#', '一', '過', '性', '菌', '血', '症', '#']"
        ],
        [
         "483",
         "['#', '金', '融', '商', '品', '取', '引', '法', '#']"
        ],
        [
         "385",
         "['#', '伝', '染', '性', '単', '核', '球', '症', '#']"
        ],
        [
         "335",
         "['#', '単', '純', '性', '尿', '感', '染', '症', '#']"
        ],
        [
         "618",
         "['#', 'イ', 'ン', 'チ', '飛', 'び', 'ミ', 'シ', 'ン', '#']"
        ],
        [
         "1520",
         "['#', '枚', '葉', '丁', '合', '機', '#']"
        ],
        [
         "163",
         "['#', 'ヒ', 'ュ', 'ー', 'マ', 'リ', 'ン', 'O', 'F', 'F', '#']"
        ],
        [
         "1090",
         "['#', 'じ', 'ゃ', 'こ', 'カ', 'ツ', '#']"
        ],
        [
         "2970",
         "['#', '術', '後', '腟', '癒', '着', '#']"
        ],
        [
         "783",
         "['#', 'チ', 'ョ', 'ッ', 'パ', 'ー', '折', 'り', '装', '置', '#']"
        ],
        [
         "506",
         "['#', '先', '天', '性', '肺', '動', '脈', '瘤', '#']"
        ],
        [
         "918",
         "['#', 'ペ', 'ン', 'チ', '抜', 'き', '#']"
        ],
        [
         "828",
         "['#', 'ハ', 'イ', '・', 'キ', 'ー', '#']"
        ],
        [
         "1481",
         "['#', '断', '裁', 'の', '寸', '法', '不', '揃', 'い', '#']"
        ],
        [
         "1352",
         "['#', '巻', 'き', '取', 'り', '紙', '#']"
        ],
        [
         "133",
         "['#', '私', '選', '弁', '護', '人', '#']"
        ],
        [
         "502",
         "['#', '障', '害', '年', '金', '差', '額', '一', '時', '金', '#']"
        ],
        [
         "1419",
         "['#', 'チ', 'ッ', 'プ', 'の', '姿', '寿', '司', '#']"
        ],
        [
         "887",
         "['#', 'プ', 'ラ', 'ス', 'チ', 'ッ', 'ク', '綴', 'じ', '#']"
        ],
        [
         "2873",
         "['#', '出', '汁', 'を', '引', 'く', '#']"
        ],
        [
         "629",
         "['#', '背', '部', 'タ', 'ッ', 'ピ', 'ン', 'グ', '#']"
        ],
        [
         "291",
         "['#', '外', '部', '不', '経', '済', '#']"
        ],
        [
         "3930",
         "['#', '煮', '込', 'み', 'ソ', 'ー', 'ス', 'カ', 'ツ', '丼', '#']"
        ]
       ],
       "shape": {
        "columns": 1,
        "rows": 2262
       }
      },
      "text/plain": [
       "996                 [#, ロ, ー, ル, 箔, 押, し, #]\n",
       "424                    [#, 当, 直, 医, 上, 申, #]\n",
       "171                    [#, フ, ッ, ク, 鑞, 着, #]\n",
       "640                    [#, が, ん, す, 饅, 頭, #]\n",
       "4612             [#, 釜, 茹, で, ち, り, め, ん, #]\n",
       "                        ...                 \n",
       "2564    [#, り, ゅ, う, き, ゅ, う, 押, し, 寿, 司, #]\n",
       "637                 [#, 脈, 拍, モ, ニ, タ, ー, #]\n",
       "60         [#, 婚, 姻, 要, 件, 具, 備, 証, 明, 書, #]\n",
       "1542                   [#, 慢, 性, 肝, 不, 全, #]\n",
       "635                 [#, エ, ン, ボ, ス, 加, 工, #]\n",
       "Name: 1gram, Length: 2262, dtype: object"
      ]
     },
     "execution_count": 114,
     "metadata": {},
     "output_type": "execute_result"
    }
   ],
   "source": [
    "## 名称の設定\n",
    "df['1gram'] = unigrams\n",
    "df['1gram']"
   ]
  },
  {
   "cell_type": "markdown",
   "id": "b2643a8c",
   "metadata": {},
   "source": [
    "## n-gram (n > 1) の生成"
   ]
  },
  {
   "cell_type": "code",
   "execution_count": 115,
   "id": "87aec3fa",
   "metadata": {},
   "outputs": [],
   "source": [
    "## generic function for n-gram generation\n",
    "def add_ngram_to_df (dfx, n_for_ngram: int, var_prefix: str = \"\", seg_joint: str = \"\", ngram_is_skippy: bool = False, ngram_is_inclusive: bool = ngram_is_inclusive, ngram_inclusiveness: int = ngram_inclusiveness, gap_mark: str = gap_mark, max_gap_size: int = max_gap_size, use_Cython: bool = False, check: bool = False):\n",
    "    \"\"\"\n",
    "    generic function for adding n-gram column to df with a specified n for ngram\n",
    "    \"\"\"\n",
    "    inclusion_size = (n_for_ngram - ngram_inclusiveness)\n",
    "    print(f\"inclusion_size: {inclusion_size}\")\n",
    "    assert inclusion_size >= 0\n",
    "    source_var = f\"{var_prefix}1gram\"\n",
    "    print(f\"source_var: {source_var}\")\n",
    "    unigrams = df[source_var]\n",
    "    if use_Cython:\n",
    "        import cy_gen_ngrams\n",
    "        if ngram_is_skippy:\n",
    "            ngrams = unigrams.apply(lambda x: cy_gen_ngrams.gen_skippy_ngrams (x, n = n_for_ngram, sep = seg_joint, missing_mark = gap_mark, max_distance = max_gap_size, check = False) )\n",
    "            \n",
    "        else:\n",
    "            ngrams = unigrams.apply(lambda x: cy_gen_ngrams.gen_ngrams (x, n = n_for_ngram, sep = seg_joint, check = False) )\n",
    "    else:\n",
    "        import gen_ngrams\n",
    "        if ngram_is_skippy:\n",
    "            ngrams = unigrams.apply(lambda x: gen_ngrams.gen_skippy_ngrams (x, n = n_for_ngram, sep = seg_joint, missing_mark = gap_mark, max_distance = max_gap_size, check = False) )\n",
    "        else:\n",
    "            ngrams = unigrams.apply(lambda x: gen_ngrams.gen_ngrams (x, n = n_for_ngram, sep = seg_joint, check = False) )\n",
    "    \n",
    "    ## 包括的 n-gramの生成\n",
    "    if ngram_is_inclusive:\n",
    "        assert (n_for_ngram - 1) > 0\n",
    "        if ngram_is_skippy and n_for_ngram > 2:\n",
    "            supplement_var = f\"{var_prefix}sk{n_for_ngram - 1}gram\"\n",
    "        else:\n",
    "            supplement_var = f\"{var_prefix}{n_for_ngram - 1}gram\"\n",
    "        print(f\"supplement_var: {supplement_var}\")\n",
    "        for i, g in enumerate(ngrams):\n",
    "            included = [ x for x in list(dfx[supplement_var])[i] if len(x) >= inclusion_size ]\n",
    "            if len(included) > 0:\n",
    "                g.extend(included)\n",
    "    \n",
    "    ## 変数の追加\n",
    "    if n_for_ngram > 1 and ngram_is_skippy:\n",
    "        added_var = f\"{var_prefix}sk{n_for_ngram}gram\"\n",
    "    else:\n",
    "        added_var = f\"{var_prefix}{n_for_ngram}gram\"\n",
    "    print(f\"added_var: {added_var}\")\n",
    "    dfx[added_var] = ngrams\n",
    "    \n",
    "    ## check result\n",
    "    print(dfx[added_var])"
   ]
  },
  {
   "cell_type": "code",
   "execution_count": 116,
   "id": "67c4f0d9",
   "metadata": {},
   "outputs": [
    {
     "name": "stdout",
     "output_type": "stream",
     "text": [
      "inclusion_size: 1\n",
      "source_var: 1gram\n",
      "supplement_var: 1gram\n",
      "added_var: 2gram\n",
      "996     [#ロ, ロー, ール, ル箔, 箔押, 押し, し#, #, ロ, ー, ル, 箔, 押,...\n",
      "424         [#当, 当直, 直医, 医上, 上申, 申#, #, 当, 直, 医, 上, 申, #]\n",
      "171         [#フ, フッ, ック, ク鑞, 鑞着, 着#, #, フ, ッ, ク, 鑞, 着, #]\n",
      "640         [#が, がん, んす, す饅, 饅頭, 頭#, #, が, ん, す, 饅, 頭, #]\n",
      "4612    [#釜, 釜茹, 茹で, でち, ちり, りめ, めん, ん#, #, 釜, 茹, で, ち...\n",
      "                              ...                        \n",
      "2564    [#り, りゅ, ゅう, うき, きゅ, ゅう, う押, 押し, し寿, 寿司, 司#, #...\n",
      "637     [#脈, 脈拍, 拍モ, モニ, ニタ, ター, ー#, #, 脈, 拍, モ, ニ, タ,...\n",
      "60      [#婚, 婚姻, 姻要, 要件, 件具, 具備, 備証, 証明, 明書, 書#, #, 婚,...\n",
      "1542        [#慢, 慢性, 性肝, 肝不, 不全, 全#, #, 慢, 性, 肝, 不, 全, #]\n",
      "635     [#エ, エン, ンボ, ボス, ス加, 加工, 工#, #, エ, ン, ボ, ス, 加,...\n",
      "Name: 2gram, Length: 2262, dtype: object\n"
     ]
    }
   ],
   "source": [
    "## 2-gram 生成\n",
    "add_ngram_to_df(df, n_for_ngram = 2, ngram_is_skippy = False, ngram_is_inclusive = True, ngram_inclusiveness = 1, use_Cython = use_Cython, check = True)"
   ]
  },
  {
   "cell_type": "code",
   "execution_count": 117,
   "id": "fd1f3fa2",
   "metadata": {},
   "outputs": [
    {
     "name": "stdout",
     "output_type": "stream",
     "text": [
      "inclusion_size: 1\n",
      "source_var: 1gram\n",
      "supplement_var: 1gram\n",
      "added_var: sk2gram\n",
      "996     [#ロ, #…ー, #…ル, #…箔, #…押, ロー, ロ…ル, ロ…箔, ロ…押, ール...\n",
      "424     [#当, #…直, #…医, #…上, #…申, 当直, 当…医, 当…上, 当…申, 直医...\n",
      "171     [#フ, #…ッ, #…ク, #…鑞, #…着, フッ, フ…ク, フ…鑞, フ…着, ック...\n",
      "640     [#が, #…ん, #…す, #…饅, #…頭, がん, が…す, が…饅, が…頭, んす...\n",
      "4612    [#釜, #…茹, #…で, #…ち, #…り, 釜茹, 釜…で, 釜…ち, 釜…り, 茹で...\n",
      "                              ...                        \n",
      "2564    [#り, #…ゅ, #…う, #…き, #…ゅ, りゅ, り…う, り…き, り…ゅ, ゅう...\n",
      "637     [#脈, #…拍, #…モ, #…ニ, #…タ, 脈拍, 脈…モ, 脈…ニ, 脈…タ, 拍モ...\n",
      "60      [#婚, #…姻, #…要, #…件, #…具, 婚姻, 婚…要, 婚…件, 婚…具, 姻要...\n",
      "1542    [#慢, #…性, #…肝, #…不, #…全, 慢性, 慢…肝, 慢…不, 慢…全, 性肝...\n",
      "635     [#エ, #…ン, #…ボ, #…ス, #…加, エン, エ…ボ, エ…ス, エ…加, ンボ...\n",
      "Name: sk2gram, Length: 2262, dtype: object\n"
     ]
    }
   ],
   "source": [
    "## skippy 2-gram 生成\n",
    "add_ngram_to_df(df, n_for_ngram = 2, ngram_is_skippy = True, ngram_is_inclusive = True, ngram_inclusiveness = 1, use_Cython = use_Cython, check = True)"
   ]
  },
  {
   "cell_type": "code",
   "execution_count": 118,
   "id": "484c91b3",
   "metadata": {},
   "outputs": [
    {
     "name": "stdout",
     "output_type": "stream",
     "text": [
      "inclusion_size: 2\n",
      "source_var: 1gram\n",
      "supplement_var: 2gram\n",
      "added_var: 3gram\n",
      "996     [#ロー, ロール, ール箔, ル箔押, 箔押し, 押し#, #ロ, ロー, ール, ル箔,...\n",
      "424     [#当直, 当直医, 直医上, 医上申, 上申#, #当, 当直, 直医, 医上, 上申, 申#]\n",
      "171     [#フッ, フック, ック鑞, ク鑞着, 鑞着#, #フ, フッ, ック, ク鑞, 鑞着, 着#]\n",
      "640     [#がん, がんす, んす饅, す饅頭, 饅頭#, #が, がん, んす, す饅, 饅頭, 頭#]\n",
      "4612    [#釜茹, 釜茹で, 茹でち, でちり, ちりめ, りめん, めん#, #釜, 釜茹, 茹で...\n",
      "                              ...                        \n",
      "2564    [#りゅ, りゅう, ゅうき, うきゅ, きゅう, ゅう押, う押し, 押し寿, し寿司, ...\n",
      "637     [#脈拍, 脈拍モ, 拍モニ, モニタ, ニター, ター#, #脈, 脈拍, 拍モ, モニ,...\n",
      "60      [#婚姻, 婚姻要, 姻要件, 要件具, 件具備, 具備証, 備証明, 証明書, 明書#, ...\n",
      "1542    [#慢性, 慢性肝, 性肝不, 肝不全, 不全#, #慢, 慢性, 性肝, 肝不, 不全, 全#]\n",
      "635     [#エン, エンボ, ンボス, ボス加, ス加工, 加工#, #エ, エン, ンボ, ボス,...\n",
      "Name: 3gram, Length: 2262, dtype: object\n"
     ]
    }
   ],
   "source": [
    "## 3-gram 生成\n",
    "add_ngram_to_df(df, n_for_ngram = 3, ngram_is_skippy = False,  ngram_is_inclusive = True, ngram_inclusiveness = 1, use_Cython = use_Cython, check = True)"
   ]
  },
  {
   "cell_type": "code",
   "execution_count": 119,
   "id": "7282a9a2",
   "metadata": {},
   "outputs": [
    {
     "name": "stdout",
     "output_type": "stream",
     "text": [
      "inclusion_size: 2\n",
      "source_var: 1gram\n",
      "supplement_var: sk2gram\n",
      "added_var: sk3gram\n",
      "996     [#ロー, #ロ…ル, #ロ…箔, #ロ…押, #…ール, #…ー…箔, #…ー…押, #…...\n",
      "424     [#当直, #当…医, #当…上, #当…申, #…直医, #…直…上, #…直…申, #…...\n",
      "171     [#フッ, #フ…ク, #フ…鑞, #フ…着, #…ック, #…ッ…鑞, #…ッ…着, #…...\n",
      "640     [#がん, #が…す, #が…饅, #が…頭, #…んす, #…ん…饅, #…ん…頭, #…...\n",
      "4612    [#釜茹, #釜…で, #釜…ち, #釜…り, #…茹で, #…茹…ち, #…茹…り, #…...\n",
      "                              ...                        \n",
      "2564    [#りゅ, #り…う, #り…き, #り…ゅ, #…ゅう, #…ゅ…き, #…ゅ…ゅ, #…...\n",
      "637     [#脈拍, #脈…モ, #脈…ニ, #脈…タ, #…拍モ, #…拍…ニ, #…拍…タ, #…...\n",
      "60      [#婚姻, #婚…要, #婚…件, #婚…具, #…姻要, #…姻…件, #…姻…具, #…...\n",
      "1542    [#慢性, #慢…肝, #慢…不, #慢…全, #…性肝, #…性…不, #…性…全, #…...\n",
      "635     [#エン, #エ…ボ, #エ…ス, #エ…加, #…ンボ, #…ン…ス, #…ン…加, #…...\n",
      "Name: sk3gram, Length: 2262, dtype: object\n"
     ]
    }
   ],
   "source": [
    "## skippy 3-gram 生成\n",
    "add_ngram_to_df(df, n_for_ngram = 3, ngram_is_skippy = True, ngram_is_inclusive = True, ngram_inclusiveness = 1, use_Cython = use_Cython, check = True)"
   ]
  },
  {
   "cell_type": "code",
   "execution_count": 120,
   "id": "761873ed",
   "metadata": {},
   "outputs": [
    {
     "name": "stdout",
     "output_type": "stream",
     "text": [
      "inclusion_size: 3\n",
      "source_var: 1gram\n",
      "supplement_var: 3gram\n",
      "added_var: 4gram\n",
      "996     [#ロール, ロール箔, ール箔押, ル箔押し, 箔押し#, #ロー, ロール, ール箔, ...\n",
      "424     [#当直医, 当直医上, 直医上申, 医上申#, #当直, 当直医, 直医上, 医上申, 上申#]\n",
      "171     [#フック, フック鑞, ック鑞着, ク鑞着#, #フッ, フック, ック鑞, ク鑞着, 鑞着#]\n",
      "640     [#がんす, がんす饅, んす饅頭, す饅頭#, #がん, がんす, んす饅, す饅頭, 饅頭#]\n",
      "4612    [#釜茹で, 釜茹でち, 茹でちり, でちりめ, ちりめん, りめん#, #釜茹, 釜茹で,...\n",
      "                              ...                        \n",
      "2564    [#りゅう, りゅうき, ゅうきゅ, うきゅう, きゅう押, ゅう押し, う押し寿, 押し寿...\n",
      "637     [#脈拍モ, 脈拍モニ, 拍モニタ, モニター, ニター#, #脈拍, 脈拍モ, 拍モニ, ...\n",
      "60      [#婚姻要, 婚姻要件, 姻要件具, 要件具備, 件具備証, 具備証明, 備証明書, 証明書...\n",
      "1542    [#慢性肝, 慢性肝不, 性肝不全, 肝不全#, #慢性, 慢性肝, 性肝不, 肝不全, 不全#]\n",
      "635     [#エンボ, エンボス, ンボス加, ボス加工, ス加工#, #エン, エンボ, ンボス, ...\n",
      "Name: 4gram, Length: 2262, dtype: object\n"
     ]
    }
   ],
   "source": [
    "## 4-gram 生成\n",
    "add_ngram_to_df(df, n_for_ngram = 4, ngram_is_skippy = False,  ngram_is_inclusive = True, ngram_inclusiveness = 1, use_Cython = use_Cython, check = True)"
   ]
  },
  {
   "cell_type": "code",
   "execution_count": 121,
   "id": "a4bf9dd3",
   "metadata": {},
   "outputs": [
    {
     "name": "stdout",
     "output_type": "stream",
     "text": [
      "inclusion_size: 3\n",
      "source_var: 1gram\n",
      "supplement_var: sk3gram\n",
      "added_var: sk4gram\n",
      "996     [#ロール, #ロー…箔, #ロー…押, #ロ…ル箔, #ロ…ル…押, #ロ…箔押, #…ー...\n",
      "424     [#当直医, #当直…上, #当直…申, #当…医上, #当…医…申, #当…上申, #…直...\n",
      "171     [#フック, #フッ…鑞, #フッ…着, #フ…ク鑞, #フ…ク…着, #フ…鑞着, #…ッ...\n",
      "640     [#がんす, #がん…饅, #がん…頭, #が…す饅, #が…す…頭, #が…饅頭, #…ん...\n",
      "4612    [#釜茹で, #釜茹…ち, #釜茹…り, #釜…でち, #釜…で…り, #釜…ちり, #…茹...\n",
      "                              ...                        \n",
      "2564    [#りゅう, #りゅ…き, #りゅ…ゅ, #り…うき, #り…う…ゅ, #り…きゅ, #…ゅ...\n",
      "637     [#脈拍モ, #脈拍…ニ, #脈拍…タ, #脈…モニ, #脈…モ…タ, #脈…ニタ, #…拍...\n",
      "60      [#婚姻要, #婚姻…件, #婚姻…具, #婚…要件, #婚…要…具, #婚…件具, #…姻...\n",
      "1542    [#慢性肝, #慢性…不, #慢性…全, #慢…肝不, #慢…肝…全, #慢…不全, #…性...\n",
      "635     [#エンボ, #エン…ス, #エン…加, #エ…ボス, #エ…ボ…加, #エ…ス加, #…ン...\n",
      "Name: sk4gram, Length: 2262, dtype: object\n"
     ]
    }
   ],
   "source": [
    "## skippy 4-gram 生成\n",
    "add_ngram_to_df(df, n_for_ngram = 4, ngram_is_skippy = True, ngram_is_inclusive = True, ngram_inclusiveness = 1, use_Cython = use_Cython, check = True)"
   ]
  },
  {
   "cell_type": "code",
   "execution_count": 122,
   "id": "15730136",
   "metadata": {},
   "outputs": [],
   "source": [
    "## 使ったデータの保存\n",
    "if save_data:\n",
    "    import datetime as dt\n",
    "    ct = dt.datetime.now()\n",
    "    ## Pandas で .csv として\n",
    "    output_fn1 = f\"saves/mixed-terms-filtered-{ct.date()}-{str(ct.time())[:2]}\" + \".csv\"\n",
    "    print(f\"saving data to {output_fn1}\")\n",
    "    import pandas as pd\n",
    "    df.to_csv(output_fn1)\n",
    "    ## pickle.dump(..)で\n",
    "    output_fn2 = f\"saves/mixed-terms-filtered-{ct.date()}-{str(ct.time())[:2]}\" + \".p\"\n",
    "    import pickle\n",
    "    print(f\"saving data to {output_fn2}\")\n",
    "    with open(output_fn2, \"wb\") as f:\n",
    "        pickle.dump(df, f)"
   ]
  },
  {
   "cell_type": "code",
   "execution_count": 123,
   "id": "5fe87d07",
   "metadata": {},
   "outputs": [
    {
     "data": {
      "application/vnd.microsoft.datawrangler.viewer.v0+json": {
       "columns": [
        {
         "name": "index",
         "rawType": "int64",
         "type": "integer"
        },
        {
         "name": "sk2gram",
         "rawType": "object",
         "type": "unknown"
        }
       ],
       "ref": "4c3c73e1-6b0e-41b1-abe7-c07af395da01",
       "rows": [
        [
         "996",
         "['#ロ', '#…ー', '#…ル', '#…箔', '#…押', 'ロー', 'ロ…ル', 'ロ…箔', 'ロ…押', 'ール', 'ー…箔', 'ー…押', 'ル箔', 'ル…押', '箔押', 'ロー', 'ロ…ル', 'ロ…箔', 'ロ…押', 'ロ…し', 'ール', 'ー…箔', 'ー…押', 'ー…し', 'ル箔', 'ル…押', 'ル…し', '箔押', '箔…し', '押し', 'ール', 'ー…箔', 'ー…押', 'ー…し', 'ー…#', 'ル箔', 'ル…押', 'ル…し', 'ル…#', '箔押', '箔…し', '箔…#', '押し', '押…#', 'し#', 'ル箔', 'ル…押', 'ル…し', 'ル…#', '箔押', '箔…し', '箔…#', '押し', '押…#', 'し#', '箔押', '箔…し', '箔…#', '押し', '押…#', 'し#', '押し', '押…#', 'し#', 'し#', '#', 'ロ', 'ー', 'ル', '箔', '押', 'し', '#']"
        ],
        [
         "424",
         "['#当', '#…直', '#…医', '#…上', '#…申', '当直', '当…医', '当…上', '当…申', '直医', '直…上', '直…申', '医上', '医…申', '上申', '当直', '当…医', '当…上', '当…申', '当…#', '直医', '直…上', '直…申', '直…#', '医上', '医…申', '医…#', '上申', '上…#', '申#', '直医', '直…上', '直…申', '直…#', '医上', '医…申', '医…#', '上申', '上…#', '申#', '医上', '医…申', '医…#', '上申', '上…#', '申#', '上申', '上…#', '申#', '申#', '#', '当', '直', '医', '上', '申', '#']"
        ],
        [
         "171",
         "['#フ', '#…ッ', '#…ク', '#…鑞', '#…着', 'フッ', 'フ…ク', 'フ…鑞', 'フ…着', 'ック', 'ッ…鑞', 'ッ…着', 'ク鑞', 'ク…着', '鑞着', 'フッ', 'フ…ク', 'フ…鑞', 'フ…着', 'フ…#', 'ック', 'ッ…鑞', 'ッ…着', 'ッ…#', 'ク鑞', 'ク…着', 'ク…#', '鑞着', '鑞…#', '着#', 'ック', 'ッ…鑞', 'ッ…着', 'ッ…#', 'ク鑞', 'ク…着', 'ク…#', '鑞着', '鑞…#', '着#', 'ク鑞', 'ク…着', 'ク…#', '鑞着', '鑞…#', '着#', '鑞着', '鑞…#', '着#', '着#', '#', 'フ', 'ッ', 'ク', '鑞', '着', '#']"
        ],
        [
         "640",
         "['#が', '#…ん', '#…す', '#…饅', '#…頭', 'がん', 'が…す', 'が…饅', 'が…頭', 'んす', 'ん…饅', 'ん…頭', 'す饅', 'す…頭', '饅頭', 'がん', 'が…す', 'が…饅', 'が…頭', 'が…#', 'んす', 'ん…饅', 'ん…頭', 'ん…#', 'す饅', 'す…頭', 'す…#', '饅頭', '饅…#', '頭#', 'んす', 'ん…饅', 'ん…頭', 'ん…#', 'す饅', 'す…頭', 'す…#', '饅頭', '饅…#', '頭#', 'す饅', 'す…頭', 'す…#', '饅頭', '饅…#', '頭#', '饅頭', '饅…#', '頭#', '頭#', '#', 'が', 'ん', 'す', '饅', '頭', '#']"
        ],
        [
         "4612",
         "['#釜', '#…茹', '#…で', '#…ち', '#…り', '釜茹', '釜…で', '釜…ち', '釜…り', '茹で', '茹…ち', '茹…り', 'でち', 'で…り', 'ちり', '釜茹', '釜…で', '釜…ち', '釜…り', '釜…め', '茹で', '茹…ち', '茹…り', '茹…め', 'でち', 'で…り', 'で…め', 'ちり', 'ち…め', 'りめ', '茹で', '茹…ち', '茹…り', '茹…め', '茹…ん', 'でち', 'で…り', 'で…め', 'で…ん', 'ちり', 'ち…め', 'ち…ん', 'りめ', 'り…ん', 'めん', 'でち', 'で…り', 'で…め', 'で…ん', 'で…#', 'ちり', 'ち…め', 'ち…ん', 'ち…#', 'りめ', 'り…ん', 'り…#', 'めん', 'め…#', 'ん#', 'ちり', 'ち…め', 'ち…ん', 'ち…#', 'りめ', 'り…ん', 'り…#', 'めん', 'め…#', 'ん#', 'りめ', 'り…ん', 'り…#', 'めん', 'め…#', 'ん#', 'めん', 'め…#', 'ん#', 'ん#', '#', '釜', '茹', 'で', 'ち', 'り', 'め', 'ん', '#']"
        ],
        [
         "428",
         "['#催', '#…告', '#…の', '#…抗', '#…弁', '催告', '催…の', '催…抗', '催…弁', '告の', '告…抗', '告…弁', 'の抗', 'の…弁', '抗弁', '催告', '催…の', '催…抗', '催…弁', '催…#', '告の', '告…抗', '告…弁', '告…#', 'の抗', 'の…弁', 'の…#', '抗弁', '抗…#', '弁#', '告の', '告…抗', '告…弁', '告…#', 'の抗', 'の…弁', 'の…#', '抗弁', '抗…#', '弁#', 'の抗', 'の…弁', 'の…#', '抗弁', '抗…#', '弁#', '抗弁', '抗…#', '弁#', '弁#', '#', '催', '告', 'の', '抗', '弁', '#']"
        ],
        [
         "44",
         "['#N', '#…S', '#…T', '#…活', '#…動', 'NS', 'N…T', 'N…活', 'N…動', 'ST', 'S…活', 'S…動', 'T活', 'T…動', '活動', 'NS', 'N…T', 'N…活', 'N…動', 'N…#', 'ST', 'S…活', 'S…動', 'S…#', 'T活', 'T…動', 'T…#', '活動', '活…#', '動#', 'ST', 'S…活', 'S…動', 'S…#', 'T活', 'T…動', 'T…#', '活動', '活…#', '動#', 'T活', 'T…動', 'T…#', '活動', '活…#', '動#', '活動', '活…#', '動#', '動#', '#', 'N', 'S', 'T', '活', '動', '#']"
        ],
        [
         "402",
         "['#上', '#…告', '#…趣', '#…意', '#…書', '上告', '上…趣', '上…意', '上…書', '告趣', '告…意', '告…書', '趣意', '趣…書', '意書', '上告', '上…趣', '上…意', '上…書', '上…#', '告趣', '告…意', '告…書', '告…#', '趣意', '趣…書', '趣…#', '意書', '意…#', '書#', '告趣', '告…意', '告…書', '告…#', '趣意', '趣…書', '趣…#', '意書', '意…#', '書#', '趣意', '趣…書', '趣…#', '意書', '意…#', '書#', '意書', '意…#', '書#', '書#', '#', '上', '告', '趣', '意', '書', '#']"
        ],
        [
         "4598",
         "['#金', '#…沢', '#…お', '#…で', '#…ん', '金沢', '金…お', '金…で', '金…ん', '沢お', '沢…で', '沢…ん', 'おで', 'お…ん', 'でん', '金沢', '金…お', '金…で', '金…ん', '金…#', '沢お', '沢…で', '沢…ん', '沢…#', 'おで', 'お…ん', 'お…#', 'でん', 'で…#', 'ん#', '沢お', '沢…で', '沢…ん', '沢…#', 'おで', 'お…ん', 'お…#', 'でん', 'で…#', 'ん#', 'おで', 'お…ん', 'お…#', 'でん', 'で…#', 'ん#', 'でん', 'で…#', 'ん#', 'ん#', '#', '金', '沢', 'お', 'で', 'ん', '#']"
        ],
        [
         "406",
         "['#無', '#…償', '#…の', '#…供', '#…与', '無償', '無…の', '無…供', '無…与', '償の', '償…供', '償…与', 'の供', 'の…与', '供与', '無償', '無…の', '無…供', '無…与', '無…#', '償の', '償…供', '償…与', '償…#', 'の供', 'の…与', 'の…#', '供与', '供…#', '与#', '償の', '償…供', '償…与', '償…#', 'の供', 'の…与', 'の…#', '供与', '供…#', '与#', 'の供', 'の…与', 'の…#', '供与', '供…#', '与#', '供与', '供…#', '与#', '与#', '#', '無', '償', 'の', '供', '与', '#']"
        ],
        [
         "11",
         "['#保', '#…護', '#…観', '#…察', '#…処', '保護', '保…観', '保…察', '保…処', '護観', '護…察', '護…処', '観察', '観…処', '察処', '保護', '保…観', '保…察', '保…処', '保…分', '護観', '護…察', '護…処', '護…分', '観察', '観…処', '観…分', '察処', '察…分', '処分', '護観', '護…察', '護…処', '護…分', '護…#', '観察', '観…処', '観…分', '観…#', '察処', '察…分', '察…#', '処分', '処…#', '分#', '観察', '観…処', '観…分', '観…#', '察処', '察…分', '察…#', '処分', '処…#', '分#', '察処', '察…分', '察…#', '処分', '処…#', '分#', '処分', '処…#', '分#', '分#', '#', '保', '護', '観', '察', '処', '分', '#']"
        ],
        [
         "773",
         "['#詐', '#…害', '#…行', '#…為', '#…取', '詐害', '詐…行', '詐…為', '詐…取', '害行', '害…為', '害…取', '行為', '行…取', '為取', '詐害', '詐…行', '詐…為', '詐…取', '詐…消', '害行', '害…為', '害…取', '害…消', '行為', '行…取', '行…消', '為取', '為…消', '取消', '害行', '害…為', '害…取', '害…消', '害…訴', '行為', '行…取', '行…消', '行…訴', '為取', '為…消', '為…訴', '取消', '取…訴', '消訴', '行為', '行…取', '行…消', '行…訴', '行…訟', '為取', '為…消', '為…訴', '為…訟', '取消', '取…訴', '取…訟', '消訴', '消…訟', '訴訟', '為取', '為…消', '為…訴', '為…訟', '為…#', '取消', '取…訴', '取…訟', '取…#', '消訴', '消…訟', '消…#', '訴訟', '訴…#', '訟#', '取消', '取…訴', '取…訟', '取…#', '消訴', '消…訟', '消…#', '訴訟', '訴…#', '訟#', '消訴', '消…訟', '消…#', '訴訟', '訴…#', '訟#', '訴訟', '訴…#', '訟#', '訟#', '#', '詐', '害', '行', '為', '取', '消', '訴', '訟', '#']"
        ],
        [
         "372",
         "['#為', '#…替', '#…レ', '#…ー', '#…ト', '為替', '為…レ', '為…ー', '為…ト', '替レ', '替…ー', '替…ト', 'レー', 'レ…ト', 'ート', '為替', '為…レ', '為…ー', '為…ト', '為…#', '替レ', '替…ー', '替…ト', '替…#', 'レー', 'レ…ト', 'レ…#', 'ート', 'ー…#', 'ト#', '替レ', '替…ー', '替…ト', '替…#', 'レー', 'レ…ト', 'レ…#', 'ート', 'ー…#', 'ト#', 'レー', 'レ…ト', 'レ…#', 'ート', 'ー…#', 'ト#', 'ート', 'ー…#', 'ト#', 'ト#', '#', '為', '替', 'レ', 'ー', 'ト', '#']"
        ],
        [
         "51",
         "['#P', '#…D', '#…ス', '#…キ', '#…ッ', 'PD', 'P…ス', 'P…キ', 'P…ッ', 'Dス', 'D…キ', 'D…ッ', 'スキ', 'ス…ッ', 'キッ', 'PD', 'P…ス', 'P…キ', 'P…ッ', 'P…プ', 'Dス', 'D…キ', 'D…ッ', 'D…プ', 'スキ', 'ス…ッ', 'ス…プ', 'キッ', 'キ…プ', 'ップ', 'Dス', 'D…キ', 'D…ッ', 'D…プ', 'D…#', 'スキ', 'ス…ッ', 'ス…プ', 'ス…#', 'キッ', 'キ…プ', 'キ…#', 'ップ', 'ッ…#', 'プ#', 'スキ', 'ス…ッ', 'ス…プ', 'ス…#', 'キッ', 'キ…プ', 'キ…#', 'ップ', 'ッ…#', 'プ#', 'キッ', 'キ…プ', 'キ…#', 'ップ', 'ッ…#', 'プ#', 'ップ', 'ッ…#', 'プ#', 'プ#', '#', 'P', 'D', 'ス', 'キ', 'ッ', 'プ', '#']"
        ],
        [
         "701",
         "['#補', '#…助', '#…者', '#…待', '#…機', '補助', '補…者', '補…待', '補…機', '助者', '助…待', '助…機', '者待', '者…機', '待機', '補助', '補…者', '補…待', '補…機', '補…#', '助者', '助…待', '助…機', '助…#', '者待', '者…機', '者…#', '待機', '待…#', '機#', '助者', '助…待', '助…機', '助…#', '者待', '者…機', '者…#', '待機', '待…#', '機#', '者待', '者…機', '者…#', '待機', '待…#', '機#', '待機', '待…#', '機#', '機#', '#', '補', '助', '者', '待', '機', '#']"
        ],
        [
         "518",
         "['#か', '#…つ', '#…お', '#…酒', '#…盗', 'かつ', 'か…お', 'か…酒', 'か…盗', 'つお', 'つ…酒', 'つ…盗', 'お酒', 'お…盗', '酒盗', 'かつ', 'か…お', 'か…酒', 'か…盗', 'か…#', 'つお', 'つ…酒', 'つ…盗', 'つ…#', 'お酒', 'お…盗', 'お…#', '酒盗', '酒…#', '盗#', 'つお', 'つ…酒', 'つ…盗', 'つ…#', 'お酒', 'お…盗', 'お…#', '酒盗', '酒…#', '盗#', 'お酒', 'お…盗', 'お…#', '酒盗', '酒…#', '盗#', '酒盗', '酒…#', '盗#', '盗#', '#', 'か', 'つ', 'お', '酒', '盗', '#']"
        ],
        [
         "582",
         "['#カ', '#…マ', '#…ス', '#…の', '#…塩', 'カマ', 'カ…ス', 'カ…の', 'カ…塩', 'マス', 'マ…の', 'マ…塩', 'スの', 'ス…塩', 'の塩', 'カマ', 'カ…ス', 'カ…の', 'カ…塩', 'カ…辛', 'マス', 'マ…の', 'マ…塩', 'マ…辛', 'スの', 'ス…塩', 'ス…辛', 'の塩', 'の…辛', '塩辛', 'マス', 'マ…の', 'マ…塩', 'マ…辛', 'マ…#', 'スの', 'ス…塩', 'ス…辛', 'ス…#', 'の塩', 'の…辛', 'の…#', '塩辛', '塩…#', '辛#', 'スの', 'ス…塩', 'ス…辛', 'ス…#', 'の塩', 'の…辛', 'の…#', '塩辛', '塩…#', '辛#', 'の塩', 'の…辛', 'の…#', '塩辛', '塩…#', '辛#', '塩辛', '塩…#', '辛#', '辛#', '#', 'カ', 'マ', 'ス', 'の', '塩', '辛', '#']"
        ],
        [
         "203",
         "['#株', '#…券', '#…喪', '#…失', '#…登', '株券', '株…喪', '株…失', '株…登', '券喪', '券…失', '券…登', '喪失', '喪…登', '失登', '株券', '株…喪', '株…失', '株…登', '株…録', '券喪', '券…失', '券…登', '券…録', '喪失', '喪…登', '喪…録', '失登', '失…録', '登録', '券喪', '券…失', '券…登', '券…録', '券…簿', '喪失', '喪…登', '喪…録', '喪…簿', '失登', '失…録', '失…簿', '登録', '登…簿', '録簿', '喪失', '喪…登', '喪…録', '喪…簿', '喪…#', '失登', '失…録', '失…簿', '失…#', '登録', '登…簿', '登…#', '録簿', '録…#', '簿#', '失登', '失…録', '失…簿', '失…#', '登録', '登…簿', '登…#', '録簿', '録…#', '簿#', '登録', '登…簿', '登…#', '録簿', '録…#', '簿#', '録簿', '録…#', '簿#', '簿#', '#', '株', '券', '喪', '失', '登', '録', '簿', '#']"
        ],
        [
         "190",
         "['#メ', '#…ン', '#…ト', '#…ー', '#…ル', 'メン', 'メ…ト', 'メ…ー', 'メ…ル', 'ント', 'ン…ー', 'ン…ル', 'トー', 'ト…ル', 'ール', 'メン', 'メ…ト', 'メ…ー', 'メ…ル', 'メ…湿', 'ント', 'ン…ー', 'ン…ル', 'ン…湿', 'トー', 'ト…ル', 'ト…湿', 'ール', 'ー…湿', 'ル湿', 'ント', 'ン…ー', 'ン…ル', 'ン…湿', 'ン…布', 'トー', 'ト…ル', 'ト…湿', 'ト…布', 'ール', 'ー…湿', 'ー…布', 'ル湿', 'ル…布', '湿布', 'トー', 'ト…ル', 'ト…湿', 'ト…布', 'ト…#', 'ール', 'ー…湿', 'ー…布', 'ー…#', 'ル湿', 'ル…布', 'ル…#', '湿布', '湿…#', '布#', 'ール', 'ー…湿', 'ー…布', 'ー…#', 'ル湿', 'ル…布', 'ル…#', '湿布', '湿…#', '布#', 'ル湿', 'ル…布', 'ル…#', '湿布', '湿…#', '布#', '湿布', '湿…#', '布#', '布#', '#', 'メ', 'ン', 'ト', 'ー', 'ル', '湿', '布', '#']"
        ],
        [
         "507",
         "['#条', '#…件', '#…付', '#…M', '#…R', '条件', '条…付', '条…M', '条…R', '件付', '件…M', '件…R', '付M', '付…R', 'MR', '条件', '条…付', '条…M', '条…R', '条…I', '件付', '件…M', '件…R', '件…I', '付M', '付…R', '付…I', 'MR', 'M…I', 'RI', '件付', '件…M', '件…R', '件…I', '件…対', '付M', '付…R', '付…I', '付…対', 'MR', 'M…I', 'M…対', 'RI', 'R…対', 'I対', '付M', '付…R', '付…I', '付…対', '付…応', 'MR', 'M…I', 'M…対', 'M…応', 'RI', 'R…対', 'R…応', 'I対', 'I…応', '対応', 'MR', 'M…I', 'M…対', 'M…応', 'M…P', 'RI', 'R…対', 'R…応', 'R…P', 'I対', 'I…応', 'I…P', '対応', '対…P', '応P', 'RI', 'R…対', 'R…応', 'R…P', 'R…M', 'I対', 'I…応', 'I…P', 'I…M', '対応', '対…P', '対…M', '応P', '応…M', 'PM', 'I対', 'I…応', 'I…P', 'I…M', 'I…#', '対応', '対…P', '対…M', '対…#', '応P', '応…M', '応…#', 'PM', 'P…#', 'M#', '対応', '対…P', '対…M', '対…#', '応P', '応…M', '応…#', 'PM', 'P…#', 'M#', '応P', '応…M', '応…#', 'PM', 'P…#', 'M#', 'PM', 'P…#', 'M#', 'M#', '#', '条', '件', '付', 'M', 'R', 'I', '対', '応', 'P', 'M', '#']"
        ],
        [
         "309",
         "['#動', '#…脈', '#…瘤', '#…頚', '#…部', '動脈', '動…瘤', '動…頚', '動…部', '脈瘤', '脈…頚', '脈…部', '瘤頚', '瘤…部', '頚部', '動脈', '動…瘤', '動…頚', '動…部', '動…ク', '脈瘤', '脈…頚', '脈…部', '脈…ク', '瘤頚', '瘤…部', '瘤…ク', '頚部', '頚…ク', '部ク', '脈瘤', '脈…頚', '脈…部', '脈…ク', '脈…リ', '瘤頚', '瘤…部', '瘤…ク', '瘤…リ', '頚部', '頚…ク', '頚…リ', '部ク', '部…リ', 'クリ', '瘤頚', '瘤…部', '瘤…ク', '瘤…リ', '瘤…ッ', '頚部', '頚…ク', '頚…リ', '頚…ッ', '部ク', '部…リ', '部…ッ', 'クリ', 'ク…ッ', 'リッ', '頚部', '頚…ク', '頚…リ', '頚…ッ', '頚…ピ', '部ク', '部…リ', '部…ッ', '部…ピ', 'クリ', 'ク…ッ', 'ク…ピ', 'リッ', 'リ…ピ', 'ッピ', '部ク', '部…リ', '部…ッ', '部…ピ', '部…ン', 'クリ', 'ク…ッ', 'ク…ピ', 'ク…ン', 'リッ', 'リ…ピ', 'リ…ン', 'ッピ', 'ッ…ン', 'ピン', 'クリ', 'ク…ッ', 'ク…ピ', 'ク…ン', 'ク…グ', 'リッ', 'リ…ピ', 'リ…ン', 'リ…グ', 'ッピ', 'ッ…ン', 'ッ…グ', 'ピン', 'ピ…グ', 'ング', 'リッ', 'リ…ピ', 'リ…ン', 'リ…グ', 'リ…#', 'ッピ', 'ッ…ン', 'ッ…グ', 'ッ…#', 'ピン', 'ピ…グ', 'ピ…#', 'ング', 'ン…#', 'グ#', 'ッピ', 'ッ…ン', 'ッ…グ', 'ッ…#', 'ピン', 'ピ…グ', 'ピ…#', 'ング', 'ン…#', 'グ#', 'ピン', 'ピ…グ', 'ピ…#', 'ング', 'ン…#', 'グ#', 'ング', 'ン…#', 'グ#', 'グ#', '#', '動', '脈', '瘤', '頚', '部', 'ク', 'リ', 'ッ', 'ピ', 'ン', 'グ', '#']"
        ],
        [
         "224",
         "['#有', '#…線', '#…放', '#…送', '#…権', '有線', '有…放', '有…送', '有…権', '線放', '線…送', '線…権', '放送', '放…権', '送権', '有線', '有…放', '有…送', '有…権', '有…#', '線放', '線…送', '線…権', '線…#', '放送', '放…権', '放…#', '送権', '送…#', '権#', '線放', '線…送', '線…権', '線…#', '放送', '放…権', '放…#', '送権', '送…#', '権#', '放送', '放…権', '放…#', '送権', '送…#', '権#', '送権', '送…#', '権#', '権#', '#', '有', '線', '放', '送', '権', '#']"
        ],
        [
         "412",
         "['#左', '#…足', '#…背', '#…部', '#…皮', '左足', '左…背', '左…部', '左…皮', '足背', '足…部', '足…皮', '背部', '背…皮', '部皮', '左足', '左…背', '左…部', '左…皮', '左…下', '足背', '足…部', '足…皮', '足…下', '背部', '背…皮', '背…下', '部皮', '部…下', '皮下', '足背', '足…部', '足…皮', '足…下', '足…#', '背部', '背…皮', '背…下', '背…#', '部皮', '部…下', '部…#', '皮下', '皮…#', '下#', '背部', '背…皮', '背…下', '背…#', '部皮', '部…下', '部…#', '皮下', '皮…#', '下#', '部皮', '部…下', '部…#', '皮下', '皮…#', '下#', '皮下', '皮…#', '下#', '下#', '#', '左', '足', '背', '部', '皮', '下', '#']"
        ],
        [
         "645",
         "['#腸', '#…管', '#…内', '#…R', '#…I', '腸管', '腸…内', '腸…R', '腸…I', '管内', '管…R', '管…I', '内R', '内…I', 'RI', '腸管', '腸…内', '腸…R', '腸…I', '腸…排', '管内', '管…R', '管…I', '管…排', '内R', '内…I', '内…排', 'RI', 'R…排', 'I排', '管内', '管…R', '管…I', '管…排', '管…泄', '内R', '内…I', '内…排', '内…泄', 'RI', 'R…排', 'R…泄', 'I排', 'I…泄', '排泄', '内R', '内…I', '内…排', '内…泄', '内…#', 'RI', 'R…排', 'R…泄', 'R…#', 'I排', 'I…泄', 'I…#', '排泄', '排…#', '泄#', 'RI', 'R…排', 'R…泄', 'R…#', 'I排', 'I…泄', 'I…#', '排泄', '排…#', '泄#', 'I排', 'I…泄', 'I…#', '排泄', '排…#', '泄#', '排泄', '排…#', '泄#', '泄#', '#', '腸', '管', '内', 'R', 'I', '排', '泄', '#']"
        ],
        [
         "138",
         "['#公', '#…の', '#…秩', '#…序', '#…又', '公の', '公…秩', '公…序', '公…又', 'の秩', 'の…序', 'の…又', '秩序', '秩…又', '序又', '公の', '公…秩', '公…序', '公…又', '公…は', 'の秩', 'の…序', 'の…又', 'の…は', '秩序', '秩…又', '秩…は', '序又', '序…は', '又は', 'の秩', 'の…序', 'の…又', 'の…は', 'の…善', '秩序', '秩…又', '秩…は', '秩…善', '序又', '序…は', '序…善', '又は', '又…善', 'は善', '秩序', '秩…又', '秩…は', '秩…善', '秩…良', '序又', '序…は', '序…善', '序…良', '又は', '又…善', '又…良', 'は善', 'は…良', '善良', '序又', '序…は', '序…善', '序…良', '序…の', '又は', '又…善', '又…良', '又…の', 'は善', 'は…良', 'は…の', '善良', '善…の', '良の', '又は', '又…善', '又…良', '又…の', '又…風', 'は善', 'は…良', 'は…の', 'は…風', '善良', '善…の', '善…風', '良の', '良…風', 'の風', 'は善', 'は…良', 'は…の', 'は…風', 'は…俗', '善良', '善…の', '善…風', '善…俗', '良の', '良…風', '良…俗', 'の風', 'の…俗', '風俗', '善良', '善…の', '善…風', '善…俗', '善…#', '良の', '良…風', '良…俗', '良…#', 'の風', 'の…俗', 'の…#', '風俗', '風…#', '俗#', '良の', '良…風', '良…俗', '良…#', 'の風', 'の…俗', 'の…#', '風俗', '風…#', '俗#', 'の風', 'の…俗', 'の…#', '風俗', '風…#', '俗#', '風俗', '風…#', '俗#', '俗#', '#', '公', 'の', '秩', '序', '又', 'は', '善', '良', 'の', '風', '俗', '#']"
        ],
        [
         "193",
         "['#三', '#…十', '#…七', '#…尊', '#…勝', '三十', '三…七', '三…尊', '三…勝', '十七', '十…尊', '十…勝', '七尊', '七…勝', '尊勝', '三十', '三…七', '三…尊', '三…勝', '三…法', '十七', '十…尊', '十…勝', '十…法', '七尊', '七…勝', '七…法', '尊勝', '尊…法', '勝法', '十七', '十…尊', '十…勝', '十…法', '十…#', '七尊', '七…勝', '七…法', '七…#', '尊勝', '尊…法', '尊…#', '勝法', '勝…#', '法#', '七尊', '七…勝', '七…法', '七…#', '尊勝', '尊…法', '尊…#', '勝法', '勝…#', '法#', '尊勝', '尊…法', '尊…#', '勝法', '勝…#', '法#', '勝法', '勝…#', '法#', '法#', '#', '三', '十', '七', '尊', '勝', '法', '#']"
        ],
        [
         "1974",
         "['#産', '#…褥', '#…期', '#…貧', '#…血', '産褥', '産…期', '産…貧', '産…血', '褥期', '褥…貧', '褥…血', '期貧', '期…血', '貧血', '産褥', '産…期', '産…貧', '産…血', '産…#', '褥期', '褥…貧', '褥…血', '褥…#', '期貧', '期…血', '期…#', '貧血', '貧…#', '血#', '褥期', '褥…貧', '褥…血', '褥…#', '期貧', '期…血', '期…#', '貧血', '貧…#', '血#', '期貧', '期…血', '期…#', '貧血', '貧…#', '血#', '貧血', '貧…#', '血#', '血#', '#', '産', '褥', '期', '貧', '血', '#']"
        ],
        [
         "122",
         "['#一', '#…過', '#…性', '#…菌', '#…血', '一過', '一…性', '一…菌', '一…血', '過性', '過…菌', '過…血', '性菌', '性…血', '菌血', '一過', '一…性', '一…菌', '一…血', '一…症', '過性', '過…菌', '過…血', '過…症', '性菌', '性…血', '性…症', '菌血', '菌…症', '血症', '過性', '過…菌', '過…血', '過…症', '過…#', '性菌', '性…血', '性…症', '性…#', '菌血', '菌…症', '菌…#', '血症', '血…#', '症#', '性菌', '性…血', '性…症', '性…#', '菌血', '菌…症', '菌…#', '血症', '血…#', '症#', '菌血', '菌…症', '菌…#', '血症', '血…#', '症#', '血症', '血…#', '症#', '症#', '#', '一', '過', '性', '菌', '血', '症', '#']"
        ],
        [
         "483",
         "['#金', '#…融', '#…商', '#…品', '#…取', '金融', '金…商', '金…品', '金…取', '融商', '融…品', '融…取', '商品', '商…取', '品取', '金融', '金…商', '金…品', '金…取', '金…引', '融商', '融…品', '融…取', '融…引', '商品', '商…取', '商…引', '品取', '品…引', '取引', '融商', '融…品', '融…取', '融…引', '融…法', '商品', '商…取', '商…引', '商…法', '品取', '品…引', '品…法', '取引', '取…法', '引法', '商品', '商…取', '商…引', '商…法', '商…#', '品取', '品…引', '品…法', '品…#', '取引', '取…法', '取…#', '引法', '引…#', '法#', '品取', '品…引', '品…法', '品…#', '取引', '取…法', '取…#', '引法', '引…#', '法#', '取引', '取…法', '取…#', '引法', '引…#', '法#', '引法', '引…#', '法#', '法#', '#', '金', '融', '商', '品', '取', '引', '法', '#']"
        ],
        [
         "385",
         "['#伝', '#…染', '#…性', '#…単', '#…核', '伝染', '伝…性', '伝…単', '伝…核', '染性', '染…単', '染…核', '性単', '性…核', '単核', '伝染', '伝…性', '伝…単', '伝…核', '伝…球', '染性', '染…単', '染…核', '染…球', '性単', '性…核', '性…球', '単核', '単…球', '核球', '染性', '染…単', '染…核', '染…球', '染…症', '性単', '性…核', '性…球', '性…症', '単核', '単…球', '単…症', '核球', '核…症', '球症', '性単', '性…核', '性…球', '性…症', '性…#', '単核', '単…球', '単…症', '単…#', '核球', '核…症', '核…#', '球症', '球…#', '症#', '単核', '単…球', '単…症', '単…#', '核球', '核…症', '核…#', '球症', '球…#', '症#', '核球', '核…症', '核…#', '球症', '球…#', '症#', '球症', '球…#', '症#', '症#', '#', '伝', '染', '性', '単', '核', '球', '症', '#']"
        ],
        [
         "618",
         "['#イ', '#…ン', '#…チ', '#…飛', '#…び', 'イン', 'イ…チ', 'イ…飛', 'イ…び', 'ンチ', 'ン…飛', 'ン…び', 'チ飛', 'チ…び', '飛び', 'イン', 'イ…チ', 'イ…飛', 'イ…び', 'イ…ミ', 'ンチ', 'ン…飛', 'ン…び', 'ン…ミ', 'チ飛', 'チ…び', 'チ…ミ', '飛び', '飛…ミ', 'びミ', 'ンチ', 'ン…飛', 'ン…び', 'ン…ミ', 'ン…シ', 'チ飛', 'チ…び', 'チ…ミ', 'チ…シ', '飛び', '飛…ミ', '飛…シ', 'びミ', 'び…シ', 'ミシ', 'チ飛', 'チ…び', 'チ…ミ', 'チ…シ', 'チ…ン', '飛び', '飛…ミ', '飛…シ', '飛…ン', 'びミ', 'び…シ', 'び…ン', 'ミシ', 'ミ…ン', 'シン', '飛び', '飛…ミ', '飛…シ', '飛…ン', '飛…#', 'びミ', 'び…シ', 'び…ン', 'び…#', 'ミシ', 'ミ…ン', 'ミ…#', 'シン', 'シ…#', 'ン#', 'びミ', 'び…シ', 'び…ン', 'び…#', 'ミシ', 'ミ…ン', 'ミ…#', 'シン', 'シ…#', 'ン#', 'ミシ', 'ミ…ン', 'ミ…#', 'シン', 'シ…#', 'ン#', 'シン', 'シ…#', 'ン#', 'ン#', '#', 'イ', 'ン', 'チ', '飛', 'び', 'ミ', 'シ', 'ン', '#']"
        ],
        [
         "1520",
         "['#枚', '#…葉', '#…丁', '#…合', '#…機', '枚葉', '枚…丁', '枚…合', '枚…機', '葉丁', '葉…合', '葉…機', '丁合', '丁…機', '合機', '枚葉', '枚…丁', '枚…合', '枚…機', '枚…#', '葉丁', '葉…合', '葉…機', '葉…#', '丁合', '丁…機', '丁…#', '合機', '合…#', '機#', '葉丁', '葉…合', '葉…機', '葉…#', '丁合', '丁…機', '丁…#', '合機', '合…#', '機#', '丁合', '丁…機', '丁…#', '合機', '合…#', '機#', '合機', '合…#', '機#', '機#', '#', '枚', '葉', '丁', '合', '機', '#']"
        ],
        [
         "163",
         "['#ヒ', '#…ュ', '#…ー', '#…マ', '#…リ', 'ヒュ', 'ヒ…ー', 'ヒ…マ', 'ヒ…リ', 'ュー', 'ュ…マ', 'ュ…リ', 'ーマ', 'ー…リ', 'マリ', 'ヒュ', 'ヒ…ー', 'ヒ…マ', 'ヒ…リ', 'ヒ…ン', 'ュー', 'ュ…マ', 'ュ…リ', 'ュ…ン', 'ーマ', 'ー…リ', 'ー…ン', 'マリ', 'マ…ン', 'リン', 'ュー', 'ュ…マ', 'ュ…リ', 'ュ…ン', 'ュ…O', 'ーマ', 'ー…リ', 'ー…ン', 'ー…O', 'マリ', 'マ…ン', 'マ…O', 'リン', 'リ…O', 'ンO', 'ーマ', 'ー…リ', 'ー…ン', 'ー…O', 'ー…F', 'マリ', 'マ…ン', 'マ…O', 'マ…F', 'リン', 'リ…O', 'リ…F', 'ンO', 'ン…F', 'OF', 'マリ', 'マ…ン', 'マ…O', 'マ…F', 'マ…F', 'リン', 'リ…O', 'リ…F', 'リ…F', 'ンO', 'ン…F', 'ン…F', 'OF', 'O…F', 'FF', 'リン', 'リ…O', 'リ…F', 'リ…F', 'リ…#', 'ンO', 'ン…F', 'ン…F', 'ン…#', 'OF', 'O…F', 'O…#', 'FF', 'F…#', 'F#', 'ンO', 'ン…F', 'ン…F', 'ン…#', 'OF', 'O…F', 'O…#', 'FF', 'F…#', 'F#', 'OF', 'O…F', 'O…#', 'FF', 'F…#', 'F#', 'FF', 'F…#', 'F#', 'F#', '#', 'ヒ', 'ュ', 'ー', 'マ', 'リ', 'ン', 'O', 'F', 'F', '#']"
        ],
        [
         "1090",
         "['#じ', '#…ゃ', '#…こ', '#…カ', '#…ツ', 'じゃ', 'じ…こ', 'じ…カ', 'じ…ツ', 'ゃこ', 'ゃ…カ', 'ゃ…ツ', 'こカ', 'こ…ツ', 'カツ', 'じゃ', 'じ…こ', 'じ…カ', 'じ…ツ', 'じ…#', 'ゃこ', 'ゃ…カ', 'ゃ…ツ', 'ゃ…#', 'こカ', 'こ…ツ', 'こ…#', 'カツ', 'カ…#', 'ツ#', 'ゃこ', 'ゃ…カ', 'ゃ…ツ', 'ゃ…#', 'こカ', 'こ…ツ', 'こ…#', 'カツ', 'カ…#', 'ツ#', 'こカ', 'こ…ツ', 'こ…#', 'カツ', 'カ…#', 'ツ#', 'カツ', 'カ…#', 'ツ#', 'ツ#', '#', 'じ', 'ゃ', 'こ', 'カ', 'ツ', '#']"
        ],
        [
         "2970",
         "['#術', '#…後', '#…腟', '#…癒', '#…着', '術後', '術…腟', '術…癒', '術…着', '後腟', '後…癒', '後…着', '腟癒', '腟…着', '癒着', '術後', '術…腟', '術…癒', '術…着', '術…#', '後腟', '後…癒', '後…着', '後…#', '腟癒', '腟…着', '腟…#', '癒着', '癒…#', '着#', '後腟', '後…癒', '後…着', '後…#', '腟癒', '腟…着', '腟…#', '癒着', '癒…#', '着#', '腟癒', '腟…着', '腟…#', '癒着', '癒…#', '着#', '癒着', '癒…#', '着#', '着#', '#', '術', '後', '腟', '癒', '着', '#']"
        ],
        [
         "783",
         "['#チ', '#…ョ', '#…ッ', '#…パ', '#…ー', 'チョ', 'チ…ッ', 'チ…パ', 'チ…ー', 'ョッ', 'ョ…パ', 'ョ…ー', 'ッパ', 'ッ…ー', 'パー', 'チョ', 'チ…ッ', 'チ…パ', 'チ…ー', 'チ…折', 'ョッ', 'ョ…パ', 'ョ…ー', 'ョ…折', 'ッパ', 'ッ…ー', 'ッ…折', 'パー', 'パ…折', 'ー折', 'ョッ', 'ョ…パ', 'ョ…ー', 'ョ…折', 'ョ…り', 'ッパ', 'ッ…ー', 'ッ…折', 'ッ…り', 'パー', 'パ…折', 'パ…り', 'ー折', 'ー…り', '折り', 'ッパ', 'ッ…ー', 'ッ…折', 'ッ…り', 'ッ…装', 'パー', 'パ…折', 'パ…り', 'パ…装', 'ー折', 'ー…り', 'ー…装', '折り', '折…装', 'り装', 'パー', 'パ…折', 'パ…り', 'パ…装', 'パ…置', 'ー折', 'ー…り', 'ー…装', 'ー…置', '折り', '折…装', '折…置', 'り装', 'り…置', '装置', 'ー折', 'ー…り', 'ー…装', 'ー…置', 'ー…#', '折り', '折…装', '折…置', '折…#', 'り装', 'り…置', 'り…#', '装置', '装…#', '置#', '折り', '折…装', '折…置', '折…#', 'り装', 'り…置', 'り…#', '装置', '装…#', '置#', 'り装', 'り…置', 'り…#', '装置', '装…#', '置#', '装置', '装…#', '置#', '置#', '#', 'チ', 'ョ', 'ッ', 'パ', 'ー', '折', 'り', '装', '置', '#']"
        ],
        [
         "506",
         "['#先', '#…天', '#…性', '#…肺', '#…動', '先天', '先…性', '先…肺', '先…動', '天性', '天…肺', '天…動', '性肺', '性…動', '肺動', '先天', '先…性', '先…肺', '先…動', '先…脈', '天性', '天…肺', '天…動', '天…脈', '性肺', '性…動', '性…脈', '肺動', '肺…脈', '動脈', '天性', '天…肺', '天…動', '天…脈', '天…瘤', '性肺', '性…動', '性…脈', '性…瘤', '肺動', '肺…脈', '肺…瘤', '動脈', '動…瘤', '脈瘤', '性肺', '性…動', '性…脈', '性…瘤', '性…#', '肺動', '肺…脈', '肺…瘤', '肺…#', '動脈', '動…瘤', '動…#', '脈瘤', '脈…#', '瘤#', '肺動', '肺…脈', '肺…瘤', '肺…#', '動脈', '動…瘤', '動…#', '脈瘤', '脈…#', '瘤#', '動脈', '動…瘤', '動…#', '脈瘤', '脈…#', '瘤#', '脈瘤', '脈…#', '瘤#', '瘤#', '#', '先', '天', '性', '肺', '動', '脈', '瘤', '#']"
        ],
        [
         "918",
         "['#ペ', '#…ン', '#…チ', '#…抜', '#…き', 'ペン', 'ペ…チ', 'ペ…抜', 'ペ…き', 'ンチ', 'ン…抜', 'ン…き', 'チ抜', 'チ…き', '抜き', 'ペン', 'ペ…チ', 'ペ…抜', 'ペ…き', 'ペ…#', 'ンチ', 'ン…抜', 'ン…き', 'ン…#', 'チ抜', 'チ…き', 'チ…#', '抜き', '抜…#', 'き#', 'ンチ', 'ン…抜', 'ン…き', 'ン…#', 'チ抜', 'チ…き', 'チ…#', '抜き', '抜…#', 'き#', 'チ抜', 'チ…き', 'チ…#', '抜き', '抜…#', 'き#', '抜き', '抜…#', 'き#', 'き#', '#', 'ペ', 'ン', 'チ', '抜', 'き', '#']"
        ],
        [
         "828",
         "['#ハ', '#…イ', '#…・', '#…キ', '#…ー', 'ハイ', 'ハ…・', 'ハ…キ', 'ハ…ー', 'イ・', 'イ…キ', 'イ…ー', '・キ', '・…ー', 'キー', 'ハイ', 'ハ…・', 'ハ…キ', 'ハ…ー', 'ハ…#', 'イ・', 'イ…キ', 'イ…ー', 'イ…#', '・キ', '・…ー', '・…#', 'キー', 'キ…#', 'ー#', 'イ・', 'イ…キ', 'イ…ー', 'イ…#', '・キ', '・…ー', '・…#', 'キー', 'キ…#', 'ー#', '・キ', '・…ー', '・…#', 'キー', 'キ…#', 'ー#', 'キー', 'キ…#', 'ー#', 'ー#', '#', 'ハ', 'イ', '・', 'キ', 'ー', '#']"
        ],
        [
         "1481",
         "['#断', '#…裁', '#…の', '#…寸', '#…法', '断裁', '断…の', '断…寸', '断…法', '裁の', '裁…寸', '裁…法', 'の寸', 'の…法', '寸法', '断裁', '断…の', '断…寸', '断…法', '断…不', '裁の', '裁…寸', '裁…法', '裁…不', 'の寸', 'の…法', 'の…不', '寸法', '寸…不', '法不', '裁の', '裁…寸', '裁…法', '裁…不', '裁…揃', 'の寸', 'の…法', 'の…不', 'の…揃', '寸法', '寸…不', '寸…揃', '法不', '法…揃', '不揃', 'の寸', 'の…法', 'の…不', 'の…揃', 'の…い', '寸法', '寸…不', '寸…揃', '寸…い', '法不', '法…揃', '法…い', '不揃', '不…い', '揃い', '寸法', '寸…不', '寸…揃', '寸…い', '寸…#', '法不', '法…揃', '法…い', '法…#', '不揃', '不…い', '不…#', '揃い', '揃…#', 'い#', '法不', '法…揃', '法…い', '法…#', '不揃', '不…い', '不…#', '揃い', '揃…#', 'い#', '不揃', '不…い', '不…#', '揃い', '揃…#', 'い#', '揃い', '揃…#', 'い#', 'い#', '#', '断', '裁', 'の', '寸', '法', '不', '揃', 'い', '#']"
        ],
        [
         "1352",
         "['#巻', '#…き', '#…取', '#…り', '#…紙', '巻き', '巻…取', '巻…り', '巻…紙', 'き取', 'き…り', 'き…紙', '取り', '取…紙', 'り紙', '巻き', '巻…取', '巻…り', '巻…紙', '巻…#', 'き取', 'き…り', 'き…紙', 'き…#', '取り', '取…紙', '取…#', 'り紙', 'り…#', '紙#', 'き取', 'き…り', 'き…紙', 'き…#', '取り', '取…紙', '取…#', 'り紙', 'り…#', '紙#', '取り', '取…紙', '取…#', 'り紙', 'り…#', '紙#', 'り紙', 'り…#', '紙#', '紙#', '#', '巻', 'き', '取', 'り', '紙', '#']"
        ],
        [
         "133",
         "['#私', '#…選', '#…弁', '#…護', '#…人', '私選', '私…弁', '私…護', '私…人', '選弁', '選…護', '選…人', '弁護', '弁…人', '護人', '私選', '私…弁', '私…護', '私…人', '私…#', '選弁', '選…護', '選…人', '選…#', '弁護', '弁…人', '弁…#', '護人', '護…#', '人#', '選弁', '選…護', '選…人', '選…#', '弁護', '弁…人', '弁…#', '護人', '護…#', '人#', '弁護', '弁…人', '弁…#', '護人', '護…#', '人#', '護人', '護…#', '人#', '人#', '#', '私', '選', '弁', '護', '人', '#']"
        ],
        [
         "502",
         "['#障', '#…害', '#…年', '#…金', '#…差', '障害', '障…年', '障…金', '障…差', '害年', '害…金', '害…差', '年金', '年…差', '金差', '障害', '障…年', '障…金', '障…差', '障…額', '害年', '害…金', '害…差', '害…額', '年金', '年…差', '年…額', '金差', '金…額', '差額', '害年', '害…金', '害…差', '害…額', '害…一', '年金', '年…差', '年…額', '年…一', '金差', '金…額', '金…一', '差額', '差…一', '額一', '年金', '年…差', '年…額', '年…一', '年…時', '金差', '金…額', '金…一', '金…時', '差額', '差…一', '差…時', '額一', '額…時', '一時', '金差', '金…額', '金…一', '金…時', '金…金', '差額', '差…一', '差…時', '差…金', '額一', '額…時', '額…金', '一時', '一…金', '時金', '差額', '差…一', '差…時', '差…金', '差…#', '額一', '額…時', '額…金', '額…#', '一時', '一…金', '一…#', '時金', '時…#', '金#', '額一', '額…時', '額…金', '額…#', '一時', '一…金', '一…#', '時金', '時…#', '金#', '一時', '一…金', '一…#', '時金', '時…#', '金#', '時金', '時…#', '金#', '金#', '#', '障', '害', '年', '金', '差', '額', '一', '時', '金', '#']"
        ],
        [
         "1419",
         "['#チ', '#…ッ', '#…プ', '#…の', '#…姿', 'チッ', 'チ…プ', 'チ…の', 'チ…姿', 'ップ', 'ッ…の', 'ッ…姿', 'プの', 'プ…姿', 'の姿', 'チッ', 'チ…プ', 'チ…の', 'チ…姿', 'チ…寿', 'ップ', 'ッ…の', 'ッ…姿', 'ッ…寿', 'プの', 'プ…姿', 'プ…寿', 'の姿', 'の…寿', '姿寿', 'ップ', 'ッ…の', 'ッ…姿', 'ッ…寿', 'ッ…司', 'プの', 'プ…姿', 'プ…寿', 'プ…司', 'の姿', 'の…寿', 'の…司', '姿寿', '姿…司', '寿司', 'プの', 'プ…姿', 'プ…寿', 'プ…司', 'プ…#', 'の姿', 'の…寿', 'の…司', 'の…#', '姿寿', '姿…司', '姿…#', '寿司', '寿…#', '司#', 'の姿', 'の…寿', 'の…司', 'の…#', '姿寿', '姿…司', '姿…#', '寿司', '寿…#', '司#', '姿寿', '姿…司', '姿…#', '寿司', '寿…#', '司#', '寿司', '寿…#', '司#', '司#', '#', 'チ', 'ッ', 'プ', 'の', '姿', '寿', '司', '#']"
        ],
        [
         "887",
         "['#プ', '#…ラ', '#…ス', '#…チ', '#…ッ', 'プラ', 'プ…ス', 'プ…チ', 'プ…ッ', 'ラス', 'ラ…チ', 'ラ…ッ', 'スチ', 'ス…ッ', 'チッ', 'プラ', 'プ…ス', 'プ…チ', 'プ…ッ', 'プ…ク', 'ラス', 'ラ…チ', 'ラ…ッ', 'ラ…ク', 'スチ', 'ス…ッ', 'ス…ク', 'チッ', 'チ…ク', 'ック', 'ラス', 'ラ…チ', 'ラ…ッ', 'ラ…ク', 'ラ…綴', 'スチ', 'ス…ッ', 'ス…ク', 'ス…綴', 'チッ', 'チ…ク', 'チ…綴', 'ック', 'ッ…綴', 'ク綴', 'スチ', 'ス…ッ', 'ス…ク', 'ス…綴', 'ス…じ', 'チッ', 'チ…ク', 'チ…綴', 'チ…じ', 'ック', 'ッ…綴', 'ッ…じ', 'ク綴', 'ク…じ', '綴じ', 'チッ', 'チ…ク', 'チ…綴', 'チ…じ', 'チ…#', 'ック', 'ッ…綴', 'ッ…じ', 'ッ…#', 'ク綴', 'ク…じ', 'ク…#', '綴じ', '綴…#', 'じ#', 'ック', 'ッ…綴', 'ッ…じ', 'ッ…#', 'ク綴', 'ク…じ', 'ク…#', '綴じ', '綴…#', 'じ#', 'ク綴', 'ク…じ', 'ク…#', '綴じ', '綴…#', 'じ#', '綴じ', '綴…#', 'じ#', 'じ#', '#', 'プ', 'ラ', 'ス', 'チ', 'ッ', 'ク', '綴', 'じ', '#']"
        ],
        [
         "2873",
         "['#出', '#…汁', '#…を', '#…引', '#…く', '出汁', '出…を', '出…引', '出…く', '汁を', '汁…引', '汁…く', 'を引', 'を…く', '引く', '出汁', '出…を', '出…引', '出…く', '出…#', '汁を', '汁…引', '汁…く', '汁…#', 'を引', 'を…く', 'を…#', '引く', '引…#', 'く#', '汁を', '汁…引', '汁…く', '汁…#', 'を引', 'を…く', 'を…#', '引く', '引…#', 'く#', 'を引', 'を…く', 'を…#', '引く', '引…#', 'く#', '引く', '引…#', 'く#', 'く#', '#', '出', '汁', 'を', '引', 'く', '#']"
        ],
        [
         "629",
         "['#背', '#…部', '#…タ', '#…ッ', '#…ピ', '背部', '背…タ', '背…ッ', '背…ピ', '部タ', '部…ッ', '部…ピ', 'タッ', 'タ…ピ', 'ッピ', '背部', '背…タ', '背…ッ', '背…ピ', '背…ン', '部タ', '部…ッ', '部…ピ', '部…ン', 'タッ', 'タ…ピ', 'タ…ン', 'ッピ', 'ッ…ン', 'ピン', '部タ', '部…ッ', '部…ピ', '部…ン', '部…グ', 'タッ', 'タ…ピ', 'タ…ン', 'タ…グ', 'ッピ', 'ッ…ン', 'ッ…グ', 'ピン', 'ピ…グ', 'ング', 'タッ', 'タ…ピ', 'タ…ン', 'タ…グ', 'タ…#', 'ッピ', 'ッ…ン', 'ッ…グ', 'ッ…#', 'ピン', 'ピ…グ', 'ピ…#', 'ング', 'ン…#', 'グ#', 'ッピ', 'ッ…ン', 'ッ…グ', 'ッ…#', 'ピン', 'ピ…グ', 'ピ…#', 'ング', 'ン…#', 'グ#', 'ピン', 'ピ…グ', 'ピ…#', 'ング', 'ン…#', 'グ#', 'ング', 'ン…#', 'グ#', 'グ#', '#', '背', '部', 'タ', 'ッ', 'ピ', 'ン', 'グ', '#']"
        ],
        [
         "291",
         "['#外', '#…部', '#…不', '#…経', '#…済', '外部', '外…不', '外…経', '外…済', '部不', '部…経', '部…済', '不経', '不…済', '経済', '外部', '外…不', '外…経', '外…済', '外…#', '部不', '部…経', '部…済', '部…#', '不経', '不…済', '不…#', '経済', '経…#', '済#', '部不', '部…経', '部…済', '部…#', '不経', '不…済', '不…#', '経済', '経…#', '済#', '不経', '不…済', '不…#', '経済', '経…#', '済#', '経済', '経…#', '済#', '済#', '#', '外', '部', '不', '経', '済', '#']"
        ],
        [
         "3930",
         "['#煮', '#…込', '#…み', '#…ソ', '#…ー', '煮込', '煮…み', '煮…ソ', '煮…ー', '込み', '込…ソ', '込…ー', 'みソ', 'み…ー', 'ソー', '煮込', '煮…み', '煮…ソ', '煮…ー', '煮…ス', '込み', '込…ソ', '込…ー', '込…ス', 'みソ', 'み…ー', 'み…ス', 'ソー', 'ソ…ス', 'ース', '込み', '込…ソ', '込…ー', '込…ス', '込…カ', 'みソ', 'み…ー', 'み…ス', 'み…カ', 'ソー', 'ソ…ス', 'ソ…カ', 'ース', 'ー…カ', 'スカ', 'みソ', 'み…ー', 'み…ス', 'み…カ', 'み…ツ', 'ソー', 'ソ…ス', 'ソ…カ', 'ソ…ツ', 'ース', 'ー…カ', 'ー…ツ', 'スカ', 'ス…ツ', 'カツ', 'ソー', 'ソ…ス', 'ソ…カ', 'ソ…ツ', 'ソ…丼', 'ース', 'ー…カ', 'ー…ツ', 'ー…丼', 'スカ', 'ス…ツ', 'ス…丼', 'カツ', 'カ…丼', 'ツ丼', 'ース', 'ー…カ', 'ー…ツ', 'ー…丼', 'ー…#', 'スカ', 'ス…ツ', 'ス…丼', 'ス…#', 'カツ', 'カ…丼', 'カ…#', 'ツ丼', 'ツ…#', '丼#', 'スカ', 'ス…ツ', 'ス…丼', 'ス…#', 'カツ', 'カ…丼', 'カ…#', 'ツ丼', 'ツ…#', '丼#', 'カツ', 'カ…丼', 'カ…#', 'ツ丼', 'ツ…#', '丼#', 'ツ丼', 'ツ…#', '丼#', '丼#', '#', '煮', '込', 'み', 'ソ', 'ー', 'ス', 'カ', 'ツ', '丼', '#']"
        ],
        [
         "1573",
         "['#浮', '#…き', '#…出', '#…し', '#…空', '浮き', '浮…出', '浮…し', '浮…空', 'き出', 'き…し', 'き…空', '出し', '出…空', 'し空', '浮き', '浮…出', '浮…し', '浮…空', '浮…押', 'き出', 'き…し', 'き…空', 'き…押', '出し', '出…空', '出…押', 'し空', 'し…押', '空押', 'き出', 'き…し', 'き…空', 'き…押', 'き…し', '出し', '出…空', '出…押', '出…し', 'し空', 'し…押', 'し…し', '空押', '空…し', '押し', '出し', '出…空', '出…押', '出…し', '出…#', 'し空', 'し…押', 'し…し', 'し…#', '空押', '空…し', '空…#', '押し', '押…#', 'し#', 'し空', 'し…押', 'し…し', 'し…#', '空押', '空…し', '空…#', '押し', '押…#', 'し#', '空押', '空…し', '空…#', '押し', '押…#', 'し#', '押し', '押…#', 'し#', 'し#', '#', '浮', 'き', '出', 'し', '空', '押', 'し', '#']"
        ]
       ],
       "shape": {
        "columns": 1,
        "rows": 2203
       }
      },
      "text/plain": [
       "996     [#ロ, #…ー, #…ル, #…箔, #…押, ロー, ロ…ル, ロ…箔, ロ…押, ール...\n",
       "424     [#当, #…直, #…医, #…上, #…申, 当直, 当…医, 当…上, 当…申, 直医...\n",
       "171     [#フ, #…ッ, #…ク, #…鑞, #…着, フッ, フ…ク, フ…鑞, フ…着, ック...\n",
       "640     [#が, #…ん, #…す, #…饅, #…頭, がん, が…す, が…饅, が…頭, んす...\n",
       "4612    [#釜, #…茹, #…で, #…ち, #…り, 釜茹, 釜…で, 釜…ち, 釜…り, 茹で...\n",
       "                              ...                        \n",
       "2564    [#り, #…ゅ, #…う, #…き, #…ゅ, りゅ, り…う, り…き, り…ゅ, ゅう...\n",
       "637     [#脈, #…拍, #…モ, #…ニ, #…タ, 脈拍, 脈…モ, 脈…ニ, 脈…タ, 拍モ...\n",
       "60      [#婚, #…姻, #…要, #…件, #…具, 婚姻, 婚…要, 婚…件, 婚…具, 姻要...\n",
       "1542    [#慢, #…性, #…肝, #…不, #…全, 慢性, 慢…肝, 慢…不, 慢…全, 性肝...\n",
       "635     [#エ, #…ン, #…ボ, #…ス, #…加, エン, エ…ボ, エ…ス, エ…加, ンボ...\n",
       "Name: sk2gram, Length: 2203, dtype: object"
      ]
     },
     "execution_count": 123,
     "metadata": {},
     "output_type": "execute_result"
    }
   ],
   "source": [
    "## 解析対象の確認\n",
    "## aberrated == 1 は訓練事例に含めない\n",
    "bots = df[df['aberrated'] == 0][term_type]\n",
    "bots"
   ]
  },
  {
   "cell_type": "code",
   "execution_count": 124,
   "id": "4fbfde6d-13a1-49a0-b032-55a73a53fbfd",
   "metadata": {},
   "outputs": [],
   "source": [
    "## stopwords を除外\n",
    "stopwords = [ '腫瘍', '性', '炎', '血', '腫', '瘍', 'の' ]\n",
    "if remove_stopwords:\n",
    "    bows = [ [ x for x in bot if x not in stopwords ] for bot in bots ]\n",
    "if verbose:\n",
    "    random.sample(list(bots), 3)"
   ]
  },
  {
   "cell_type": "markdown",
   "id": "80513d18",
   "metadata": {},
   "source": [
    "# LDA"
   ]
  },
  {
   "cell_type": "code",
   "execution_count": 125,
   "id": "06878153",
   "metadata": {},
   "outputs": [],
   "source": [
    "## install TomotoPy if necessary\n",
    "#!conda install tomotopy -y\n",
    "## run the following instead if the above fails\n",
    "#!pip install -U tomotopy\n",
    "#!conda update conda -y"
   ]
  },
  {
   "cell_type": "code",
   "execution_count": 126,
   "id": "5aec53b6",
   "metadata": {},
   "outputs": [],
   "source": [
    "def old_apply_LDA_by_GenSim():\n",
    "    ## LDA 構築の基になる dictionary = document-term matrix (dtm) を構築\n",
    "    from gensim.corpora.dictionary import Dictionary\n",
    "    diction = Dictionary(bots)\n",
    "    \n",
    "    ## 結果の確認\n",
    "    print(diction)\n",
    "    \n",
    "    ## 構造の確認\n",
    "    for k in random.sample(diction.keys(), 20):\n",
    "        print(f\"index: {k} ; term: {diction[k]}\")\n",
    "    \n",
    "    ## diction の検査\n",
    "    import pandas as pd\n",
    "    from operator import attrgetter\n",
    "    from collections import namedtuple\n",
    "\n",
    "    freq_record = namedtuple('record', ['term', 'freq'])\n",
    "    term_freqs = [ freq_record(*x) for x in diction.most_common() ] ## most_common allows access to frequencies\n",
    "    terms_freqs = sorted(term_freqs, key = attrgetter('freq'), reverse = True)\n",
    "    ## term の頻度順位で上位30件\n",
    "    term_freqs[:20]\n",
    "\n",
    "    ## 頻度1 のterm の個数\n",
    "    hapaxes = [ record for record in term_freqs if record.freq == 1 ]\n",
    "    hapax_counts = len(hapaxes)\n",
    "\n",
    "    ## 頻度1 の term のサンプルn件\n",
    "    hapax_sample_n = 20\n",
    "    print(f\"{hapax_sample_n} samples\")\n",
    "    pp.pprint(random.sample(hapaxes, hapax_sample_n))\n",
    "\n",
    "    ## 個数\n",
    "    print(f\"number of hapaxes: {hapax_counts}\")\n",
    "\n",
    "    ## diction の濾過\n",
    "    import copy\n",
    "    diction_copy = copy.deepcopy(diction) # 予備の生成\n",
    "\n",
    "    ## filter適用: 実は諸刃の刃で，token数が少ない時には適用しない方が良い\n",
    "    apply_filter = True\n",
    "    if apply_filter:\n",
    "        diction_copy.filter_extremes(no_below = term_min_freq, no_above = term_abuse_rate)\n",
    "    print(diction_copy)\n",
    "\n",
    "    ## データを選択\n",
    "    diction = diction_copy # 名前を元に戻す\n",
    "\n",
    "    ## gensim の用 corpusの構築\n",
    "    corpus = [ diction.doc2bow(bot) for bot in bots ]\n",
    "    corpus_sample_n = 1\n",
    "    print(f\"{corpus_sample_n} samples\")\n",
    "    pp.pprint(random.sample(corpus, corpus_sample_n))\n",
    "    print(f\"Number of documents: {len(corpus)}\")\n",
    "\n",
    "    ## LDA モデルの構築\n",
    "    from gensim.models import LdaModel\n",
    "    if lda_uses_fixed_alpha:\n",
    "        doc_lda = LdaModel(corpus, id2word = diction, num_topics = n_topics, alpha = lda_alpha_val)\n",
    "    else:\n",
    "        doc_lda = LdaModel(corpus, id2word = diction, num_topics = n_topics, alpha = 'auto')\n",
    "    print(doc_lda)"
   ]
  },
  {
   "cell_type": "code",
   "execution_count": 127,
   "id": "eee3377a",
   "metadata": {},
   "outputs": [],
   "source": [
    "def apply_LDA_by_GenSim (df, term_type: str, n_topics: int, min_freq: int, abuse_rate: float, n_cores: int, apply_term_filtering: bool = True, run_LDA_in_parallel: bool = True, check: bool = False):\n",
    "    \"LDA の実行 (GenSim 版)\"\n",
    "    \n",
    "    print(f\"applying LDA by GenSim\")\n",
    "    ## LDA 構築の基になる dictionary = document-term matrix (dtm) を構築\n",
    "    from gensim.corpora.dictionary import Dictionary\n",
    "    diction = Dictionary(df[term_type])\n",
    "    print(diction)\n",
    "    original_diction_size = len(diction)\n",
    "    \n",
    "    ## 高い頻度 token を確認\n",
    "    top_ratio = 0.03\n",
    "    if check:\n",
    "        top_n = round(len(df[term_type]) * top_ratio)\n",
    "        diction.most_common(top_n)\n",
    "    \n",
    "    ## diction の濾過\n",
    "    import copy\n",
    "    diction_copy = copy.deepcopy(diction) # 必須\n",
    "\n",
    "    ## term 濾過の実行\n",
    "    if apply_term_filtering:\n",
    "        # docs 被覆率: 大きくし過ぎない\n",
    "        print(f\"min_freq: {min_freq}\")\n",
    "        # 対象外とする語の濫用指標: 小さくし過ぎないように\n",
    "        print(f\"abuse_rate: {abuse_rate}\")\n",
    "        diction_copy.filter_extremes(no_below = min_freq, no_above = abuse_rate)\n",
    "\n",
    "    ## check\n",
    "    print(diction_copy)\n",
    "    new_diction_size = len(diction_copy)\n",
    "    print(f\"removed {(original_diction_size - new_diction_size)} tokens\")\n",
    "    \n",
    "    ## dtm データの選択\n",
    "    diction = diction_copy\n",
    "\n",
    "    ## bots を構築\n",
    "    bots = [ diction.doc2bow(term) for term in df[term_type] ]\n",
    "    print(f\"number of unique tokens: {len(diction)}\")\n",
    "    print(f\"number of documents: {len(bots)}\")\n",
    "    \n",
    "    ## sanitize\n",
    "    bots = [ bot for bot in bots if len(bot) > 0 ]\n",
    "    print(f\"number of sanitized documents: {len(bots)}\")\n",
    "    \n",
    "    ## bots のLDA モデルの構築\n",
    "    if run_LDA_in_parallel:\n",
    "        from gensim.models import LdaMulticore\n",
    "        lda_model_ = LdaMulticore(bots,\n",
    "                    id2word = diction,\n",
    "                    num_topics = n_topics, \n",
    "                    alpha = 0.001, #alpha = 'auto',\n",
    "                    workers = n_cores)\n",
    "    else:\n",
    "        from gensim.models import LdaModel\n",
    "        lda_model_ = LdaModel(bots,\n",
    "                    id2word = diction,\n",
    "                    num_topics = n_topics, \n",
    "                    alpha = 'auto')\n",
    "    ##\n",
    "    return diction, bots, lda_model_"
   ]
  },
  {
   "cell_type": "code",
   "execution_count": 128,
   "id": "766f7a74",
   "metadata": {},
   "outputs": [],
   "source": [
    "def apply_LDA_by_TomotoPy (df, term_type: str, n_topics: int, term_min_freq: int, target_label_name: None, apply_term_filtering: bool = True, use_LLDA: bool = False, n_iter: int = 100, check: bool = False):\n",
    "    \"LDA の実行 (TomotoPy 版)\"\n",
    "    \n",
    "    import tomotopy as tp\n",
    "    print(f\"applying LDA by TomotoPy\")\n",
    "\n",
    "    ## set up for text\n",
    "    bots = df[term_type]\n",
    "\n",
    "    ## set up for labels\n",
    "    if target_label_name:\n",
    "        target_labels = [ str(x) for x in df[target_label_name] ] # convert int to str\n",
    "    else:\n",
    "        target_labels = []\n",
    "    \n",
    "    ## term filtering\n",
    "    min_df = 0\n",
    "    rm_top_val = 0\n",
    "    if apply_term_filtering:\n",
    "        min_cf_val = term_min_freq\n",
    "    else:\n",
    "        min_cf_val = 0 # default value\n",
    "    ## build a model with term filtering\n",
    "    if len(target_labels) > 0:\n",
    "        if use_LLDA:\n",
    "            tomoto_lda_model = tp.LLDAModel(k = n_topics, seed = 1234, min_cf = min_cf_val, rm_top = rm_top_val)\n",
    "        else:\n",
    "            tomoto_lda_model = tp.PLDAModel(latent_topics = n_topics, seed = 1234, min_cf = min_cf_val, rm_top = rm_top_val)\n",
    "        for text, label in zip(bots, target_labels):\n",
    "            tomoto_lda_model.add_doc(text, labels = label)\n",
    "    else:\n",
    "        tomoto_lda_model = tp.LDAModel(k = n_topics, seed = 1234, min_cf = min_cf_val, rm_top = rm_top_val)\n",
    "        for text in bots:\n",
    "            tomoto_lda_model.add_doc(text)\n",
    "    ## train the model\n",
    "    tomoto_lda_model.train(iter = n_iter)\n",
    "    ##\n",
    "    diction = list(tomoto_lda_model.used_vocabs) # experimental\n",
    "    ##\n",
    "    return diction, bots, tomoto_lda_model # diction is null??"
   ]
  },
  {
   "cell_type": "markdown",
   "id": "8450a987",
   "metadata": {},
   "source": [
    "LDA を実行"
   ]
  },
  {
   "cell_type": "code",
   "execution_count": 129,
   "id": "e6cd95ef",
   "metadata": {},
   "outputs": [],
   "source": [
    "#df.columns\n",
    "#df['domain_id']"
   ]
  },
  {
   "cell_type": "code",
   "execution_count": 130,
   "id": "bf9ef629",
   "metadata": {},
   "outputs": [],
   "source": [
    "## defined place-holders\n",
    "diction_dict   = {}\n",
    "bots_dict      = {}\n",
    "lda_model_dict = {}"
   ]
  },
  {
   "cell_type": "code",
   "execution_count": 131,
   "id": "532177c2",
   "metadata": {},
   "outputs": [
    {
     "name": "stdout",
     "output_type": "stream",
     "text": [
      "applying LDA by TomotoPy\n"
     ]
    },
    {
     "name": "stderr",
     "output_type": "stream",
     "text": [
      "/var/folders/36/bz6nd12s6_z17390cw3lqzr00000gn/T/ipykernel_3994/2684125106.py:30: RuntimeWarning: `labels` should be an iterable of str.\n",
      "  tomoto_lda_model.add_doc(text, labels = label)\n",
      "/var/folders/36/bz6nd12s6_z17390cw3lqzr00000gn/T/ipykernel_3994/2684125106.py:36: RuntimeWarning: The training result may differ even with fixed seed if `workers` != 1.\n",
      "  tomoto_lda_model.train(iter = n_iter)\n"
     ]
    }
   ],
   "source": [
    "label_name = 'domain_id'\n",
    "\n",
    "if use_labeled_LDA:\n",
    "    diction, bots, lda_model = apply_LDA_by_TomotoPy (df, term_type, n_topics, term_min_freq, label_name)\n",
    "else:\n",
    "    diction, bots, lda_model = apply_LDA_by_GenSim (df, term_type, n_topics, term_min_freq, term_abuse_rate, n_cores)\n",
    "##\n",
    "if check:\n",
    "    print(lda_model)\n",
    "    \n",
    "## diction, bots, LDA model の登録\n",
    "diction_dict[term_type]   = diction\n",
    "bots_dict[term_type]      = bots\n",
    "lda_model_dict[term_type] = lda_model\n",
    "\n",
    "## get LDA encoding\n",
    "if use_labeled_LDA:\n",
    "    doc_lda_encodings = [ doc.get_topic_dist() for doc in lda_model.docs ]\n",
    "else:\n",
    "    raw_lda_encodings = df[term_type].apply(lambda x:\n",
    "                                    lda_model.get_document_topics (diction.doc2bow(x), minimum_probability = 0))\n",
    "    doc_lda_encodings = [ [ x[-1] for x in enc ] for enc in raw_lda_encodings ] # trick!"
   ]
  },
  {
   "cell_type": "code",
   "execution_count": 135,
   "id": "1bdaaeb4",
   "metadata": {},
   "outputs": [
    {
     "data": {
      "text/plain": [
       "[array([0.0000000e+00, 0.0000000e+00, 0.0000000e+00, 9.9757659e-01,\n",
       "        0.0000000e+00, 0.0000000e+00, 0.0000000e+00, 3.9031712e-04,\n",
       "        2.1184571e-04, 1.9643430e-04, 2.0215867e-04, 2.4892748e-04,\n",
       "        2.2473487e-04, 2.3362563e-04, 2.3708022e-04, 1.9868274e-04,\n",
       "        2.7961927e-04], dtype=float32),\n",
       " array([0.0000000e+00, 1.8554936e-04, 0.0000000e+00, 0.0000000e+00,\n",
       "        0.0000000e+00, 0.0000000e+00, 0.0000000e+00, 3.9036278e-04,\n",
       "        2.1187049e-04, 1.9645727e-04, 8.0511403e-01, 2.4895661e-04,\n",
       "        2.2476117e-04, 2.3365297e-04, 2.3710796e-04, 5.2692957e-02,\n",
       "        1.4026432e-01], dtype=float32),\n",
       " array([0.00000000e+00, 0.00000000e+00, 0.00000000e+00, 0.00000000e+00,\n",
       "        8.88691604e-01, 0.00000000e+00, 0.00000000e+00, 4.04522667e-04,\n",
       "        2.19555805e-04, 2.03583491e-04, 2.09516205e-04, 1.09054804e-01,\n",
       "        2.32914070e-04, 2.42128415e-04, 2.45708739e-04, 2.05913762e-04,\n",
       "        2.89795978e-04], dtype=float32)]"
      ]
     },
     "execution_count": 135,
     "metadata": {},
     "output_type": "execute_result"
    }
   ],
   "source": [
    "##\n",
    "sample_n = 3\n",
    "import random\n",
    "random.sample(doc_lda_encodings, sample_n)"
   ]
  },
  {
   "cell_type": "markdown",
   "id": "49c5e9cb",
   "metadata": {},
   "source": [
    "LDAvis の実行"
   ]
  },
  {
   "cell_type": "code",
   "execution_count": 139,
   "id": "332e7336",
   "metadata": {},
   "outputs": [],
   "source": [
    "## install gensim if necessary\n",
    "#!conda install gensim -y"
   ]
  },
  {
   "cell_type": "code",
   "execution_count": 143,
   "id": "3e987470",
   "metadata": {},
   "outputs": [
    {
     "name": "stdout",
     "output_type": "stream",
     "text": [
      "target_term_type: sk3gram\n"
     ]
    }
   ],
   "source": [
    "## pyLDAvis を使った結果の可視化: 階層クラスタリングより詳しい\n",
    "show_LDAvis = False\n",
    "\n",
    "## 一度の実行で一つの term_type しか表示できない\n",
    "used_term_types  = term_types\n",
    "target_term_type = used_term_types[-2]\n",
    "print(f\"target_term_type: {target_term_type}\")\n",
    "                                                \n",
    "if show_LDAvis:\n",
    "    import numpy as np\n",
    "    import pyLDAvis\n",
    "    installed_pyLDAvis_version = pyLDAvis.__version__\n",
    "    print(f\"installed pyLDAvis version: {installed_pyLDAvis_version}\")\n",
    "    ##\n",
    "    used_lda_model = lda_model_dict[target_term_type]\n",
    "    used_bots      = bots_dict[target_term_type]\n",
    "    used_diction   = diction_dict[target_term_type]\n",
    "    ##  \n",
    "    if use_labeled_LDA:\n",
    "        ## prepare data for pyLDAvis\n",
    "        topic_term_dists = np.stack(\n",
    "            [used_lda_model.get_topic_word_dist(k) for k in range(used_lda_model.k)]\n",
    "            )\n",
    "        #\n",
    "        doc_topic_dists = np.stack(\n",
    "            [doc.get_topic_dist() for doc in used_lda_model.docs]\n",
    "            )\n",
    "        doc_topic_dists /= doc_topic_dists.sum(axis = 1, keepdims = True)\n",
    "        #\n",
    "        doc_lengths = np.array([len(doc.words) for doc in used_lda_model.docs])\n",
    "        #\n",
    "        vocabs = list(used_lda_model.used_vocabs)\n",
    "        #\n",
    "        term_frequency = used_lda_model.used_vocab_freq\n",
    "        ##\n",
    "        vis = pyLDAvis.prepare(topic_term_dists, doc_topic_dists, doc_lengths, vocabs, term_frequency,\n",
    "            start_index = 1, sort_topics = False)\n",
    "    else: # use GenSim\n",
    "        if float(installed_pyLDAvis_version[:3]) > 3.0:\n",
    "            import pyLDAvis.gensim_models as gensimvis\n",
    "        else:\n",
    "            import pyLDAvis.gensim as gensimvis\n",
    "        \n",
    "        ## apply one of the following when JSON turned out to be too complex\n",
    "        use_MMDS = False\n",
    "        use_tSNE = False\n",
    "        if use_MMDS:\n",
    "            mds_val = \"mmds\"\n",
    "        elif use_tSNE:\n",
    "            mds_val = \"tsne\"\n",
    "        else:\n",
    "            mds_val = \"default\"\n",
    "        vis = gensimvis.prepare(used_lda_model, used_bots, used_diction, n_jobs = n_cores, sort_topics = False, mds = mds_val)\n",
    "    ##\n",
    "    pyLDAvis.enable_notebook()\n",
    "    pyLDAvis.display(vis) # produces void output"
   ]
  },
  {
   "cell_type": "code",
   "execution_count": 145,
   "id": "84e3df34",
   "metadata": {},
   "outputs": [
    {
     "ename": "AttributeError",
     "evalue": "'tomotopy.PLDAModel' object has no attribute 'get_topic_terms'",
     "output_type": "error",
     "traceback": [
      "\u001b[0;31m---------------------------------------------------------------------------\u001b[0m",
      "\u001b[0;31mAttributeError\u001b[0m                            Traceback (most recent call last)",
      "Cell \u001b[0;32mIn[145], line 7\u001b[0m\n\u001b[1;32m      5\u001b[0m \u001b[38;5;28;01mfor\u001b[39;00m topic \u001b[38;5;129;01min\u001b[39;00m \u001b[38;5;28mrange\u001b[39m(n_topics):\n\u001b[1;32m      6\u001b[0m     terms \u001b[38;5;241m=\u001b[39m [ ]\n\u001b[0;32m----> 7\u001b[0m     \u001b[38;5;28;01mfor\u001b[39;00m i, prob \u001b[38;5;129;01min\u001b[39;00m lda_model\u001b[38;5;241m.\u001b[39mget_topic_terms(topic, topn \u001b[38;5;241m=\u001b[39m n_terms):\n\u001b[1;32m      8\u001b[0m         terms\u001b[38;5;241m.\u001b[39mappend(diction\u001b[38;5;241m.\u001b[39mid2token[ \u001b[38;5;28mint\u001b[39m(i) ])\n\u001b[1;32m      9\u001b[0m     \u001b[38;5;66;03m#\u001b[39;00m\n",
      "\u001b[0;31mAttributeError\u001b[0m: 'tomotopy.PLDAModel' object has no attribute 'get_topic_terms'"
     ]
    }
   ],
   "source": [
    "%%capture --no-display\n",
    "\n",
    "## lda のtopic ごとに，関連度の高い term を表示\n",
    "import pandas as pd\n",
    "n_terms = 20 # topic ごとに表示する term 数の指定\n",
    "topic_dfs = [ ]\n",
    "for topic in range(n_topics):\n",
    "    terms = [ ]\n",
    "    for i, prob in lda_model.get_topic_terms(topic, topn = n_terms):\n",
    "        terms.append(diction.id2token[ int(i) ])\n",
    "    #\n",
    "    topic_dfs.append(pd.DataFrame([terms], index = [ f'topic {topic+1}' ]))\n",
    "#\n",
    "topic_term_df = pd.concat(topic_dfs)\n",
    "## Table で表示\n",
    "topic_term_df.T"
   ]
  },
  {
   "cell_type": "markdown",
   "id": "6f3e7162-4971-4a3b-a3f3-b51f13f9d493",
   "metadata": {},
   "source": [
    "# Docs のエンコード"
   ]
  },
  {
   "cell_type": "code",
   "execution_count": 142,
   "id": "1452fbcc-a338-4eb6-a434-ab1c306de037",
   "metadata": {},
   "outputs": [
    {
     "name": "stdout",
     "output_type": "stream",
     "text": [
      "get sk2gram-based LDA encodings for documents\n"
     ]
    },
    {
     "ename": "NameError",
     "evalue": "name 'doc_lda' is not defined",
     "output_type": "error",
     "traceback": [
      "\u001b[0;31m---------------------------------------------------------------------------\u001b[0m",
      "\u001b[0;31mNameError\u001b[0m                                 Traceback (most recent call last)",
      "Cell \u001b[0;32mIn[142], line 12\u001b[0m\n\u001b[1;32m      9\u001b[0m bot \u001b[38;5;241m=\u001b[39m row[term_type]\n\u001b[1;32m     10\u001b[0m \u001b[38;5;66;03m## get_document_topics(..) では　minimu_probability = 0 としないと\u001b[39;00m\n\u001b[1;32m     11\u001b[0m \u001b[38;5;66;03m## 値が十分に大きな topics に関してだけ値が取れる\u001b[39;00m\n\u001b[0;32m---> 12\u001b[0m enc_temp \u001b[38;5;241m=\u001b[39m doc_lda\u001b[38;5;241m.\u001b[39mget_document_topics(diction\u001b[38;5;241m.\u001b[39mdoc2bow(bot), minimum_probability \u001b[38;5;241m=\u001b[39m \u001b[38;5;241m0\u001b[39m)\n\u001b[1;32m     13\u001b[0m \u001b[38;5;28;01mif\u001b[39;00m check:\n\u001b[1;32m     14\u001b[0m     \u001b[38;5;28mprint\u001b[39m(\u001b[38;5;124mf\u001b[39m\u001b[38;5;124m\"\u001b[39m\u001b[38;5;124menc_temp: \u001b[39m\u001b[38;5;132;01m{\u001b[39;00menc_temp\u001b[38;5;132;01m}\u001b[39;00m\u001b[38;5;124m\"\u001b[39m)\n",
      "\u001b[0;31mNameError\u001b[0m: name 'doc_lda' is not defined"
     ]
    }
   ],
   "source": [
    "## LDA モデルを使ったエンコード\n",
    "check      = False\n",
    "lda_doc_encoding = [ ]\n",
    "print(f\"get {term_type}-based LDA encodings for documents\")\n",
    "for i, row in df.iterrows():\n",
    "    if check:\n",
    "        print(f\"row: {row}\")\n",
    "    doc = row[doc_type]\n",
    "    bot = row[term_type]\n",
    "    ## get_document_topics(..) では　minimu_probability = 0 としないと\n",
    "    ## 値が十分に大きな topics に関してだけ値が取れる\n",
    "    enc_temp = doc_lda.get_document_topics(diction.doc2bow(bot), minimum_probability = 0)\n",
    "    if check:\n",
    "        print(f\"enc_temp: {enc_temp}\")\n",
    "    lda_doc_encoding.append([ x[-1] for x in enc_temp ])\n",
    "#\n",
    "len(lda_doc_encoding)\n",
    "if verbose:\n",
    "    random.sample(lda_doc_encoding, 2)"
   ]
  },
  {
   "cell_type": "code",
   "execution_count": null,
   "id": "87a10cd4",
   "metadata": {},
   "outputs": [],
   "source": [
    "## FastText を使ったエンコード\n",
    "from gensim.models import FastText\n",
    "## build a model: for better comparison, vector_size should be equal to n_topics\n",
    "print(f\"get FastText encodings for documents\")\n",
    "#ft_corpus = df[doc_type]\n",
    "## emulate sentences by concatenating character 1-grams by whitespaces\n",
    "ft_corpus = [ ft_token_sep.join(x) for x in df[ft_term_type] ]\n",
    "ft_model = FastText(ft_corpus,\n",
    "                    vector_size = ft_n_dims,\n",
    "                    window = ft_window_size,\n",
    "                    min_count = 1, sg = 1)\n",
    "## ft_model は dict\n",
    "ft_doc_encoding = [ ft_model.wv[doc] for doc in ft_corpus ]\n",
    "#\n",
    "len(ft_doc_encoding)\n",
    "if check:\n",
    "    random.sample(ft_doc_encoding, 3)"
   ]
  },
  {
   "cell_type": "code",
   "execution_count": null,
   "id": "d89ed630",
   "metadata": {},
   "outputs": [],
   "source": [
    "## doc_encoding の選択: LDA か FastText か両方の組み合わせか\n",
    "check = False\n",
    "if use_LDA:\n",
    "    if use_FastText:\n",
    "        #doc_encoding = [ x + y for x, y in zip(lda_encoding, ft_encoding) ]\n",
    "        doc_encoding = [ np.reshape(np.concatenate([x, y], dtype = object) , -1) for x, y in\n",
    "                        zip(lda_doc_encoding, ft_doc_encoding) ]\n",
    "        encoding_method = \"LDA x FastText\"\n",
    "    else:  \n",
    "        doc_encoding = lda_doc_encoding\n",
    "        encoding_method = \"LDA\"\n",
    "else:\n",
    "    doc_encoding = ft_doc_encoding\n",
    "    encoding_method = \"FastText\"\n",
    "len(doc_encoding)\n",
    "## sample の確認\n",
    "if check:\n",
    "    print(random.sample(doc_encoding, 3))"
   ]
  },
  {
   "cell_type": "code",
   "execution_count": null,
   "id": "41f5976c",
   "metadata": {},
   "outputs": [],
   "source": [
    "## df に enc の列を追加\n",
    "df['enc'] = doc_encoding\n",
    "if verbose:\n",
    "    df"
   ]
  },
  {
   "cell_type": "code",
   "execution_count": null,
   "id": "23296f56-c71a-46d8-9fb6-c351ca162661",
   "metadata": {},
   "outputs": [],
   "source": [
    "## エンコーディングのstd の分布を見る\n",
    "import numpy as np\n",
    "from matplotlib import pyplot as plt\n",
    "\n",
    "std_dist = [ np.std(x) for x in df['enc'] ]\n",
    "plt.hist(std_dist, bins = 20)\n",
    "plt.title(f\"Distribution of std values among encodings\")\n",
    "plt.show()\n",
    "## 0 周辺に事例があるなら，エンコーディング効率が悪い"
   ]
  },
  {
   "cell_type": "code",
   "execution_count": null,
   "id": "44386545-b8d6-4e41-b4d0-3d5d090f1478",
   "metadata": {},
   "outputs": [],
   "source": [
    "## 一様分布の事例を除外\n",
    "import numpy as np\n",
    "\n",
    "check = False\n",
    "print(f\"{len(df)} instances before filtering\")\n",
    "enc = df['enc']\n",
    "\n",
    "max_std = max([ np.std(x) for x in enc])\n",
    "if check:\n",
    "    print(f\"std max: {max_std}\")\n",
    "\n",
    "min_std = min([ np.std(x) for x in enc])\n",
    "if check:\n",
    "    print(f\"std min: {min_std}\")\n",
    "\n",
    "first_min_std = list(sorted(set([ np.std(x) for x in enc])))[-0]\n",
    "print(f\"std 1st min: {first_min_std}\")\n",
    "\n",
    "second_min_std = list(sorted(set([ np.std(x) for x in enc])))[-1]\n",
    "print(f\"std 2nd min: {second_min_std}\")"
   ]
  },
  {
   "cell_type": "code",
   "execution_count": null,
   "id": "ccb41541-9309-40ee-9a3d-1ec361073255",
   "metadata": {},
   "outputs": [],
   "source": [
    "## 閾値は2番目に小さい値より小さく最小値よりは大きな値であるべき\n",
    "import numpy as np\n",
    "\n",
    "std_threshold = second_min_std / 9 # 穏健な値を得るために9で割った\n",
    "print(f\"std_threshold: {std_threshold}\")\n",
    "\n",
    "## Rっぽい次のコードは通らない\n",
    "#df_filtered = df[ df['encoding'] > std_threshold ]\n",
    "## 通るのは次のコード: Creating a list of True/False and apply it to DataFrame \n",
    "classified = [ False if np.std(x) < std_threshold else True for x in df['enc'] ]\n",
    "df_filtered = df[ classified ]\n",
    "#\n",
    "print(f\"filtering leaves {len(df_filtered)} instances ({len(df) - len(df_filtered)} instances removed)\")"
   ]
  },
  {
   "cell_type": "code",
   "execution_count": null,
   "id": "ce96b8ea-3f59-40fc-8ca6-eabbf6295477",
   "metadata": {},
   "outputs": [],
   "source": [
    "## 弱いサンプリング\n",
    "secondary_sampling = False\n",
    "if secondary_sampling:\n",
    "    df = df.sample(round(len(df) * 0.5))\n",
    "len(df)"
   ]
  },
  {
   "cell_type": "code",
   "execution_count": null,
   "id": "015fa774-d402-431f-9e2e-e8e44cf0ad1a",
   "metadata": {},
   "outputs": [],
   "source": [
    "df['domain_id'].value_counts().sort_index()"
   ]
  },
  {
   "cell_type": "markdown",
   "id": "ebf1ebde",
   "metadata": {},
   "source": [
    "# 次元削減 (tSNE or UMAP)"
   ]
  },
  {
   "cell_type": "code",
   "execution_count": null,
   "id": "ef4ca231-a5d7-42f9-aed8-ce876d4cb3f5",
   "metadata": {},
   "outputs": [],
   "source": [
    "## tSNE を使った documents のクラスタリング\n",
    "import numpy as np\n",
    "if use_tSNE:\n",
    "    import sklearn.manifold\n",
    "    ## reload on necessity\n",
    "    need_reloading = False\n",
    "    if (need_reloading):\n",
    "        import importlib\n",
    "        importlib.reload(sklearn)\n",
    "    ## n_components は射影先の空間の次元: n_components = 3 なら3次元空間に射影\n",
    "    relative = True\n",
    "    if relative:\n",
    "        doc_perplexity_val = round(len(df) * doc_perplexity_reduct_rate)\n",
    "    else:\n",
    "        doc_perplexity_val = 300 # 大き過ぎると良くない\n",
    "    print(f\"doc_perplexity_val: {doc_perplexity_val}\")\n",
    "    ## 3D version\n",
    "    doc_tSNE_3d = sklearn.manifold.TSNE(n_components = 3, random_state = 0,\n",
    "                                    perplexity = doc_perplexity_val, n_iter = 1000)\n",
    "    ## データに適用\n",
    "    E = np.array(list(df['enc']))\n",
    "    doc_tSNE_3d = doc_tSNE_3d.fit_transform(E)"
   ]
  },
  {
   "cell_type": "code",
   "execution_count": null,
   "id": "bd22dc68",
   "metadata": {},
   "outputs": [],
   "source": [
    "#!pip3 install -U tdqm\n",
    "#!conda install umap\n",
    "#!pip3 uninstall umap -y\n",
    "#!pip3 install -U \"umap-learn\"\n",
    "#!conda install jupyter ipywidgets -y\n",
    "#!conda install numba -y"
   ]
  },
  {
   "cell_type": "code",
   "execution_count": null,
   "id": "cb979e93",
   "metadata": {},
   "outputs": [],
   "source": [
    "## UMAP を使った documents のグループ化\n",
    "import numpy as np\n",
    "if use_UMAP:\n",
    "    #import umap # causes a problem\n",
    "    import umap.umap_ as umap\n",
    "    ## UMAP の生成\n",
    "    UMAP_3d = umap.UMAP(n_components = 3, random_state = 1, n_jobs = 1,\n",
    "                        metric = umap_metric,\n",
    "                        n_neighbors = umap_n_neighbors, min_dist = umap_min_dist)\n",
    "\n",
    "    ## データに適用\n",
    "    doc_UMAP_3d = UMAP_3d.fit_transform(np.array(list(df['enc'])))"
   ]
  },
  {
   "cell_type": "markdown",
   "id": "51e7dbb2",
   "metadata": {},
   "source": [
    "# Dim Reduct の結果の可視化 (Ploty を使って)"
   ]
  },
  {
   "cell_type": "code",
   "execution_count": null,
   "id": "86fa728d",
   "metadata": {},
   "outputs": [],
   "source": [
    "## 使用する embedding の選択\n",
    "if use_UMAP:\n",
    "    doc_reduced = doc_UMAP_3d\n",
    "else:\n",
    "    doc_reduced = doc_tSNE_3d\n",
    "##\n",
    "doc_reduced"
   ]
  },
  {
   "cell_type": "code",
   "execution_count": null,
   "id": "70591a7c",
   "metadata": {},
   "outputs": [],
   "source": [
    "## plot_df の定義\n",
    "import pandas as pd\n",
    "plot_df = pd.DataFrame(\n",
    "    zip(doc_reduced[:,0], doc_reduced[:,1], doc_reduced[:,2], df['domain_id'], df['domain'], df['aberrated'], df[doc_type]),\n",
    "    columns = ['D1', 'D2', 'D3', 'domain_id', 'domain', 'aberrated', doc_type])\n",
    "#\n",
    "plot_df"
   ]
  },
  {
   "cell_type": "code",
   "execution_count": null,
   "id": "606d5e3c",
   "metadata": {},
   "outputs": [],
   "source": [
    "%%capture --no-display\n",
    "\n",
    "## Plotlyを使って tSNE の結果の可視化 (3D)\n",
    "import plotly.graph_objects as go\n",
    "import numpy as np\n",
    "#\n",
    "domain_ids = set(encoded_df['domain_id'])\n",
    "reverse_domain_list = False\n",
    "if reverse_domain_list:\n",
    "    domain_ids = sorted(domain_list, reverse = True)\n",
    "## layered/traced drawing\n",
    "fig = go.Figure()\n",
    "for domain_id in domain_ids:\n",
    "    # set marker size of the target domain\n",
    "    if domain_id == [ i for k, v in domain_encoding.items() if k == target_domain ][0]:\n",
    "        size_val = 5\n",
    "    else:\n",
    "        size_val = 3\n",
    "    part = encoded_df[ encoded_df['domain_id'] == domain_id ]\n",
    "    color = colormap[domain_id]\n",
    "    print(f\"color: {color}\")\n",
    "    fig.add_trace(\n",
    "        go.Scatter3d(\n",
    "            x = part['D1'], y = part['D2'], z = part['D3'],\n",
    "            name = domain_back_encoding[domain_id],\n",
    "            mode = 'markers',\n",
    "            marker = dict(size = size_val, opacity = 0.8),\n",
    "            #marker_colorscale = list(colormap.values()),\n",
    "            marker_color = color,\n",
    "            showlegend = True\n",
    "        )\n",
    "    )\n",
    "\n",
    "## 3D 散布図にラベルを追加する処理は未実装\n",
    "df_size = len(df)\n",
    "if use_UMAP:\n",
    "    title_header = f\"UMAP 3D (metric: {umap_metric}; {umap_n_neighbors} neighbors; min dist: {umap_min_dist}) of {df_size} encodings via\\n\"\n",
    "else:\n",
    "    title_header = f\"t-SNE 3D (ppl: {doc_perplexity_val}) of {df_size} encodings of via\\n\"\n",
    "if use_FastText:\n",
    "    if use_LDA:\n",
    "        title_body = f\"LDA ({n_topics} topics; term:0 {lda_term_type}) x FastText ({ft_n_dims} dims; term: {ft_term_type}; window: {ft_window_size})\"\n",
    "    else:\n",
    "        title_body = f\"FastText ({ft_n_dims} dims; term: {ft_term_type}; window: {ft_window_size})\"\n",
    "else:\n",
    "    title_body = f\"LDA ({n_topics} topics; term: {lda_term_type})\"\n",
    "#\n",
    "title_val = title_header + title_body\n",
    "fig.update_layout(title = dict(text = title_val, font_size = 12), autosize = False, width = 700, height = 700)\n",
    "fig.show()"
   ]
  },
  {
   "cell_type": "code",
   "execution_count": null,
   "id": "65452d51",
   "metadata": {},
   "outputs": [],
   "source": [
    "%%capture --no-display\n",
    "\n",
    "## tSNE の結果の可視化\n",
    "import matplotlib.pyplot as plt\n",
    "from adjustText import adjust_text\n",
    "\n",
    "## 日本語表示のための設定\n",
    "plt.rcParams[\"font.family\"] = \"Hiragino sans\" # Windows/Linux の場合は別のフォントを指定\n",
    "\n",
    "## 文字を表示する事例のサンプリング\n",
    "relative = True\n",
    "lab_sampling_rate = 0.02 # サンプリング率の指定\n",
    "if relative:\n",
    "    lab_sample_n = round(lab_sampling_rate * len(df))\n",
    "else:\n",
    "    lab_sample_n = 30 # 絶対数の指定\n",
    "print(f\"lab_sample_n: {lab_sample_n}\")\n",
    "\n",
    "## labels の生成\n",
    "label_size = max_doc_length\n",
    "sampled_keys = [ x[:label_size] for x in random.sample(list(df[doc_type]), lab_sample_n) ]\n",
    "\n",
    "## 描画\n",
    "for i in range(3):\n",
    "    roll = np.roll([0,1,2], -i)\n",
    "    asp1, asp2 = roll[0], roll[1]\n",
    "    X, Y = doc_reduced[:, asp1], doc_reduced[:, asp2]\n",
    "    ## \n",
    "    plt.figure(figsize = (5, 5))\n",
    "    plt.xlim(X.min(), X.max() + 1)\n",
    "    plt.ylim(Y.min(), Y.max() + 1)\n",
    "    ## 分野ごとの色分け\n",
    "    cmap = list(map(lambda i: colormap[i], df['domain_id'])) # colormap は最初に定義してある\n",
    "    scatter = plt.scatter(X, Y, s = 30, c = cmap, edgecolors = 'w')\n",
    "    ##\n",
    "    texts = [ ]\n",
    "    for x, y, s in zip(X, Y, sampled_keys):\n",
    "        texts.append(plt.text(x, y, s, size = 7, color = 'blue'))\n",
    "    ## label に repel を追加: adjustText package の導入が必要\n",
    "    get_Float_object_is_not_subsriptable_Error = False\n",
    "    if get_Float_object_is_not_subsriptable_Error:\n",
    "        pass\n",
    "    else:\n",
    "        try:\n",
    "            adjust_text(texts,\n",
    "                    expand_points = (1, 1), expand_text = (1, 1),\n",
    "                    force_points = 0.2,\n",
    "                    force_text = 0.2,\n",
    "                    arrowprops = dict(arrowstyle = \"-\", color = 'black', lw = 0.5))\n",
    "        except TypeError:\n",
    "            pass\n",
    "    ## title piece 1\n",
    "    if use_UMAP:\n",
    "        embedding_method = f\"UMAP (metric: {umap_metric}; n_neighbors: {umap_n_neighbors}; min_dist: {umap_min_dist})\"\n",
    "    else:\n",
    "        embedding_method = f\"t-SNE (ppl: {doc_perplexity_val})\"\n",
    "    ## title piece 2\n",
    "    used_domains = f\"<{', '.join(selected_domains.keys())}>\"\n",
    "    ## title_val\n",
    "    title_header = f\"2D view (D{asp1+1}, D{asp2+1}) of {embedding_method} for {len(df)} docs\\nin {used_domains} via\\n\"\n",
    "    if use_FastText:\n",
    "        if use_LDA:\n",
    "            title_val = title_header + f\"LDA ({n_topics} topics; term: {lda_term_type}) x FastText ({ft_n_dims} dims; term: {ft_term_type}; window: {ft_window_size})\"\n",
    "        else:\n",
    "            title_val = title_header + f\"FastText ({ft_n_dims} dims; term: {ft_term_type}; window: {ft_window_size})\"\n",
    "    else:\n",
    "        title_val = title_header + f\"LDA ({n_topics} topics; term: {lda_term_type})\"\n",
    "    #\n",
    "    plt.title(title_val)\n",
    "    plt.show()"
   ]
  },
  {
   "cell_type": "markdown",
   "id": "76b1ec69",
   "metadata": {},
   "source": [
    "# DBSCAN で docs をクラスタリング"
   ]
  },
  {
   "cell_type": "code",
   "execution_count": null,
   "id": "52b7e1a8",
   "metadata": {},
   "outputs": [],
   "source": [
    "## install PyClustering\n",
    "#!conda install pyclustering -y\n",
    "## failed\n",
    "#!pip install pyclustering\n",
    "#!conda update conda -y"
   ]
  },
  {
   "cell_type": "code",
   "execution_count": null,
   "id": "e63b4d96",
   "metadata": {},
   "outputs": [],
   "source": [
    "## DBSCAN でクラスタリング\n",
    "from collections import Counter\n",
    "from sklearn.cluster import DBSCAN\n",
    "\n",
    "## source の指定\n",
    "dbscan_source = doc_reduced\n",
    "\n",
    "## eps, min_samples は事例ごとに調節が必要\n",
    "min_samples_rate = 0.001\n",
    "min_samples_val = round(len(dbscan_source) * min_samples_rate)\n",
    "print(f\"min_samples_val: {min_samples_val}\")\n",
    "\n",
    "## looking for optimal eps val compatible with color palette\n",
    "## effective for upper_bounded setting\n",
    "max_n_clusters = 24 # This depends on the differetiation in color palette used\n",
    "\n",
    "##\n",
    "allowed_n_outliers_rate = 0.01\n",
    "max_n_outliers = round (len(dbscan_source) * allowed_n_outliers_rate)\n",
    "print(f\"ma_n_outliers: {max_n_outliers}\")\n",
    "\n",
    "##\n",
    "upper_bounded = True\n",
    "check = False\n",
    "print(f\"Looking for the optimal eps val...\")\n",
    "eps_scaling_factor = 0.33\n",
    "max_eps_val        = n_topics * eps_scaling_factor # needs to be effectively large\n",
    "print(f\"max_eps_val: {max_eps_val}\")\n",
    "dbscan_clustered   = None\n",
    "cluster_ids        = None\n",
    "for eps_val in np.arange(max_eps_val, 0.001, -0.005):\n",
    "    print(f\"testing eps = {eps_val:0.4f}\")\n",
    "    dbscan_clustered_local = DBSCAN(eps = eps_val, min_samples = min_samples_val).fit(dbscan_source)\n",
    "    cluster_labels = dbscan_clustered_local.labels_\n",
    "    cluster_label_counts = Counter(cluster_labels)\n",
    "    print(cluster_label_counts)\n",
    "    print(f\"n_clusters: {len(cluster_label_counts)}\")\n",
    "    if check:\n",
    "        print(f\"result: {np.unique(cluster_labels)}\")\n",
    "    if upper_bounded:\n",
    "        if len(np.unique(cluster_labels)) <= max_n_clusters:\n",
    "            dbscan_clustered = dbscan_clustered_local\n",
    "            cluster_ids = cluster_labels\n",
    "        else:\n",
    "            break\n",
    "    else:\n",
    "        if cluster_label_counts[-1] <= max_n_outliers:\n",
    "            dbscan_clustered = dbscan_clustered_local\n",
    "            cluster_ids = cluster_labels\n",
    "        else:\n",
    "            break\n",
    "#\n",
    "print(f\"final result: {np.unique(cluster_ids)}\")"
   ]
  },
  {
   "cell_type": "code",
   "execution_count": null,
   "id": "ec6596bd-70a9-4aef-8891-1f2005b780f3",
   "metadata": {},
   "outputs": [],
   "source": [
    "## 必要に応じて Seaborn を道入\n",
    "#!pip install -U seaborn\n",
    "#!pip install -U adjustText\n",
    "#!conda update conda -y"
   ]
  },
  {
   "cell_type": "code",
   "execution_count": null,
   "id": "7991f952-b482-4b17-b4d8-db8060421275",
   "metadata": {},
   "outputs": [],
   "source": [
    "%%capture --no-display\n",
    "import seaborn as sns\n",
    "import matplotlib.pyplot as plt\n",
    "\n",
    "## 日本語表示のための設定\n",
    "plt.rcParams[\"font.family\"] = \"Hiragino sans\" # Windows/Linux の場合は別のフォントを指定\n",
    "\n",
    "## 凡例の文字の大きさを指定\n",
    "param_vals = {'legend.fontsize': 7, 'legend.handlelength': 2}\n",
    "plt.rcParams.update(param_vals)\n",
    "\n",
    "## 描画\n",
    "fig = plt.figure(figsize = (5, 5))\n",
    "d1, d2 = dbscan_source[:,0], dbscan_source[:,1]\n",
    "sns.scatterplot(x = d1, y = d2, hue = [ f\"cluster {l}\"\n",
    "    for l in dbscan_clustered.labels_ ]) # requires Searborn\n",
    "\n",
    "## 文字を表示する事例のサンプリング\n",
    "relative = True\n",
    "if relative:\n",
    "    lab_sampling_rate = 0.02 # サンプリング率の指定\n",
    "    lab_sample_n = round(lab_sampling_rate * len(df))\n",
    "else:\n",
    "    lab_sample_n = 30 # 絶対数の指定\n",
    "\n",
    "## 事例名の生成\n",
    "texts = [ ]\n",
    "label_size = max_doc_length\n",
    "sampled_keys = [ x[:label_size] for x in random.sample(list(df[doc_type]), lab_sample_n) ]\n",
    "for x, y, s in zip(d1, d2, sampled_keys):\n",
    "    texts.append(plt.text(x, y, s, size = 7, color = 'blue'))\n",
    "\n",
    "## label に repel を追加: adjustText package の導入が必要\n",
    "adjust_text(texts,\n",
    "        #force_points = 0.2,\n",
    "        ## Comment out the following line if you get AttributionError\n",
    "        force_text = (.1, .2),\n",
    "        #expand_points = (1, 1),\n",
    "        #expand_text = (1, 1),\n",
    "        arrowprops = dict(arrowstyle = \"-\", color = 'black', lw = 0.5))\n",
    "    \n",
    "## 題名を指定\n",
    "## used_domains\n",
    "used_domains = f\"<{', '.join(selected_domains.keys())}>\"\n",
    "## title_header\n",
    "df_size = len(df)\n",
    "if use_UMAP:\n",
    "    title_header = f\"2D view of UMAP (metric: {umap_metric}, n_neighbors: {umap_n_neighbors}; min_dist: {umap_min_dist}) for {df_size} doc encodings in\\n{used_domains} via\\n\"\n",
    "else:\n",
    "    title_header = f\"2D view of t-SNE (ppl: {doc_perplexity_val}) for {df_size} document encodings in\\n{used_domains} via\\n\"\n",
    "## title_val\n",
    "if use_FastText:\n",
    "    if use_LDA:\n",
    "        title_body = f\"LDA ({n_topics} topics; term: {lda_term_type}) x FastText ({ft_n_dims} dims; term: {ft_term_type}; window: {ft_window_size})\"\n",
    "    else:\n",
    "        title_boday = f\"FastText ({ft_n_dims} dims; term: {ft_term_type}; window: {ft_window_size})\"\n",
    "else:\n",
    "    title_val = f\"LDA ({n_topics} topics; term: {lda_term_type})\"\n",
    "## clustering_method\n",
    "clustering_method = f\"\\nclustered by DBCAN (eps: {eps_val:0.3f}; min_samples: {min_samples_val})\"\n",
    "#\n",
    "title_val = title_header + title_body + clustering_method\n",
    "plt.title(title_val)\n",
    "plt.show()\n",
    "## 局在の程度は character 1-gram, (skippy) 2-gram, (skippy) 3-gram のどれを使うかで違って来る．"
   ]
  },
  {
   "cell_type": "code",
   "execution_count": null,
   "id": "af1d0fd1",
   "metadata": {},
   "outputs": [],
   "source": [
    "## co-clusteredness に基づく領域間類似度の計算\n",
    "import pandas as pd\n",
    "from sklearn.cluster import DBSCAN\n",
    "\n",
    "## source 選択\n",
    "if use_UMAP:\n",
    "    dbscan_source = doc_UMAP_3d\n",
    "else:\n",
    "    dbscan_source = doc_tSNE_3d\n",
    "\n",
    "## co-clustering correlation の精度を上げるために，クラスター数を多目にする\n",
    "scaling_factor = 5 # 4 は必須\n",
    "max_n_clusters_for_correl = round(len(selected_domains) * scaling_factor)\n",
    "print(f\"max_n_clusters_for_correl\")\n",
    "\n",
    "## eps, min_samples は事例ごとに調節が必要\n",
    "min_samples_val    = 2\n",
    "max_eps_val            = 10 # needs to be effectively large\n",
    "x_dbscan_clustered = None\n",
    "x_cluster_ids      = None\n",
    "eps_val_final      = None\n",
    "eps_vals           = np.arange(max_eps_val, 0.01, -0.01)\n",
    "\n",
    "print(f\"Looking for the optimal value for eps...\")\n",
    "check = False\n",
    "for eps_val in eps_vals:\n",
    "    if check:\n",
    "        print(f\"testing eps = {eps_val:0.4f}\")\n",
    "    x_dbscan_clustered_local = DBSCAN(eps = eps_val, min_samples = min_samples_val).fit(dbscan_source)\n",
    "    x_cluster_ids_local = x_dbscan_clustered_local.labels_\n",
    "    if check:\n",
    "        print(f\"result: {np.unique(x_cluster_ids_local)}\")\n",
    "    try:\n",
    "        assert len(np.unique(x_cluster_ids_local)) <= max_n_clusters_for_correl\n",
    "        eps_val_final = eps_val\n",
    "        x_dbscan_clustered = x_dbscan_clustered_local\n",
    "        x_cluster_ids = x_cluster_ids_local\n",
    "    except AssertionError:\n",
    "        break\n",
    "#\n",
    "print(f\"final result: {np.unique(x_cluster_ids)}\")\n",
    "## clusterごとに分野の帰属数を集計 \n",
    "selector_var = 'domain'\n",
    "bindings = zip(plot_df[doc_type], plot_df[selector_var], x_dbscan_clustered.labels_)\n",
    "binding_df = pd.DataFrame(bindings, columns = [doc_type, selector_var, 'cluster'])\n",
    "selector_names = sorted(set(binding_df[selector_var]))\n",
    "print(f\"selector_names: {selector_names}\")\n",
    "cluster_ids = sorted(set(binding_df['cluster']))\n",
    "print(f\"cluster ids: {cluster_ids}\")\n",
    "clusterwise_counts = { selector_name : None for selector_name in selector_names }\n",
    "for selector_name in selector_names:\n",
    "    counts = [ ]\n",
    "    selected = binding_df[ binding_df[selector_var] == selector_name ]\n",
    "    for i, cluster_id in enumerate(cluster_ids):\n",
    "        matched = selected[ selected['cluster'] == cluster_id ]\n",
    "        n_matches = len(matched)\n",
    "        if n_matches == 0:\n",
    "            counts.append(0)\n",
    "        else:\n",
    "            counts.append(int(n_matches))\n",
    "    clusterwise_counts[selector_name] = counts\n",
    "\n",
    "## クラスターでの生起個数の間の相関を計算\n",
    "clusterwise_counts_df = pd.DataFrame.from_dict(clusterwise_counts) ## Truly versatile\n",
    "clusterwise_counts_df"
   ]
  },
  {
   "cell_type": "markdown",
   "id": "38f9c9ef",
   "metadata": {},
   "source": [
    "Heatmap で co-clusteredness 相関を可視化"
   ]
  },
  {
   "cell_type": "code",
   "execution_count": null,
   "id": "fd2081a0",
   "metadata": {},
   "outputs": [],
   "source": [
    "## Heatmap で可視化\n",
    "## 語境界を追加すると分離が良くなるし，n が大きい程，分離が良い\n",
    "\n",
    "import seaborn as sns\n",
    "counts_df_normalized = (clusterwise_counts_df - clusterwise_counts_df.min())/(clusterwise_counts_df.max() - clusterwise_counts_df.min())\n",
    "corr_df = counts_df_normalized.corr()\n",
    "#corr_df.sort_index(axis = 0, inplace = True)\n",
    "#corr_df.sort_index(axis = 1, inplace = True)\n",
    "n_selectors = len(selector_names)\n",
    "fig = plt.figure(figsize = (round(n_selectors * 0.9), round(n_selectors * 0.7)))\n",
    "sns.heatmap(corr_df, cmap = sns.color_palette('coolwarm', 10),\n",
    "            annot = True, fmt = '.2f', vmin = -1, vmax = 1)\n",
    "\n",
    "title_header = f\"Heatmap of correlations on co-clusteredness over\\n{len(cluster_ids)} clusters (DBSCAN: eps: {eps_val_final:0.3f}, min_samples: {min_samples_val}) with {len(dbscan_source)} {doc_type}s\\nfrom {n_selectors} {selector_var}s via \"\n",
    "if use_FastText:\n",
    "    if use_LDA:\n",
    "        title_body = f\"LDA ({n_topics} topics; term: {term_type}) x FastText ({ft_n_dims} dims; term: {ft_term_type}; window: {ft_window_size})\"\n",
    "    else:\n",
    "        title_body = f\"FastText ({ft_n_dims} dims; term: {ft_term_type}; window: {ft_window_size})\"\n",
    "else:\n",
    "    title_body = f\"LDA ({n_topics} topics; term_type: {term_type})\"\n",
    "title_val = title_header + title_body\n",
    "plt.title(title_val)\n",
    "plt.show()"
   ]
  },
  {
   "cell_type": "markdown",
   "id": "23f07287",
   "metadata": {},
   "source": [
    "# 階層クラスタリングのための再サンプリング"
   ]
  },
  {
   "cell_type": "code",
   "execution_count": null,
   "id": "6120459a-dc7a-42c9-bddc-97af49e74aed",
   "metadata": {},
   "outputs": [],
   "source": [
    "## 階層クラスタリングのための事例サンプリング\n",
    "hc_sampling_rate = 0.1 # 変更可能: 大きくし過ぎると図が見にくい\n",
    "df_size = len(df_filtered)\n",
    "if df_size > 600:\n",
    "    hc_df_sampled = df_filtered.sample(round(df_size * hc_sampling_rate), replace = False)\n",
    "    hc_df_sampled = hc_df_sampled.drop_duplicates(['word'])\n",
    "else:\n",
    "    hc_df_sampled = df_filtered\n",
    "##\n",
    "print(f\"{len(hc_df_sampled)} rows are sampled (preserve rate: {len(hc_df_sampled)/len(df_filtered):0.3f})\")"
   ]
  },
  {
   "cell_type": "code",
   "execution_count": null,
   "id": "1e3bf62e",
   "metadata": {},
   "outputs": [],
   "source": [
    "## HCデータの保存\n",
    "if save_df_sampled:\n",
    "    import datetime as dt\n",
    "    ct = dt.datetime.now()\n",
    "    ## Pandas で .csv として\n",
    "    import pandas as pd\n",
    "    # .csv \n",
    "    output_as_csv = f\"saves/df_sampled-{ct.date()}-{str(ct.time())[:2]}\" + \".csv\"\n",
    "    print(f\"saving data to {output_as_csv}\")\n",
    "    hc_df_sampled.to_csv(output_as_csv, encoding = \"utf-8\")\n",
    "    # .xlsx\n",
    "    output_as_xlsx = f\"saves/df_sampled-{ct.date()}-{str(ct.time())[:2]}\" + \".xlsx\"\n",
    "    print(f\"saving data to {output_as_xlsx}\")\n",
    "    hc_df_sampled.to_excel(output_as_xlsx)\n",
    "    ## pickle.dump(..)で\n",
    "    output_fn2 = f\"saves/df_sampled-{ct.date()}-{str(ct.time())[:2]}\" + \".p\"\n",
    "    import pickle\n",
    "    print(f\"saving data to {output_fn2}\")\n",
    "    with open(output_fn2, \"wb\") as f:\n",
    "        pickle.dump(hc_df_sampled, f)"
   ]
  },
  {
   "cell_type": "code",
   "execution_count": null,
   "id": "89f04c04",
   "metadata": {},
   "outputs": [],
   "source": [
    "## domain 事例数の確認\n",
    "hc_df_sampled['domain'].value_counts(sort = True).sort_index()"
   ]
  },
  {
   "cell_type": "markdown",
   "id": "1c56414e",
   "metadata": {},
   "source": [
    "階層クラスタリング"
   ]
  },
  {
   "cell_type": "code",
   "execution_count": null,
   "id": "10c98443-9d46-4d22-a51a-10f4029b7f7b",
   "metadata": {},
   "outputs": [],
   "source": [
    "## plotly が必要な場合に実行\n",
    "#!pip install -U plotly"
   ]
  },
  {
   "cell_type": "code",
   "execution_count": null,
   "id": "cb10f398",
   "metadata": {},
   "outputs": [],
   "source": [
    "## doc 階層クラスタリングの実行\n",
    "import numpy as np\n",
    "import matplotlib.pyplot as plt\n",
    "import plotly\n",
    "from scipy.cluster.hierarchy import dendrogram, linkage\n",
    "## 日本語表示のための設定\n",
    "plt.rcParams[\"font.family\"] = \"Hiragino sans\" # Windows/Linux では別のフォントを指定\n",
    "## 描画サイズの指定\n",
    "plt.figure(figsize = (6, round(10 * len(hc_df_sampled) * 0.017))) # This needs to be run here, before dendrogram construction.\n",
    "## 距離行列の構築\n",
    "linkage_methods = [ 'centroid', 'median', 'ward' ]\n",
    "linkage_method = linkage_methods[1]\n",
    "#\n",
    "doc_linkage = linkage(list(hc_df_sampled['enc']),\n",
    "                      method = linkage_method, metric = 'euclidean')\n",
    "## 事例ラベルの生成\n",
    "label_vals = [ x[:max_doc_length] for x in list(hc_df_sampled[doc_type]) ] # truncate doc keys\n",
    "## 樹状分岐図の作成\n",
    "dendrogram(doc_linkage, orientation = 'left', labels = label_vals, leaf_font_size = 8)\n",
    "\n",
    "## 題の指定\n",
    "df_size = len(hc_df_sampled)\n",
    "sampling_rate = f\"{100 * hc_sampling_rate:.2f}\"\n",
    "domain_names = ', '.join(selected_domains.keys())\n",
    "title_body = f\"Hierarchical clustering of {df_size} docs (= {sampling_rate}% sample) in\\n\\\n",
    "    <{domain_names}> domains via\\n\"\n",
    "if use_FastText:\n",
    "    if use_LDA:\n",
    "        title_val = title_body + f\"{term_type}-based {encoding_method} (topics {n_topics}; dims: {ft_n_dims}, term: {ft_term_type}; window size: {ft_window_size})\"\n",
    "    else:\n",
    "        title_val = title_body + f\"{encoding_method} (dims: {n_topics}, term: {ft_term_type}; window: {ft_window_size})\"\n",
    "else:\n",
    "    title_val = title_body + f\"{term_type}-based {encoding_method} ({n_topics} topics)\"\n",
    "plt.title(title_val)\n",
    "\n",
    "## ラベルに domain に対応する色を付ける\n",
    "ax = plt.gca()\n",
    "for ticker in ax.get_ymajorticklabels():\n",
    "    word = ticker.get_text()\n",
    "    ## filter matched rows\n",
    "    matched_rows = hc_df_sampled.loc[hc_df_sampled[doc_type] == word]\n",
    "    if len(matched_rows) == 1:\n",
    "        row = matched_rows\n",
    "    else:\n",
    "        try:\n",
    "            #row = matched_rows[0] #fails to work?\n",
    "            row = matched_rows.iloc[0] # matched_rows[0] fails to work\n",
    "        except IndexError:\n",
    "            pass\n",
    "    ## extract domain_id value\n",
    "    try:\n",
    "        domain_id = int(row['domain_id'])\n",
    "        ticker.set_color(colormap[domain_id]) # id の基数調整\n",
    "    except TypeError:\n",
    "        pass\n",
    "#\n",
    "plt.show()"
   ]
  },
  {
   "cell_type": "code",
   "execution_count": null,
   "id": "6dcaabad",
   "metadata": {},
   "outputs": [],
   "source": [
    "## aberrated の混ざったdoc 階層クラスタリングの実行\n",
    "aberrations = hc_df_sampled[hc_df_sampled['aberrated'] == 1][doc_type]\n",
    "print(aberrations)"
   ]
  },
  {
   "cell_type": "code",
   "execution_count": null,
   "id": "73a89dc3",
   "metadata": {},
   "outputs": [],
   "source": [
    "## 逸脱ありdoc 階層クラスタリングの実行\n",
    "if len(aberrations) == 0:\n",
    "    exit(0)\n",
    "##\n",
    "import numpy as np\n",
    "import matplotlib.pyplot as plt\n",
    "import plotly\n",
    "from scipy.cluster.hierarchy import dendrogram, linkage\n",
    "## 日本語表示のための設定\n",
    "plt.rcParams[\"font.family\"] = \"Hiragino sans\" # Windows/Linux では別のフォントを指定\n",
    "## 描画サイズの指定\n",
    "plt.figure(figsize = (6, round(10 * len(hc_df_sampled) * 0.017))) # This needs to be run here, before dendrogram construction.\n",
    "## 距離行列の構築\n",
    "doc_linkage = linkage(list(hc_df_sampled['enc']), method = 'ward', metric = 'euclidean')\n",
    "## 事例ラベルの生成\n",
    "label_vals = [ x[:max_doc_length] for x in list(hc_df_sampled[doc_type]) ] # truncate doc keys\n",
    "## 樹状分岐図の作成\n",
    "dendrogram(doc_linkage, orientation = 'left', labels = label_vals, leaf_font_size = 8)\n",
    "## 題の指定\n",
    "df_size = len(hc_df_sampled)\n",
    "sampling_rate = f\"{100 * hc_sampling_rate:.2f}\"\n",
    "domain_names = ', '.join(selected_domains.keys())\n",
    "title_header = f\"Hierarchical clustering of {df_size} docs (= {sampling_rate}% sample) in\\n<{domain_names}> domains via\\n\" \n",
    "title_tail = f\"\\nincluding aberrated medical terms\"\n",
    "if use_FastText:\n",
    "    if use_LDA:\n",
    "        title_val = title_header + f\"LDA ({n_topics} topics; term: {term_type}) x FastText ({ft_n_dims} dims; term: {ft_term_type}; window: {ft_window_size})\" + title_tail\n",
    "    else:\n",
    "        title_val = title_header + f\"FastText ({ft_n_dims} dims; term: {ft_term_type}; window: {ft_window_size})\" + title_tail\n",
    "else:\n",
    "    title_val = title_header + f\"LDA ({n_topics} topics; term: {term_type})\" + title_tail\n",
    "plt.title(title_val)\n",
    "## aberrated == 1 の事例を色分けする\n",
    "ax = plt.gca()\n",
    "check = False\n",
    "for ticker in ax.get_ymajorticklabels():\n",
    "    word = ticker.get_text()\n",
    "    if check:\n",
    "        print(f\"word: {word}\")\n",
    "    if word in set(aberrations):\n",
    "        if check:\n",
    "            print(f\"aberrated word:{word}\")\n",
    "        ticker.set_color('red')\n",
    "#\n",
    "plt.show()"
   ]
  },
  {
   "cell_type": "markdown",
   "id": "ab30d79b",
   "metadata": {},
   "source": [
    "# Terms のエンコードとクラスタリング"
   ]
  },
  {
   "cell_type": "code",
   "execution_count": null,
   "id": "bfe02cff",
   "metadata": {},
   "outputs": [],
   "source": [
    "## term のLDA モデルを使ったエンコード\n",
    "## get_term_topics(..) では　minimum_probability = 0 としてもprobabaly = 0 の topic IDs が\n",
    "## 得られないので，sparse encoding しか得られない\n",
    "lda_term_sparse_enc = { term : { x[0] : x[1] for x in doc_lda.get_term_topics(tid, minimum_probability = 0) } for tid, term in diction.items() }\n",
    "\n",
    "## check\n",
    "#pp.pprint(random.sample(lda_term_sparse_enc.items(), 3))\n",
    "pp.pprint(random.sample(sorted(lda_term_sparse_enc.items()), 3))\n",
    "print(f\"Number of terms: {len(lda_term_sparse_enc)}\")"
   ]
  },
  {
   "cell_type": "code",
   "execution_count": null,
   "id": "028ed63c",
   "metadata": {},
   "outputs": [],
   "source": [
    "## pandas を使って sparse_enc を full enc に変換\n",
    "lda_term_enc_df = pd.DataFrame.from_dict( { k : pd.Series(v) for k, v in\n",
    "                                                lda_term_sparse_enc.items()} )\n",
    "## 上で生じたNaN を0に変換\n",
    "lda_term_enc_df = lda_term_enc_df.fillna(0)    \n",
    "\n",
    "## データを転地\n",
    "lda_term_enc_df = lda_term_enc_df.transpose()\n",
    "lda_term_enc_df"
   ]
  },
  {
   "cell_type": "code",
   "execution_count": null,
   "id": "30b27445",
   "metadata": {},
   "outputs": [],
   "source": [
    "## term のtopic の総和の分布を見る\n",
    "import matplotlib.pyplot as plt\n",
    "plt.hist(lda_term_enc_df.sum(axis = 1), bins = 50)\n",
    "plt.title(f\"Distribution of topic value sums to terms via LDA\")\n",
    "plt.show()"
   ]
  },
  {
   "cell_type": "code",
   "execution_count": null,
   "id": "c5a1b95d",
   "metadata": {},
   "outputs": [],
   "source": [
    "## filtering terms: density で filtering\n",
    "size0 = len(lda_term_enc_df)\n",
    "lowest_density = 0.0001\n",
    "lda_term_enc_df_filtered = lda_term_enc_df[ lda_term_enc_df.sum(axis = 1) > lowest_density ]\n",
    "size1 = len(lda_term_enc_df_filtered)\n",
    "print(f\"{size1} rows remain, discarding {size0 - size1} rows\")"
   ]
  },
  {
   "cell_type": "code",
   "execution_count": null,
   "id": "e3b7d8db",
   "metadata": {},
   "outputs": [],
   "source": [
    "## sampling term_enc_df for hc\n",
    "term_hc_sampling_rate = 0.01\n",
    "sampled_term_enc_df = \\\n",
    "    lda_term_enc_df_filtered.sample(round(len(lda_term_enc_df_filtered) * term_hc_sampling_rate))\n",
    "#\n",
    "sampled_term_enc_df"
   ]
  },
  {
   "cell_type": "code",
   "execution_count": null,
   "id": "4c1b4abe",
   "metadata": {},
   "outputs": [],
   "source": [
    "## term length で filtering\n",
    "min_length = 2\n",
    "max_length = 4\n",
    "len_filter = [ len(x) >= min_length and len(x) <= max_length for x in sampled_term_enc_df.index ]\n",
    "sampled_term_enc_df = sampled_term_enc_df[len_filter]\n",
    "size2 = len(sampled_term_enc_df)\n",
    "print(f\"{size2} rows remain, discarding {size1 - size2} rows\")\n",
    "#\n",
    "sampled_term_enc_df"
   ]
  },
  {
   "cell_type": "markdown",
   "id": "0eb74b57",
   "metadata": {},
   "source": [
    "Term の階層クラスタリング"
   ]
  },
  {
   "cell_type": "code",
   "execution_count": null,
   "id": "0eaddf3a",
   "metadata": {},
   "outputs": [],
   "source": [
    "## term の階層クラスタリングの実行\n",
    "\n",
    "import numpy as np\n",
    "import matplotlib.pyplot as plt\n",
    "from scipy.cluster.hierarchy import dendrogram, linkage\n",
    "\n",
    "## 日本語表示のための設定\n",
    "plt.rcParams[\"font.family\"] = \"Hiragino sans\" # Windows/Linux では別のフォントを指定\n",
    "\n",
    "## 描画サイズの指定\n",
    "plt.figure(figsize = (6, round(10 * len(sampled_term_enc_df) * 0.017))) # This needs to be run here, before dendrogram construction.\n",
    "\n",
    "## 距離行列の構築\n",
    "linkage_methods = [ 'centroid', 'median', 'ward' ]\n",
    "linkage_method = linkage_methods[-1]\n",
    "term_linkage = linkage(sampled_term_enc_df, method = linkage_method, metric = 'euclidean')\n",
    "\n",
    "## 事例ラベルの生成\n",
    "max_term_length = max([ len(x) for x in list(sampled_term_enc_df.index)])\n",
    "label_vals = [ x[:max_term_length] for x in list(sampled_term_enc_df.index) ] # truncate doc keys\n",
    "## 樹状分岐図の作成\n",
    "dendrogram(term_linkage, orientation = 'left', labels = label_vals, leaf_font_size = 8)\n",
    "\n",
    "## 題の指定\n",
    "term_df_size = len(sampled_term_enc_df)\n",
    "sampling_rate = f\"{100 * term_hc_sampling_rate:.2f}\"\n",
    "domain_names = ', '.join(selected_domains.keys())\n",
    "title_header = f\"Hierarchical clustering of {term_df_size} terms of lengths {min_length}-{max_length} (= {term_hc_sampling_rate}% sample) in\\n\\\n",
    "    <{domain_names}> domains via\\n\"\n",
    "title_body = f\"LDA ({n_topics} topics; term: {term_type})\"\n",
    "title_val = title_header + title_body\n",
    "plt.title(title_val)\n",
    "#\n",
    "plt.show()"
   ]
  },
  {
   "cell_type": "markdown",
   "id": "01953276",
   "metadata": {},
   "source": [
    "# Topics のクラスタリング"
   ]
  },
  {
   "cell_type": "code",
   "execution_count": null,
   "id": "b18e5644-5510-42f5-acf9-295253c3d901",
   "metadata": {},
   "outputs": [],
   "source": [
    "## LDA がD に対して生成した topics の弁別性を確認\n",
    "## 得られたtopics を確認\n",
    "topic_dist = doc_lda.get_topics()\n",
    "if check:\n",
    "    random.sample(list(topic_dist), 5)"
   ]
  },
  {
   "cell_type": "code",
   "execution_count": null,
   "id": "a0063e1b-c379-419c-b66b-012beb18c413",
   "metadata": {},
   "outputs": [],
   "source": [
    "## 検査 1: topic ごとに分布の和を取る\n",
    "topic_dist.sum(axis = 1)"
   ]
  },
  {
   "cell_type": "code",
   "execution_count": null,
   "id": "3f67262e-e8c3-4391-a82b-987e8864c365",
   "metadata": {},
   "outputs": [],
   "source": [
    "## 検査 2: 総和を求める: n_topics に (ほぼ) 等しいなら正常\n",
    "round(topic_dist.sum())"
   ]
  },
  {
   "cell_type": "code",
   "execution_count": null,
   "id": "75428e0e",
   "metadata": {},
   "outputs": [],
   "source": [
    "## topic の階層クラスタリング\n",
    "import numpy as np\n",
    "import matplotlib.pyplot as plt\n",
    "from scipy.cluster.hierarchy import dendrogram, linkage\n",
    "## 作図範囲の指定\n",
    "plt.figure(figsize = (5, 6))\n",
    "## 距離行列の生成\n",
    "topic_linkage = linkage(topic_dist, method = 'ward', metric = 'euclidean')\n",
    "dendrogram(topic_linkage, orientation = 'left')\n",
    "## 作図\n",
    "plt.xlim(0.5, 0) # 異なる分析に比較を楽にするために，x軸の大きさを固定\n",
    "plt.title(f\"Hirarchical clustering of {n_topics} topics [0-based]\")\n",
    "plt.show()"
   ]
  },
  {
   "cell_type": "code",
   "execution_count": null,
   "id": "87bf4e1d",
   "metadata": {},
   "outputs": [],
   "source": [
    "## tSNE を使った topic のクラスタリング\n",
    "import sklearn.manifold\n",
    "\n",
    "## 必要に応じて reload\n",
    "need_reloading = False\n",
    "if (need_reloading):\n",
    "    import importlib\n",
    "    importlib.reload(sklearn)\n",
    "\n",
    "## tSNE のパラメターを設定\n",
    "## n_components は射影先の空間の次元: n_components = 3 なら3次元空間に射影\n",
    "## perplexity は結合の強さを表わす指数で，値に拠って結果が代わるので，色々な値を試すと良い\n",
    "relative = True\n",
    "if relative:\n",
    "    #top_perplexity_reduct_rate = 0.5 # 定義は先頭に移動\n",
    "    top_perplexity_val = round(n_topics * top_perplexity_reduct_rate)\n",
    "else:\n",
    "    top_perplexity_val = 5 # 大き過ぎると良くない\n",
    "print(f\"top_perplexity_val: {top_perplexity_val}\")\n",
    "\n",
    "## 3D version\n",
    "try:\n",
    "    top_tSNE_3d = sklearn.manifold.TSNE(n_components = 3, random_state = 0,\n",
    "                                perplexity = top_perplexity_val, max_iter = 1000)\n",
    "except TypeError:\n",
    "    top_tSNE_3d = sklearn.manifold.TSNE(n_components = 3, random_state = 0,\n",
    "                                perplexity = top_perplexity_val, n_iter = 1000)\n"
   ]
  },
  {
   "cell_type": "code",
   "execution_count": null,
   "id": "ac4ccf66-7077-4a35-8dd1-1bd0c23f2131",
   "metadata": {},
   "outputs": [],
   "source": [
    "## topic_dist データに適用 topic_dist のグループ化 (3D)\n",
    "topic_tsne_3d = top_tSNE_3d.fit_transform(topic_dist)"
   ]
  },
  {
   "cell_type": "code",
   "execution_count": null,
   "id": "7f6eeff0",
   "metadata": {},
   "outputs": [],
   "source": [
    "## 必要に応じて Plotly を導入\n",
    "#!pip3 install -U plotly"
   ]
  },
  {
   "cell_type": "code",
   "execution_count": null,
   "id": "38e28cc3-34af-4760-bd55-61fa4ea0f544",
   "metadata": {},
   "outputs": [],
   "source": [
    "%%capture --no-display\n",
    "## Plotlyを使って tSNE の結果の可視化 (3D)\n",
    "import numpy as np\n",
    "import plotly.graph_objects as go\n",
    "## 変数の指定\n",
    "d1, d2, d3 = topic_tsne_3d[:,0], topic_tsne_3d[:,1], topic_tsne_3d[:,2]\n",
    "fig = go.Figure(data = [go.Scatter3d(x = d1, y = d2, z = d3,\n",
    "                                     mode = 'markers', marker = dict(size = 7)) ])\n",
    "## 3D 散布図にラベルを追加する処理は未実装\n",
    "if use_FastText:\n",
    "    if use_LDA:\n",
    "        title_val = f\"tSNE 3D (ppl: {top_perplexity_val}) of topics from LDA ({n_topics} topics; term: {lda_term_type}) x FastText ({ft_n_dims} dims; term: {ft_term_type}; window: {ft_window_size})\"\n",
    "    else:\n",
    "        title_val = f\"tSNE 3D (ppl: {top_perplexity_val}) of dims under FastText ({n_topics} dims)\"\n",
    "else:\n",
    "    title_val = f\"tSNE 3D (ppl: {top_perplexity_val}) of topics from LDA ({n_topics} topics; term: {lda_term_type})\"\n",
    "#\n",
    "fig.update_layout(title = dict(text = title_val, font_size = 13),\n",
    "                  autosize = False, width = 600, height = 600,)\n",
    "fig.show()"
   ]
  }
 ],
 "metadata": {
  "celltoolbar": "Raw Cell Format",
  "kernelspec": {
   "display_name": "base",
   "language": "python",
   "name": "python3"
  },
  "language_info": {
   "codemirror_mode": {
    "name": "ipython",
    "version": 3
   },
   "file_extension": ".py",
   "mimetype": "text/x-python",
   "name": "python",
   "nbconvert_exporter": "python",
   "pygments_lexer": "ipython3",
   "version": "3.11.11"
  },
  "widgets": {
   "application/vnd.jupyter.widget-state+json": {
    "state": {},
    "version_major": 2,
    "version_minor": 0
   }
  }
 },
 "nbformat": 4,
 "nbformat_minor": 5
}
